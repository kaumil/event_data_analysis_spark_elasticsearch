{
 "cells": [
  {
   "cell_type": "code",
   "execution_count": 1,
   "id": "documented-cruise",
   "metadata": {},
   "outputs": [],
   "source": [
    "from hdfs import InsecureClient\n",
    "from pyspark.sql import SparkSession\n",
    "import json\n",
    "from elasticsearch import Elasticsearch,helpers"
   ]
  },
  {
   "cell_type": "code",
   "execution_count": 2,
   "id": "defensive-latin",
   "metadata": {},
   "outputs": [],
   "source": [
    "#Setting up Elasticsearch Client\n",
    "es = Elasticsearch(hosts=\"elasticsearch:9200\",http_auth=(\"elastic\",\"elastic@1234\"))"
   ]
  },
  {
   "cell_type": "markdown",
   "id": "inside-chassis",
   "metadata": {},
   "source": [
    "### Listing all files stored at the /dfs-data location"
   ]
  },
  {
   "cell_type": "code",
   "execution_count": 3,
   "id": "adjusted-functionality",
   "metadata": {},
   "outputs": [],
   "source": [
    "client = InsecureClient(\"http://hadoop-filebeat:50070\",user=\"nifi\")\n",
    "client.list('/dfs-data')"
   ]
  },
  {
   "cell_type": "markdown",
   "id": "destroyed-greeting",
   "metadata": {},
   "source": [
    "### Initializing Spark Session object"
   ]
  },
  {
   "cell_type": "code",
   "execution_count": 5,
   "id": "speaking-tennis",
   "metadata": {},
   "outputs": [],
   "source": [
    "spark = (SparkSession\n",
    "        .builder\n",
    "        .appName(\"hdfsprocessor\")\n",
    "        .config(\"spark.jars\",\"/home/jovyan/spark_conf/elasticsearch-hadoop-7.11.1/dist/elasticsearch-hadoop-7.11.1.jar\")\n",
    "        .config(\"spark.jars\",\"/home/jovyan/spark_conf/elasticsearch-hadoop-7.11.1/dist/elasticsearch-spark-20_2.11-7.11.1.jar\") \n",
    "        .config(\"spark.es.nodes\",\"elasticsearch\")\n",
    "        .config(\"spark.es.port\",\"9200\")\n",
    "        .getOrCreate())"
   ]
  },
  {
   "cell_type": "markdown",
   "id": "announced-press",
   "metadata": {},
   "source": [
    "### Inserting documents into Elasticsearch cluster"
   ]
  },
  {
   "cell_type": "code",
   "execution_count": 1,
   "id": "hearing-relation",
   "metadata": {},
   "outputs": [],
   "source": [
    "# Initializing a list to insert into elasticsearch\n",
    "final_json_list = []"
   ]
  },
  {
   "cell_type": "code",
   "execution_count": 11,
   "id": "established-topic",
   "metadata": {},
   "outputs": [],
   "source": [
    "for file in client.list('/dfs-data'):\n",
    "    df_load = spark.read.format(\"csv\").option(\"delimiter\", \",\").option(\"header\", \"false\").load(f\"hdfs://hadoop-filebeat:8020/dfs-data/{file}\")\n",
    "    final_df = df_load.select(df_load._c0.alias('collision_id'), df_load._c1.alias('crash_date'), df_load._c2.alias('crash_time'), df_load._c3.alias('borough'), df_load._c4.alias('zip_code'), df_load._c5.alias(\n",
    "    'latitude'), df_load._c6.alias('longitude'), df_load._c7.alias('on_street_name'), df_load._c9.alias('number_of_persons_injured'), df_load._c10.alias('number_of_persons_killed'), df_load._c19.alias('vehicle_type'))\n",
    "#     final_df.coalesce(1).write.format(\"csv\").save(f\"hdfs://hadoop-filebeat:8020/csv-data/{file}.csv\") #\n",
    "    json_ = final_df.toJSON().map(lambda j: json.loads(j)).collect()\n",
    "    final_json_list.extend(json_)"
   ]
  },
  {
   "cell_type": "code",
   "execution_count": 13,
   "id": "centered-wayne",
   "metadata": {},
   "outputs": [
    {
     "name": "stderr",
     "output_type": "stream",
     "text": [
      "/opt/conda/lib/python3.8/site-packages/elasticsearch/connection/base.py:200: ElasticsearchWarning: [types removal] Specifying types in bulk requests is deprecated.\n",
      "  warnings.warn(message, category=ElasticsearchWarning)\n"
     ]
    },
    {
     "data": {
      "text/plain": [
       "(15, [])"
      ]
     },
     "execution_count": 13,
     "metadata": {},
     "output_type": "execute_result"
    }
   ],
   "source": [
    "helpers.bulk(\n",
    "        es,\n",
    "        final_json_list,\n",
    "        index='elk_project',\n",
    "        doc_type='_doc')"
   ]
  },
  {
   "cell_type": "code",
   "execution_count": null,
   "id": "smaller-diary",
   "metadata": {},
   "outputs": [],
   "source": []
  }
 ],
 "metadata": {
  "kernelspec": {
   "display_name": "Python 3",
   "language": "python",
   "name": "python3"
  },
  "language_info": {
   "codemirror_mode": {
    "name": "ipython",
    "version": 3
   },
   "file_extension": ".py",
   "mimetype": "text/x-python",
   "name": "python",
   "nbconvert_exporter": "python",
   "pygments_lexer": "ipython3",
   "version": "3.8.8"
  }
 },
 "nbformat": 4,
 "nbformat_minor": 5
}
