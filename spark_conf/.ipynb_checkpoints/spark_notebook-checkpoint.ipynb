{
 "cells": [
  {
   "cell_type": "code",
   "execution_count": 1,
   "id": "documented-cruise",
   "metadata": {},
   "outputs": [],
   "source": [
    "from hdfs import InsecureClient\n",
    "from pyspark.sql import SparkSession\n",
    "import json\n",
    "from elasticsearch import Elasticsearch,helpers"
   ]
  },
  {
   "cell_type": "code",
   "execution_count": 2,
   "id": "defensive-latin",
   "metadata": {},
   "outputs": [],
   "source": [
    "es = Elasticsearch(hosts=\"elasticsearch:9200\",http_auth=(\"elastic\",\"elastic@1234\"))"
   ]
  },
  {
   "cell_type": "code",
   "execution_count": 49,
   "id": "tight-collaboration",
   "metadata": {},
   "outputs": [],
   "source": [
    "# import os\n",
    "# os.environ['PYSPARK_SUBMIT_ARGS'] = '--jars /home/jovyan/spark_conf/elasticsearch-hadoop-7.11.1/dist/elasticsearch-hadoop-7.11.1.jar --driver-class-path /home/jovyan/spark_conf/elasticsearch-hadoop-7.11.1/dist/elasticsearch-hadoop-7.11.1.jar pyspark-shell'\n",
    "# os.environ['PYSPARK_SUBMIT_ARGS'] = '--jars /home/jovyan/spark_conf/elasticsearch-hadoop-7.11.1/dist/elasticsearch-spark-20_2.11-7.11.1.jar --driver-class-path /home/jovyan/spark_conf/elasticsearch-hadoop-7.11.1/dist/elasticsearch-spark-20_2.11-7.11.1.jar pyspark-shell'"
   ]
  },
  {
   "cell_type": "code",
   "execution_count": 3,
   "id": "adjusted-functionality",
   "metadata": {},
   "outputs": [],
   "source": [
    "client = InsecureClient(\"http://hadoop-filebeat:50070\",user=\"nifi\")"
   ]
  },
  {
   "cell_type": "code",
   "execution_count": 4,
   "id": "beneficial-panama",
   "metadata": {},
   "outputs": [
    {
     "data": {
      "text/plain": [
       "['00cf8c06-8263-4748-8b6b-421bdd141553',\n",
       " '03f31c9a-8e29-4bc5-a0ee-240d3aa42d87',\n",
       " '0ed14d9b-517b-48e5-a21f-bc48069c6859',\n",
       " '13a0978f-00b1-4b1f-be1a-78d039b10880',\n",
       " '1beaa5a0-c44e-4edf-907f-8db6bff6e238',\n",
       " '1c70e0d6-aa67-40b8-bd87-de349efa863e',\n",
       " '34ffde6a-4e2e-4c37-8557-12fc90c6164f',\n",
       " '379fa46f-d401-4b09-8ca0-f28b38743bec',\n",
       " '8251ce38-7b37-4daa-88b4-3ba34bda39a4',\n",
       " '9629c030-352e-4dd1-936e-49b5cafb4949',\n",
       " 'cb2dbc2b-e2d7-4548-abf5-8c461ea67d3e',\n",
       " 'd560be0f-1c0c-462b-ac1b-a8516ec7fe7c',\n",
       " 'e7b39a25-5c87-44b5-ab92-93bba6498bec',\n",
       " 'eb0af216-1dcd-4c15-8173-cdaf1a3c587f',\n",
       " 'fd2413a2-6d6c-4b2d-ad2d-fa7a965fda56']"
      ]
     },
     "execution_count": 4,
     "metadata": {},
     "output_type": "execute_result"
    }
   ],
   "source": [
    "client.list('/dfs-data')"
   ]
  },
  {
   "cell_type": "code",
   "execution_count": 5,
   "id": "speaking-tennis",
   "metadata": {},
   "outputs": [],
   "source": [
    "spark = (SparkSession\n",
    "        .builder\n",
    "        .appName(\"hdfsprocessor\")\n",
    "        .config(\"spark.jars\",\"/home/jovyan/spark_conf/elasticsearch-hadoop-7.11.1/dist/elasticsearch-hadoop-7.11.1.jar\")\n",
    "        .config(\"spark.jars\",\"/home/jovyan/spark_conf/elasticsearch-hadoop-7.11.1/dist/elasticsearch-spark-20_2.11-7.11.1.jar\") \n",
    "        .config(\"spark.es.nodes\",\"elasticsearch\")\n",
    "        .config(\"spark.es.port\",\"9200\")\n",
    "        .getOrCreate())"
   ]
  },
  {
   "cell_type": "code",
   "execution_count": 55,
   "id": "pleased-hawaiian",
   "metadata": {},
   "outputs": [],
   "source": [
    "file = \"1e20e01b-1c63-4de4-873d-0d6e0cfec962\"\n",
    "df_load = spark.read.format(\"csv\").option(\"delimiter\", \",\").option(\"header\", \"false\").load(f\"hdfs://hadoop-filebeat:8020/dfs-data/{file}\")\n",
    "final_df = df_load.select(df_load._c0.alias('collision_id'), df_load._c1.alias('crash_date'), df_load._c2.alias('crash_time'), df_load._c3.alias('borough'), df_load._c4.alias('zip_code'), df_load._c5.alias('latitude'), df_load._c6.alias('longitude'), df_load._c7.alias('on_street_name'), df_load._c9.alias('number_of_persons_injured'), df_load._c10.alias('number_of_persons_killed'), df_load._c19.alias('vehicle_type'))\n",
    "# final_df.coalesce(1).write.format(\"csv\").save(f\"http://filebeat:5044/{file}.csv\")"
   ]
  },
  {
   "cell_type": "code",
   "execution_count": 22,
   "id": "actual-grace",
   "metadata": {},
   "outputs": [],
   "source": [
    "# !pyspark --jars elasticsearch-hadoop-7.11.1/dist/elasticsearch-hadoop-7.11.1.jar --driver-class-path elasticsearch-hadoop-7.11.1/dist/elasticsearch-hadoop-7.11.1.jar"
   ]
  },
  {
   "cell_type": "code",
   "execution_count": 56,
   "id": "drawn-antique",
   "metadata": {},
   "outputs": [],
   "source": [
    "df = spark.read.csv(f\"hdfs://hadoop-filebeat:8020/dfs-data/{file}\",header=False)"
   ]
  },
  {
   "cell_type": "code",
   "execution_count": 78,
   "id": "integrated-leave",
   "metadata": {},
   "outputs": [],
   "source": [
    "df_final = df.select(df._c0.alias('collision_id'), df._c1.alias('crash_date'), df._c2.alias('crash_time'), df._c3.alias('borough'), df._c4.alias('zip_code'), df._c5.alias('latitude'), df._c6.alias('longitude'), df._c7.alias('on_street_name'), df._c9.alias('number_of_persons_injured'), df._c10.alias('number_of_persons_killed'), df._c19.alias('vehicle_type'))"
   ]
  },
  {
   "cell_type": "code",
   "execution_count": 79,
   "id": "satisfied-period",
   "metadata": {},
   "outputs": [],
   "source": [
    "# rdd = df_final.toJSON().map(lambda j: json.loads(j)).collect()\n",
    "rdd_mapped = df_final.rdd.map(lambda x:x.asDict())"
   ]
  },
  {
   "cell_type": "code",
   "execution_count": 80,
   "id": "interim-reggae",
   "metadata": {},
   "outputs": [],
   "source": [
    "final_rdd = rdd_mapped.map(transform)"
   ]
  },
  {
   "cell_type": "code",
   "execution_count": 10,
   "id": "transparent-netscape",
   "metadata": {},
   "outputs": [],
   "source": [
    "final_json_list = []"
   ]
  },
  {
   "cell_type": "code",
   "execution_count": 11,
   "id": "established-topic",
   "metadata": {},
   "outputs": [],
   "source": [
    "for file in client.list('/dfs-data'):\n",
    "    df_load = spark.read.format(\"csv\").option(\"delimiter\", \",\").option(\"header\", \"false\").load(f\"hdfs://hadoop-filebeat:8020/dfs-data/{file}\")\n",
    "    final_df = df_load.select(df_load._c0.alias('collision_id'), df_load._c1.alias('crash_date'), df_load._c2.alias('crash_time'), df_load._c3.alias('borough'), df_load._c4.alias('zip_code'), df_load._c5.alias(\n",
    "    'latitude'), df_load._c6.alias('longitude'), df_load._c7.alias('on_street_name'), df_load._c9.alias('number_of_persons_injured'), df_load._c10.alias('number_of_persons_killed'), df_load._c19.alias('vehicle_type'))\n",
    "#     final_df.coalesce(1).write.format(\"csv\").save(f\"hdfs://hadoop-filebeat:8020/csv-data/{file}.csv\")\n",
    "    json_ = final_df.toJSON().map(lambda j: json.loads(j)).collect()\n",
    "    final_json_list.extend(json_)"
   ]
  },
  {
   "cell_type": "code",
   "execution_count": 13,
   "id": "centered-wayne",
   "metadata": {},
   "outputs": [
    {
     "name": "stderr",
     "output_type": "stream",
     "text": [
      "/opt/conda/lib/python3.8/site-packages/elasticsearch/connection/base.py:200: ElasticsearchWarning: [types removal] Specifying types in bulk requests is deprecated.\n",
      "  warnings.warn(message, category=ElasticsearchWarning)\n"
     ]
    },
    {
     "data": {
      "text/plain": [
       "(15, [])"
      ]
     },
     "execution_count": 13,
     "metadata": {},
     "output_type": "execute_result"
    }
   ],
   "source": [
    "helpers.bulk(\n",
    "        es,\n",
    "        final_json_list,\n",
    "        index='elk_project',\n",
    "        doc_type='_doc')"
   ]
  },
  {
   "cell_type": "code",
   "execution_count": null,
   "id": "apart-sierra",
   "metadata": {},
   "outputs": [],
   "source": []
  }
 ],
 "metadata": {
  "kernelspec": {
   "display_name": "Python 3",
   "language": "python",
   "name": "python3"
  },
  "language_info": {
   "codemirror_mode": {
    "name": "ipython",
    "version": 3
   },
   "file_extension": ".py",
   "mimetype": "text/x-python",
   "name": "python",
   "nbconvert_exporter": "python",
   "pygments_lexer": "ipython3",
   "version": "3.8.8"
  }
 },
 "nbformat": 4,
 "nbformat_minor": 5
}
