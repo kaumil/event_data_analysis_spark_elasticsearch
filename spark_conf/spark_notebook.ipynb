{
 "cells": [
  {
   "cell_type": "code",
   "execution_count": 1,
   "metadata": {},
   "outputs": [],
   "source": [
    "import warnings\n",
    "warnings.filterwarnings('ignore')\n",
    "\n",
    "from hdfs import InsecureClient\n",
    "import json\n",
    "import re\n",
    "import pyspark\n",
    "import pyspark.sql.functions as F\n",
    "from pyspark.sql.types import StructType\n",
    "from pyspark.sql.window import Window\n",
    "from pyspark.sql import SparkSession, DataFrame\n",
    "from pyspark.conf import SparkConf\n",
    "from functools import reduce"
   ]
  },
  {
   "cell_type": "markdown",
   "metadata": {},
   "source": [
    "# Initializing Spark Session object"
   ]
  },
  {
   "cell_type": "code",
   "execution_count": 2,
   "metadata": {},
   "outputs": [],
   "source": [
    "class Config:\n",
    "\n",
    "    def __init__(self,\n",
    "                elasticsearch_host,\n",
    "                elasticsearch_port,\n",
    "                elasticsearch_auth_user,\n",
    "                elasticsearch_auth_pass,\n",
    "                hdfs_datanode_host,\n",
    "                hdfs_user):\n",
    "        self.elasticsearch_conf = {\n",
    "            'es.nodes': elasticsearch_host,\n",
    "            'es.port': elasticsearch_port,\n",
    "            'es.net.http.auth.user': elasticsearch_auth_user,\n",
    "            'es.net.http.auth.pass': elasticsearch_auth_pass\n",
    "        }\n",
    "        self.hdfs_datanode_host = hdfs_datanode_host\n",
    "        self.hdfs_user = hdfs_user\n",
    "        \n",
    "\n",
    "    def _initialize_spark_session(self,appName):\n",
    "        spark_app = (SparkSession\n",
    "                    .builder\n",
    "                    .appName(appName)\n",
    "                    .config(\"spark.jars\",\"/home/jovyan/spark_conf/elasticsearch-hadoop-7.12.0/dist/elasticsearch-hadoop-7.12.0.jar\")\n",
    "                    .config(\"spark.driver.extraClassPath\",\"/home/jovyan/spark_conf/elasticsearch-hadoop-7.12.0/dist/elasticsearch-hadoop-7.12.0.jar\")\n",
    "                    .getOrCreate())\n",
    "        return spark_app"
   ]
  },
  {
   "cell_type": "code",
   "execution_count": 3,
   "metadata": {},
   "outputs": [],
   "source": [
    "conf_options = {\n",
    "    \"spark.jars\": \"/home/jovyan/spark_conf/elasticsearch-hadoop-7.12.0/dist/elasticsearch-spark-20_2.11-7.12.0.jar\",\n",
    "    \"spark.es.nodes\": \"elasticsearch\",\n",
    "    \"spark.es.port\": \"9200\"\n",
    "}"
   ]
  },
  {
   "cell_type": "code",
   "execution_count": 4,
   "metadata": {},
   "outputs": [],
   "source": [
    "config = Config(elasticsearch_host=\"elasticsearch\",\n",
    "            elasticsearch_port=\"9200\",\n",
    "            elasticsearch_auth_user=\"elastic\",\n",
    "            elasticsearch_auth_pass=\"elastic@1234\",\n",
    "            hdfs_datanode_host=\"hdfs://hadoop-filebeat:8020\",\n",
    "            hdfs_user=\"nifi\")\n",
    "spark = config._initialize_spark_session(\"SparkApplication\")"
   ]
  },
  {
   "cell_type": "markdown",
   "metadata": {},
   "source": [
    "# Extracting all files"
   ]
  },
  {
   "cell_type": "code",
   "execution_count": 5,
   "metadata": {},
   "outputs": [
    {
     "output_type": "execute_result",
     "data": {
      "text/plain": [
       "['05078bb9-c94a-4ae7-b0a1-0228aaff6353',\n",
       " '062727ce-119a-425b-b1b1-1c1c9cb7d0d0',\n",
       " '1a9a5114-62c8-402c-aa72-e76c3290afcd',\n",
       " '2874a389-ca57-4433-862d-cfc3f7f8bf4c',\n",
       " '369526be-1536-48e7-84fa-931d4be6bae7',\n",
       " '36c34784-0f24-44ae-9954-09ed6ec16ffb',\n",
       " '3a5fd590-5171-4e91-90f7-f6e20adb10e8',\n",
       " '3c6a0470-6fb3-45dc-b8a9-e1828750e92d',\n",
       " '423814b2-265b-4009-afdf-0b325b31caa0',\n",
       " '4a389804-517e-40f9-81a5-f9780554a06d',\n",
       " '53a7bdbc-381a-491c-98aa-5028834dce06',\n",
       " '59527149-639c-466b-bc10-aa787693e7b5',\n",
       " '904b3ecf-6b7b-4902-90d8-bfc4a897a55b',\n",
       " '970b76be-4c02-4d8f-bc4d-7029c333d018',\n",
       " '9f3776bf-cf16-486e-b0af-dd771c566f29',\n",
       " 'b92e7567-5745-4d19-b590-1a091dc536b3',\n",
       " 'ba367c79-7a5a-482f-a0dd-572b36b27b2f',\n",
       " 'eca740eb-7fc6-4b0e-87f8-f48fb6017831',\n",
       " 'eeba93c4-6d7c-4eec-a81b-7895e3b1792f',\n",
       " 'fc0b8975-e474-44b4-876a-0729d9391bd4',\n",
       " 'fe0180ac-a70d-4d35-9943-a360790d0a48',\n",
       " 'fe7b1347-ea0e-4803-80e7-b09add6a02f9']"
      ]
     },
     "metadata": {},
     "execution_count": 5
    }
   ],
   "source": [
    "client = InsecureClient(\"http://hadoop-filebeat:50070\",user=\"nifi\")\n",
    "client.list('/dfs-data')"
   ]
  },
  {
   "cell_type": "code",
   "execution_count": 6,
   "metadata": {},
   "outputs": [],
   "source": [
    "def shape(dataframe: pyspark.sql.DataFrame):\n",
    "    return dataframe.count(), len(dataframe.columns)\n",
    "\n",
    "def fetch_and_merge_files(path,config):\n",
    "    \"\"\"\n",
    "        Generator Function to fetch files stored in the hdfs file system and lazily evaluate them when \n",
    "        concatenating them\n",
    "    \"\"\"\n",
    "    directory_path = f\"{config.hdfs_datanode_host}/{path}\"\n",
    "    \n",
    "\n",
    "    def get_files(path):\n",
    "        nonlocal directory_path\n",
    "        for file in client.list(path):\n",
    "            print(f\"Processing file: {file}\")\n",
    "            yield spark.read.format(\"csv\").option(\"delimiter\",\",\").option(\"header\",\"true\").load(f\"{directory_path}/{file}\")\n",
    "    \n",
    "    def unionAll(*dfs):\n",
    "        return reduce(DataFrame.unionAll,dfs)\n",
    "    \n",
    "    return unionAll(*(file for file in get_files(path)))"
   ]
  },
  {
   "cell_type": "code",
   "execution_count": 7,
   "metadata": {},
   "outputs": [
    {
     "output_type": "stream",
     "name": "stdout",
     "text": [
      "Processing file: 05078bb9-c94a-4ae7-b0a1-0228aaff6353\n",
      "Processing file: 062727ce-119a-425b-b1b1-1c1c9cb7d0d0\n",
      "Processing file: 1a9a5114-62c8-402c-aa72-e76c3290afcd\n",
      "Processing file: 2874a389-ca57-4433-862d-cfc3f7f8bf4c\n",
      "Processing file: 369526be-1536-48e7-84fa-931d4be6bae7\n",
      "Processing file: 36c34784-0f24-44ae-9954-09ed6ec16ffb\n",
      "Processing file: 3a5fd590-5171-4e91-90f7-f6e20adb10e8\n",
      "Processing file: 3c6a0470-6fb3-45dc-b8a9-e1828750e92d\n",
      "Processing file: 423814b2-265b-4009-afdf-0b325b31caa0\n",
      "Processing file: 4a389804-517e-40f9-81a5-f9780554a06d\n",
      "Processing file: 53a7bdbc-381a-491c-98aa-5028834dce06\n",
      "Processing file: 59527149-639c-466b-bc10-aa787693e7b5\n",
      "Processing file: 904b3ecf-6b7b-4902-90d8-bfc4a897a55b\n",
      "Processing file: 970b76be-4c02-4d8f-bc4d-7029c333d018\n",
      "Processing file: 9f3776bf-cf16-486e-b0af-dd771c566f29\n",
      "Processing file: b92e7567-5745-4d19-b590-1a091dc536b3\n",
      "Processing file: ba367c79-7a5a-482f-a0dd-572b36b27b2f\n",
      "Processing file: eca740eb-7fc6-4b0e-87f8-f48fb6017831\n",
      "Processing file: eeba93c4-6d7c-4eec-a81b-7895e3b1792f\n",
      "Processing file: fc0b8975-e474-44b4-876a-0729d9391bd4\n",
      "Processing file: fe0180ac-a70d-4d35-9943-a360790d0a48\n",
      "Processing file: fe7b1347-ea0e-4803-80e7-b09add6a02f9\n"
     ]
    }
   ],
   "source": [
    "merged_file = fetch_and_merge_files(\"/dfs-data\",config)"
   ]
  },
  {
   "cell_type": "code",
   "execution_count": 8,
   "metadata": {},
   "outputs": [
    {
     "output_type": "execute_result",
     "data": {
      "text/plain": [
       "'Shape of the PySpark dataframe before: (11626, 7)'"
      ]
     },
     "metadata": {},
     "execution_count": 8
    }
   ],
   "source": [
    "f\"Shape of the PySpark dataframe before: {shape(merged_file)}\""
   ]
  },
  {
   "cell_type": "code",
   "execution_count": 9,
   "metadata": {},
   "outputs": [
    {
     "output_type": "execute_result",
     "data": {
      "text/plain": [
       "'Shape of the PySpark dataframe after: (1023, 7)'"
      ]
     },
     "metadata": {},
     "execution_count": 9
    }
   ],
   "source": [
    "filtered_df = merged_file.dropDuplicates()\n",
    "f\"Shape of the PySpark dataframe after: {shape(filtered_df)}\""
   ]
  },
  {
   "cell_type": "code",
   "execution_count": 10,
   "metadata": {},
   "outputs": [
    {
     "output_type": "execute_result",
     "data": {
      "text/plain": [
       "False"
      ]
     },
     "metadata": {},
     "execution_count": 10
    }
   ],
   "source": [
    "filtered_df is merged_file #this shows that dropDuplicates() is indeed a transformation which results into a new DataFrame"
   ]
  },
  {
   "cell_type": "markdown",
   "metadata": {},
   "source": [
    "# Transformation"
   ]
  },
  {
   "cell_type": "code",
   "execution_count": 11,
   "metadata": {},
   "outputs": [],
   "source": [
    "def spark_convert_columns(data_df: pyspark.sql.DataFrame,\n",
    "                          fill_anchor_column: str,*,\n",
    "                          columns: tuple):\n",
    "    \"\"\"\n",
    "        Helper function to fetch average of grouped dataframe in the PySpark DataFrame.\n",
    "        In a two stage process, the function first converts the blank/negative values to `None` and then replaces the `None` values with the average values\n",
    "\n",
    "        @params\n",
    "        -------\n",
    "        positional\n",
    "            -> data_df: Input DataFrame\n",
    "            -> fill_anchor_column: Anchor column to group the PySpark DataFrame by\n",
    "        keyword\n",
    "            -> columns: Columns to fill the average values with\n",
    "\n",
    "    \"\"\"\n",
    "    #A thing to note: the data_df returned isn't the same as data_df\n",
    "    #Spark DFs are immutable, so when the operations are performed to the DF, and when the variable assigned,\n",
    "    #The local variable data_df just shifted its reference from the original DF, to the modified DF, preserving all the data in the original DF\n",
    "\n",
    "    w = Window().partitionBy(fill_anchor_column)\n",
    "    for column in columns:\n",
    "        data_df = data_df.withColumn(column, \\\n",
    "                                     F.when(F.col(column)<0,None) \\\n",
    "                                      .otherwise(F.col(column)))\n",
    "        data_df = data_df.withColumn(column, \\\n",
    "                                     F.when(F.col(column).isNull(), \\\n",
    "                                            F.avg(F.col(column)) \\\n",
    "                                             .over(w)) \\\n",
    "                                      .otherwise(F.col(column)))\n",
    "        data_df = data_df.withColumn(column,F.col(column).cast(\"int\"))\n",
    "    return data_df\n",
    "\n",
    "\n",
    "def spark_calc_percentages(data_df: pyspark.sql.DataFrame,\n",
    "                           columns: tuple,\n",
    "                           constants: tuple):\n",
    "\n",
    "    for column,const in zip(columns,constants):\n",
    "        data_df = data_df.withColumn(f\"{column}_pct_change\",F.floor((F.col(column)/const)*100))\n",
    "    return data_df\n",
    "\n",
    "\n",
    "def process_filtered_df(filtered_df: pyspark.sql.DataFrame, \\\n",
    "                        values_to_replace: tuple, \\\n",
    "                        target_values: tuple, \\\n",
    "                        cols_to_convert: tuple, \\\n",
    "                        cols_to_filterout: tuple, \\\n",
    "                        col_vals_to_filterout: tuple):\n",
    "    \"\"\"\n",
    "        Function to process \n",
    "    \"\"\"\n",
    "\n",
    "    if len(values_to_replace) != len(target_values):\n",
    "        raise ValueError(f\"The length of the values to be replaced and the target values dont match: {len(values_to_replace)} and {len(target_values)}.\")\n",
    "\n",
    "    if len(cols_to_filterout) != len(col_vals_to_filterout):\n",
    "        raise ValueError(f\"The length of column names to filter out doesn't match the length of column values: {len(cols_to_filterout)} and {len(col_vals_to_filterout)}.\")\n",
    "\n",
    "    if \"year\" not in filtered_df.columns:\n",
    "        raise ValueError(f\"The column `year` is not present in the input dataframe.\")\n",
    "\n",
    "\n",
    "    filtered_df = filtered_df.replace(values_to_replace,target_values)\n",
    "    for column,col_vals in zip(cols_to_filterout,col_vals_to_filterout):\n",
    "        filtered_df = filtered_df[~getattr(filtered_df,column).isin(list(col_vals))]\n",
    "    filtered_df = filtered_df.withColumn(\"year\",F.col(\"year\").cast(\"int\"))\n",
    "    filtered_df = spark_convert_columns(filtered_df,\"year\",columns=cols_to_convert)\n",
    "    return filtered_df"
   ]
  },
  {
   "cell_type": "code",
   "execution_count": 12,
   "metadata": {},
   "outputs": [
    {
     "output_type": "stream",
     "name": "stdout",
     "text": [
      "+----+--------------------+------+--------------------+------+----------+-----------------------+\n|year|       leading_cause|   sex|      race_ethnicity|deaths|death_rate|age_adjusted_death_rate|\n+----+--------------------+------+--------------------+------+----------+-----------------------+\n|2015|Alzheimer's Disea...|Female|  Non-Hispanic Black|   147|        14|                     10|\n|2015|Essential Hyperte...|Female|Other Race/ Ethni...|     4|        53|                     49|\n|2015|    All Other Causes|Female|            Hispanic|  1184|        92|                     97|\n|2015|Mental and Behavi...|Female|            Hispanic|    78|         6|                      5|\n|2015|Diabetes Mellitus...|  Male|Other Race/ Ethni...|     3|        53|                     49|\n|2015|Chronic Lower Res...|  Male|  Non-Hispanic White|   364|        27|                     21|\n|2015|Alzheimer's Disea...|Female|Asian and Pacific...|    50|         7|                      8|\n|2015|Diseases of Heart...|  Male|            Hispanic|  1410|       116|                    181|\n|2015|Alzheimer's Disea...|  Male|  Non-Hispanic White|   170|        12|                      9|\n|2015|Malignant Neoplas...|  Male|            Hispanic|  1175|        97|                    140|\n+----+--------------------+------+--------------------+------+----------+-----------------------+\nonly showing top 10 rows\n\n"
     ]
    }
   ],
   "source": [
    "values_to_replace = (\".\",\"M\",\"F\",\"Accidents Except Drug Posioning (V01-X39, X43, X45-X59, Y85-Y86)\",\"Black Non-Hispanic\",\"White Non-Hispanic\")\n",
    "target_values = (None,\"Male\",\"Female\",\"Accidents Except Drug Poisoning (V01-X39, X43, X45-X59, Y85-Y86)\",\"Non-Hispanic Black\",\"Non-Hispanic White\")\n",
    "cols_to_filterout = (\"race_ethnicity\",)\n",
    "col_vals_to_filterout = (('Not Stated/Unknown','Other Race/Ethnicity'),)\n",
    "cols_to_convert = (\"deaths\",\"death_rate\",\"age_adjusted_death_rate\")\n",
    "\n",
    "# filtered_df = filtered_df.replace(values_to_replace,target_values)\n",
    "processed_df = process_filtered_df(filtered_df, \\\n",
    "                                   values_to_replace, \\\n",
    "                                   target_values, \\\n",
    "                                   cols_to_convert, \\\n",
    "                                   cols_to_filterout, \\\n",
    "                                   col_vals_to_filterout)\n",
    "processed_df.cache()\n",
    "processed_df.show(10)"
   ]
  },
  {
   "cell_type": "markdown",
   "metadata": {},
   "source": [
    "# Analysis"
   ]
  },
  {
   "cell_type": "code",
   "execution_count": 13,
   "metadata": {},
   "outputs": [
    {
     "output_type": "stream",
     "name": "stdout",
     "text": [
      "+----+------+-----+-----------------+---------------+\n|year|Female| Male|Female_pct_change|Male_pct_change|\n+----+------+-----+-----------------+---------------+\n|2010| 17530| 7865|              100|            100|\n|2011| 29544|27026|              168|            343|\n|2012| 30130|27392|              171|            348|\n|2013| 28265|27210|              161|            345|\n|2014| 27626|25710|              157|            326|\n|2015| 27076|26067|              154|            331|\n|2016| 26769|26468|              152|            336|\n|2017| 26765|26553|              152|            337|\n+----+------+-----+-----------------+---------------+\n\n"
     ]
    }
   ],
   "source": [
    "sex_analysis_pivot = processed_df \\\n",
    "                    .groupBy([\"year\"]) \\\n",
    "                    .pivot(\"sex\") \\\n",
    "                    .sum(\"deaths\") \\\n",
    "                    .orderBy(\"year\")\n",
    "sex_analysis_pivot.cache()\n",
    "\n",
    "\n",
    "_,f_zero,m_zero,*_ = sex_analysis_pivot.first()\n",
    "sex_analysis_pivot = spark_calc_percentages(sex_analysis_pivot,[\"Female\",\"Male\"],[f_zero,m_zero])\n",
    "sex_analysis_pivot.show()"
   ]
  },
  {
   "cell_type": "markdown",
   "metadata": {},
   "source": [
    "- The above table suggests that for females, the total death counts shows a incline of 52% from 17530 to 26765, while for males the average death counts have more than tripled (surge of 237%), from 7865 to 26553. \n",
    "- This shows that the matter of concern is much higher in males as compared to females."
   ]
  },
  {
   "cell_type": "code",
   "execution_count": 14,
   "metadata": {},
   "outputs": [
    {
     "output_type": "stream",
     "name": "stdout",
     "text": [
      "+----+--------------------+------+------------------+------+----------+-----------------------+\n|year|       leading_cause|   sex|    race_ethnicity|deaths|death_rate|age_adjusted_death_rate|\n+----+--------------------+------+------------------+------+----------+-----------------------+\n|2010|Diseases of Heart...|Female|Non-Hispanic White|  5351|       374|                    189|\n|2010|Diseases of Heart...|  Male|          Hispanic|  1354|       118|                    215|\n|2011|Diseases of Heart...|Female|Non-Hispanic White|  5016|       354|                    179|\n|2011|Diseases of Heart...|  Male|Non-Hispanic White|  4220|       316|                    260|\n|2012|Diseases of Heart...|Female|Non-Hispanic White|  4719|       332|                    167|\n|2012|Diseases of Heart...|  Male|Non-Hispanic White|  4156|       310|                    252|\n|2013|Diseases of Heart...|Female|Non-Hispanic White|  4535|       319|                    160|\n|2013|Diseases of Heart...|  Male|Non-Hispanic White|  4085|       303|                    244|\n|2014|Diseases of Heart...|  Male|Non-Hispanic White|  3990|       297|                    238|\n|2014|Diseases of Heart...|Female|Non-Hispanic White|  4507|       318|                    161|\n|2015|Diseases of Heart...|Female|Non-Hispanic White|  4494|       317|                    161|\n|2015|Diseases of Heart...|  Male|Non-Hispanic White|  4015|       298|                    239|\n|2016|Diseases of Heart...|Female|Non-Hispanic White|  4306|       307|                    156|\n|2016|Diseases of Heart...|  Male|Non-Hispanic White|  4054|       303|                    239|\n|2017|Diseases of Heart...|Female|Non-Hispanic White|  4279|       303|                    147|\n|2017|Diseases of Heart...|  Male|Non-Hispanic White|  4082|       303|                    227|\n+----+--------------------+------+------------------+------+----------+-----------------------+\n\n"
     ]
    }
   ],
   "source": [
    "#Fetching the leading cause with the highest deaths year on year for both sexes\n",
    "\n",
    "w = Window.partitionBy([\"year\",\"sex\"])\n",
    "processed_df.withColumn(\"maxdeaths\", \\\n",
    "                        F.max(\"deaths\").over(w)) \\\n",
    "                        .where(F.col('deaths')==F.col('maxdeaths')) \\\n",
    "                        .drop('maxdeaths') \\\n",
    "                        .sort(F.col(\"year\").asc()) \\\n",
    "                        .show()"
   ]
  },
  {
   "cell_type": "markdown",
   "metadata": {},
   "source": [
    "Well this shows that the Heart Disease is the leading cause of death across the board. But it might be the case of an imbalanced dataset. So let's check that."
   ]
  },
  {
   "cell_type": "code",
   "execution_count": 15,
   "metadata": {},
   "outputs": [
    {
     "output_type": "stream",
     "name": "stdout",
     "text": [
      "+--------------------+------+\n|       leading_cause|deaths|\n+--------------------+------+\n|Diseases of Heart...|127387|\n|Malignant Neoplas...| 97632|\n|    All Other Causes| 77974|\n|Influenza (Flu) a...| 17435|\n|Cerebrovascular D...| 14032|\n|Chronic Lower Res...| 13970|\n|Diabetes Mellitus...| 13158|\n|Essential Hyperte...|  8680|\n|Accidents Except ...|  7594|\n|Mental and Behavi...|  7123|\n|Alzheimer's Disea...|  6113|\n|Intentional Self-...|  3061|\n|Assault (Homicide...|  2899|\n|Human Immunodefic...|  2881|\n|Chronic Liver Dis...|  1653|\n|Certain Condition...|  1574|\n|Septicemia (A40-A41)|  1033|\n|Congenital Malfor...|  1004|\n|Nephritis, Nephro...|   973|\n|Aortic Aneurysm a...|   515|\n+--------------------+------+\nonly showing top 20 rows\n\n"
     ]
    }
   ],
   "source": [
    "processed_df.groupBy(\"leading_cause\") \\\n",
    "            .agg(F.sum(F.col(\"deaths\")) \\\n",
    "                  .alias(\"deaths\")) \\\n",
    "            .sort(F.col('deaths').desc()) \\\n",
    "            .show()"
   ]
  },
  {
   "cell_type": "markdown",
   "metadata": {},
   "source": [
    "This shows that # of deaths by heart diseases is significantly larger than the others, causing an imbalance in the dataset. So lets try to create a pivot using the leading causes which will help us understand the changes in the # deaths in a year-on-year basis"
   ]
  },
  {
   "cell_type": "markdown",
   "metadata": {},
   "source": [
    "### Leading cause analysis"
   ]
  },
  {
   "cell_type": "code",
   "execution_count": 16,
   "metadata": {},
   "outputs": [],
   "source": [
    "leading_cause_pivot = processed_df \\\n",
    "                      .groupBy(\"year\") \\\n",
    "                      .pivot(\"leading_cause\") \\\n",
    "                      .sum(\"deaths\") \\\n",
    "                      .orderBy(\"year\") \\\n",
    "                      .na.fill(0)"
   ]
  },
  {
   "cell_type": "code",
   "execution_count": 17,
   "metadata": {},
   "outputs": [],
   "source": [
    "def format_data_cols(data_df: pyspark.sql.DataFrame):\n",
    "    \"\"\"\n",
    "        Helper function to format columns of PySpark DataFrame\n",
    "    \"\"\"\n",
    "    previous_cols = data_df.columns\n",
    "    formatted_cols = list(map(lambda item: item.replace(\":\",\"\").replace(\".\",\"\"), \\\n",
    "                              data_df.columns))\n",
    "    return reduce(lambda data_df, idx: data_df.withColumnRenamed(previous_cols[idx],formatted_cols[idx]), \\\n",
    "                  range(len(previous_cols)), \\\n",
    "                  data_df)\n",
    "\n",
    "\n",
    "def spark_calc_pct_change(data_df: pyspark.sql.DataFrame,orderby_column: str,columns: tuple=None):\n",
    "    \"\"\"\n",
    "        Helper function to calculate the % change from previous values for each column in columns\n",
    "    \"\"\"\n",
    "    w = Window.partitionBy().orderBy(orderby_column)    \n",
    "    if not columns:\n",
    "        columns = data_df.columns\n",
    "        columns.remove(orderby_column)\n",
    "    for column in columns:\n",
    "        data_df = data_df.withColumn(\"prev_value\", \\\n",
    "                                     F.lag(F.col(column)) \\\n",
    "                                      .over(w))\n",
    "        data_df = data_df.withColumn(f\"{column}_pct_change\", \\\n",
    "                                     F.when((F.col(\"prev_value\")==0)|(F.isnull(F.col(\"prev_value\")))|(F.isnull(F.col(column)-F.col(\"prev_value\"))),0) \\\n",
    "                                      .otherwise(F.round((F.col(column)-F.col(\"prev_value\"))/F.col(\"prev_value\")*100,2))) \\\n",
    "                         .drop(\"prev_value\")\n",
    "    \n",
    "    return data_df"
   ]
  },
  {
   "cell_type": "code",
   "execution_count": 18,
   "metadata": {},
   "outputs": [
    {
     "output_type": "execute_result",
     "data": {
      "text/plain": [
       "DataFrame[year: int, Accidents Except Drug Poisoning (V01-X39, X43, X45-X59, Y85-Y86): bigint, All Other Causes: bigint, Alzheimer's Disease (G30): bigint, Anemias (D50-D64): bigint, Aortic Aneurysm and Dissection (I71): bigint, Assault (Homicide U01-U02, Y871, X85-Y09): bigint, Assault (Homicide Y871, X85-Y09): bigint, Atherosclerosis (I70): bigint, Cerebrovascular Disease (Stroke I60-I69): bigint, Certain Conditions originating in the Perinatal Period (P00-P96): bigint, Chronic Liver Disease and Cirrhosis (K70, K73): bigint, Chronic Liver Disease and Cirrhosis (K70, K73-K74): bigint, Chronic Lower Respiratory Diseases (J40-J47): bigint, Congenital Malformations, Deformations, and Chromosomal Abnormalities (Q00-Q99): bigint, Diabetes Mellitus (E10-E14): bigint, Diseases of Heart (I00-I09, I11, I13, I20-I51): bigint, Essential Hypertension and Renal Diseases (I10, I12): bigint, Human Immunodeficiency Virus Disease (HIV B20-B24): bigint, Influenza (Flu) and Pneumonia (J09-J18): bigint, Intentional Self-Harm (Suicide U03, X60-X84, Y870): bigint, Intentional Self-Harm (Suicide X60-X84, Y870): bigint, Malignant Neoplasms (Cancer C00-C97): bigint, Meningitis (G00, G03): bigint, Mental and Behavioral Disorders due to Accidental Poisoning and Other Psychoactive Substance Use (F11-F16, F18-F19, X40-X42, X44): bigint, Mental and Behavioral Disorders due to Use of Alcohol (F10): bigint, Nephritis, Nephrotic Syndrome and Nephrisis (N00-N07, N17-N19, N25-N27): bigint, Parkinson's Disease (G20): bigint, Peptic Ulcer (K25-K28): bigint, Pregnancy, Childbirth and the Puerperium (O00-O09): bigint, Septicemia (A40-A41): bigint, Viral Hepatitis (B15-B19): bigint, Accidents Except Drug Poisoning (V01-X39, X43, X45-X59, Y85-Y86)_pct_change: double, All Other Causes_pct_change: double, Alzheimer's Disease (G30)_pct_change: double, Anemias (D50-D64)_pct_change: double, Aortic Aneurysm and Dissection (I71)_pct_change: double, Assault (Homicide U01-U02, Y871, X85-Y09)_pct_change: double, Assault (Homicide Y871, X85-Y09)_pct_change: double, Atherosclerosis (I70)_pct_change: double, Cerebrovascular Disease (Stroke I60-I69)_pct_change: double, Certain Conditions originating in the Perinatal Period (P00-P96)_pct_change: double, Chronic Liver Disease and Cirrhosis (K70, K73)_pct_change: double, Chronic Liver Disease and Cirrhosis (K70, K73-K74)_pct_change: double, Chronic Lower Respiratory Diseases (J40-J47)_pct_change: double, Congenital Malformations, Deformations, and Chromosomal Abnormalities (Q00-Q99)_pct_change: double, Diabetes Mellitus (E10-E14)_pct_change: double, Diseases of Heart (I00-I09, I11, I13, I20-I51)_pct_change: double, Essential Hypertension and Renal Diseases (I10, I12)_pct_change: double, Human Immunodeficiency Virus Disease (HIV B20-B24)_pct_change: double, Influenza (Flu) and Pneumonia (J09-J18)_pct_change: double, Intentional Self-Harm (Suicide U03, X60-X84, Y870)_pct_change: double, Intentional Self-Harm (Suicide X60-X84, Y870)_pct_change: double, Malignant Neoplasms (Cancer C00-C97)_pct_change: double, Meningitis (G00, G03)_pct_change: double, Mental and Behavioral Disorders due to Accidental Poisoning and Other Psychoactive Substance Use (F11-F16, F18-F19, X40-X42, X44)_pct_change: double, Mental and Behavioral Disorders due to Use of Alcohol (F10)_pct_change: double, Nephritis, Nephrotic Syndrome and Nephrisis (N00-N07, N17-N19, N25-N27)_pct_change: double, Parkinson's Disease (G20)_pct_change: double, Peptic Ulcer (K25-K28)_pct_change: double, Pregnancy, Childbirth and the Puerperium (O00-O09)_pct_change: double, Septicemia (A40-A41)_pct_change: double, Viral Hepatitis (B15-B19)_pct_change: double]"
      ]
     },
     "metadata": {},
     "execution_count": 18
    }
   ],
   "source": [
    "leading_cause_pivot = format_data_cols(leading_cause_pivot)\n",
    "leading_cause_pivot_pct_change = spark_calc_pct_change(leading_cause_pivot,\"year\")\n",
    "leading_cause_pivot_pct_change.cache()"
   ]
  },
  {
   "cell_type": "code",
   "execution_count": 19,
   "metadata": {},
   "outputs": [],
   "source": [
    "def find_max_cols(data_df: pyspark.sql.DataFrame):\n",
    "    \"\"\"\n",
    "        Helper function to find the column name containing the max value in each row.\n",
    "    \"\"\"\n",
    "\n",
    "    change_cols = [i for i in data_df.columns if i.endswith('_pct_change')]\n",
    "    cond = \"F.when\" + \".when\".join([\"(F.col(\\\"\" + c + \"\\\") == F.col(\\\"max_value\\\"), F.lit(\\\"\" + c + \"\\\"))\" for c in change_cols])\n",
    "    return data_df.withColumn(\"max_value\",F.greatest(*change_cols)) \\\n",
    "                                           .withColumn(\"MAX\",eval(cond)) \\\n",
    "                                           .select([\"max_value\",\"MAX\"])\n",
    "\n",
    "\n",
    "def find_min_cols(data_df: pyspark.sql.DataFrame):\n",
    "    \"\"\"\n",
    "        Helper function to find the column name containing the min value in each row.\n",
    "    \"\"\"\n",
    "    change_cols = [i for i in data_df.columns if i.endswith('_pct_change')]\n",
    "    cond = \"F.when\" + \".when\".join([\"(F.col(\\\"\" + c + \"\\\") == F.col(\\\"min_value\\\"), F.lit(\\\"\" + c + \"\\\"))\" for c in change_cols])\n",
    "    return data_df.withColumn(\"min_value\",F.least(*change_cols)) \\\n",
    "                                           .withColumn(\"MIN\",eval(cond)) \\\n",
    "                                           .select([\"min_value\",\"MIN\"])"
   ]
  },
  {
   "cell_type": "code",
   "execution_count": 20,
   "metadata": {},
   "outputs": [
    {
     "output_type": "execute_result",
     "data": {
      "text/plain": [
       "[Row(max_value=0.0, MAX='Accidents Except Drug Poisoning (V01-X39, X43, X45-X59, Y85-Y86)_pct_change'),\n",
       " Row(max_value=2861.11, MAX='Certain Conditions originating in the Perinatal Period (P00-P96)_pct_change'),\n",
       " Row(max_value=61.67, MAX='Assault (Homicide Y871, X85-Y09)_pct_change'),\n",
       " Row(max_value=504.08, MAX='Nephritis, Nephrotic Syndrome and Nephrisis (N00-N07, N17-N19, N25-N27)_pct_change'),\n",
       " Row(max_value=41.83, MAX='Essential Hypertension and Renal Diseases (I10, I12)_pct_change'),\n",
       " Row(max_value=62.61, MAX=\"Alzheimer's Disease (G30)_pct_change\"),\n",
       " Row(max_value=200.0, MAX='Mental and Behavioral Disorders due to Use of Alcohol (F10)_pct_change'),\n",
       " Row(max_value=200.0, MAX='Septicemia (A40-A41)_pct_change')]"
      ]
     },
     "metadata": {},
     "execution_count": 20
    }
   ],
   "source": [
    "find_max_cols(leading_cause_pivot_pct_change).collect()"
   ]
  },
  {
   "cell_type": "code",
   "execution_count": 21,
   "metadata": {},
   "outputs": [
    {
     "output_type": "execute_result",
     "data": {
      "text/plain": [
       "[Row(min_value=0.0, MIN='Accidents Except Drug Poisoning (V01-X39, X43, X45-X59, Y85-Y86)_pct_change'),\n",
       " Row(min_value=0.0, MIN='Anemias (D50-D64)_pct_change'),\n",
       " Row(min_value=-41.44, MIN='Chronic Lower Respiratory Diseases (J40-J47)_pct_change'),\n",
       " Row(min_value=-100.0, MIN='Aortic Aneurysm and Dissection (I71)_pct_change'),\n",
       " Row(min_value=-100.0, MIN='Viral Hepatitis (B15-B19)_pct_change'),\n",
       " Row(min_value=-100.0, MIN='Certain Conditions originating in the Perinatal Period (P00-P96)_pct_change'),\n",
       " Row(min_value=-100.0, MIN='Assault (Homicide Y871, X85-Y09)_pct_change'),\n",
       " Row(min_value=-100.0, MIN='Certain Conditions originating in the Perinatal Period (P00-P96)_pct_change')]"
      ]
     },
     "metadata": {},
     "execution_count": 21
    }
   ],
   "source": [
    "find_min_cols(leading_cause_pivot_pct_change).collect()"
   ]
  },
  {
   "cell_type": "code",
   "execution_count": 22,
   "metadata": {},
   "outputs": [
    {
     "output_type": "execute_result",
     "data": {
      "text/plain": [
       "   Nephritis, Nephrotic Syndrome and Nephrisis (N00-N07, N17-N19, N25-N27)  \\\n",
       "0                                                  0                         \n",
       "1                                                 83                         \n",
       "2                                                 98                         \n",
       "3                                                592                         \n",
       "4                                                118                         \n",
       "5                                                 81                         \n",
       "6                                                  1                         \n",
       "7                                                  0                         \n",
       "\n",
       "   Accidents Except Drug Poisoning (V01-X39, X43, X45-X59, Y85-Y86)  \\\n",
       "0                                                423                  \n",
       "1                                               1264                  \n",
       "2                                                961                  \n",
       "3                                               1447                  \n",
       "4                                                943                  \n",
       "5                                                821                  \n",
       "6                                                836                  \n",
       "7                                                899                  \n",
       "\n",
       "   Septicemia (A40-A41)  Essential Hypertension and Renal Diseases (I10, I12)  \\\n",
       "0                     0                                                216      \n",
       "1                     0                                               1400      \n",
       "2                   632                                               1401      \n",
       "3                   151                                                949      \n",
       "4                   118                                               1346      \n",
       "5                   128                                               1084      \n",
       "6                     1                                               1095      \n",
       "7                     3                                               1189      \n",
       "\n",
       "   Mental and Behavioral Disorders due to Use of Alcohol (F10)  \\\n",
       "0                                                  0             \n",
       "1                                                  0             \n",
       "2                                                  0             \n",
       "3                                                  0             \n",
       "4                                                  0             \n",
       "5                                                  1             \n",
       "6                                                  3             \n",
       "7                                                  0             \n",
       "\n",
       "   Alzheimer's Disease (G30)  Assault (Homicide Y871, X85-Y09)  \\\n",
       "0                         71                               299   \n",
       "1                        949                               780   \n",
       "2                        976                              1261   \n",
       "3                        988                               174   \n",
       "4                        567                               186   \n",
       "5                        922                               199   \n",
       "6                        814                                 0   \n",
       "7                        826                                 0   \n",
       "\n",
       "   Certain Conditions originating in the Perinatal Period (P00-P96)  \n",
       "0                                                 18                 \n",
       "1                                                533                 \n",
       "2                                                513                 \n",
       "3                                                499                 \n",
       "4                                                  8                 \n",
       "5                                                  0                 \n",
       "6                                                  3                 \n",
       "7                                                  0                 "
      ],
      "text/html": "<div>\n<style scoped>\n    .dataframe tbody tr th:only-of-type {\n        vertical-align: middle;\n    }\n\n    .dataframe tbody tr th {\n        vertical-align: top;\n    }\n\n    .dataframe thead th {\n        text-align: right;\n    }\n</style>\n<table border=\"1\" class=\"dataframe\">\n  <thead>\n    <tr style=\"text-align: right;\">\n      <th></th>\n      <th>Nephritis, Nephrotic Syndrome and Nephrisis (N00-N07, N17-N19, N25-N27)</th>\n      <th>Accidents Except Drug Poisoning (V01-X39, X43, X45-X59, Y85-Y86)</th>\n      <th>Septicemia (A40-A41)</th>\n      <th>Essential Hypertension and Renal Diseases (I10, I12)</th>\n      <th>Mental and Behavioral Disorders due to Use of Alcohol (F10)</th>\n      <th>Alzheimer's Disease (G30)</th>\n      <th>Assault (Homicide Y871, X85-Y09)</th>\n      <th>Certain Conditions originating in the Perinatal Period (P00-P96)</th>\n    </tr>\n  </thead>\n  <tbody>\n    <tr>\n      <th>0</th>\n      <td>0</td>\n      <td>423</td>\n      <td>0</td>\n      <td>216</td>\n      <td>0</td>\n      <td>71</td>\n      <td>299</td>\n      <td>18</td>\n    </tr>\n    <tr>\n      <th>1</th>\n      <td>83</td>\n      <td>1264</td>\n      <td>0</td>\n      <td>1400</td>\n      <td>0</td>\n      <td>949</td>\n      <td>780</td>\n      <td>533</td>\n    </tr>\n    <tr>\n      <th>2</th>\n      <td>98</td>\n      <td>961</td>\n      <td>632</td>\n      <td>1401</td>\n      <td>0</td>\n      <td>976</td>\n      <td>1261</td>\n      <td>513</td>\n    </tr>\n    <tr>\n      <th>3</th>\n      <td>592</td>\n      <td>1447</td>\n      <td>151</td>\n      <td>949</td>\n      <td>0</td>\n      <td>988</td>\n      <td>174</td>\n      <td>499</td>\n    </tr>\n    <tr>\n      <th>4</th>\n      <td>118</td>\n      <td>943</td>\n      <td>118</td>\n      <td>1346</td>\n      <td>0</td>\n      <td>567</td>\n      <td>186</td>\n      <td>8</td>\n    </tr>\n    <tr>\n      <th>5</th>\n      <td>81</td>\n      <td>821</td>\n      <td>128</td>\n      <td>1084</td>\n      <td>1</td>\n      <td>922</td>\n      <td>199</td>\n      <td>0</td>\n    </tr>\n    <tr>\n      <th>6</th>\n      <td>1</td>\n      <td>836</td>\n      <td>1</td>\n      <td>1095</td>\n      <td>3</td>\n      <td>814</td>\n      <td>0</td>\n      <td>3</td>\n    </tr>\n    <tr>\n      <th>7</th>\n      <td>0</td>\n      <td>899</td>\n      <td>3</td>\n      <td>1189</td>\n      <td>0</td>\n      <td>826</td>\n      <td>0</td>\n      <td>0</td>\n    </tr>\n  </tbody>\n</table>\n</div>"
     },
     "metadata": {},
     "execution_count": 22
    }
   ],
   "source": [
    "max_cols = list(set(row.MAX.replace(\"_pct_change\",\"\") for row in find_max_cols(leading_cause_pivot_pct_change).collect()))\n",
    "min_cols = list(set(row.MIN.replace(\"_pct_change\",\"\") for row in find_min_cols(leading_cause_pivot_pct_change).collect()))\n",
    "\n",
    "leading_cause_pivot_pct_change_data = leading_cause_pivot_pct_change.select(list(max_cols))\n",
    "leading_cause_pivot_pct_change_data.toPandas()"
   ]
  },
  {
   "cell_type": "code",
   "execution_count": 23,
   "metadata": {},
   "outputs": [
    {
     "output_type": "execute_result",
     "data": {
      "text/plain": [
       "   Anemias (D50-D64)  Chronic Lower Respiratory Diseases (J40-J47)  \\\n",
       "0                  0                                           362   \n",
       "1                  0                                          2785   \n",
       "2                  0                                          1631   \n",
       "3                  0                                          2308   \n",
       "4                  0                                          1795   \n",
       "5                  0                                          1725   \n",
       "6                  0                                          1634   \n",
       "7                  1                                          1730   \n",
       "\n",
       "   Aortic Aneurysm and Dissection (I71)  Assault (Homicide Y871, X85-Y09)  \\\n",
       "0                                     0                               299   \n",
       "1                                     0                               780   \n",
       "2                                   513                              1261   \n",
       "3                                     0                               174   \n",
       "4                                     0                               186   \n",
       "5                                     0                               199   \n",
       "6                                     0                                 0   \n",
       "7                                     2                                 0   \n",
       "\n",
       "   Viral Hepatitis (B15-B19)  \\\n",
       "0                          0   \n",
       "1                          0   \n",
       "2                          0   \n",
       "3                         15   \n",
       "4                          0   \n",
       "5                          2   \n",
       "6                          0   \n",
       "7                          0   \n",
       "\n",
       "   Certain Conditions originating in the Perinatal Period (P00-P96)  \\\n",
       "0                                                 18                  \n",
       "1                                                533                  \n",
       "2                                                513                  \n",
       "3                                                499                  \n",
       "4                                                  8                  \n",
       "5                                                  0                  \n",
       "6                                                  3                  \n",
       "7                                                  0                  \n",
       "\n",
       "   Accidents Except Drug Poisoning (V01-X39, X43, X45-X59, Y85-Y86)  \n",
       "0                                                423                 \n",
       "1                                               1264                 \n",
       "2                                                961                 \n",
       "3                                               1447                 \n",
       "4                                                943                 \n",
       "5                                                821                 \n",
       "6                                                836                 \n",
       "7                                                899                 "
      ],
      "text/html": "<div>\n<style scoped>\n    .dataframe tbody tr th:only-of-type {\n        vertical-align: middle;\n    }\n\n    .dataframe tbody tr th {\n        vertical-align: top;\n    }\n\n    .dataframe thead th {\n        text-align: right;\n    }\n</style>\n<table border=\"1\" class=\"dataframe\">\n  <thead>\n    <tr style=\"text-align: right;\">\n      <th></th>\n      <th>Anemias (D50-D64)</th>\n      <th>Chronic Lower Respiratory Diseases (J40-J47)</th>\n      <th>Aortic Aneurysm and Dissection (I71)</th>\n      <th>Assault (Homicide Y871, X85-Y09)</th>\n      <th>Viral Hepatitis (B15-B19)</th>\n      <th>Certain Conditions originating in the Perinatal Period (P00-P96)</th>\n      <th>Accidents Except Drug Poisoning (V01-X39, X43, X45-X59, Y85-Y86)</th>\n    </tr>\n  </thead>\n  <tbody>\n    <tr>\n      <th>0</th>\n      <td>0</td>\n      <td>362</td>\n      <td>0</td>\n      <td>299</td>\n      <td>0</td>\n      <td>18</td>\n      <td>423</td>\n    </tr>\n    <tr>\n      <th>1</th>\n      <td>0</td>\n      <td>2785</td>\n      <td>0</td>\n      <td>780</td>\n      <td>0</td>\n      <td>533</td>\n      <td>1264</td>\n    </tr>\n    <tr>\n      <th>2</th>\n      <td>0</td>\n      <td>1631</td>\n      <td>513</td>\n      <td>1261</td>\n      <td>0</td>\n      <td>513</td>\n      <td>961</td>\n    </tr>\n    <tr>\n      <th>3</th>\n      <td>0</td>\n      <td>2308</td>\n      <td>0</td>\n      <td>174</td>\n      <td>15</td>\n      <td>499</td>\n      <td>1447</td>\n    </tr>\n    <tr>\n      <th>4</th>\n      <td>0</td>\n      <td>1795</td>\n      <td>0</td>\n      <td>186</td>\n      <td>0</td>\n      <td>8</td>\n      <td>943</td>\n    </tr>\n    <tr>\n      <th>5</th>\n      <td>0</td>\n      <td>1725</td>\n      <td>0</td>\n      <td>199</td>\n      <td>2</td>\n      <td>0</td>\n      <td>821</td>\n    </tr>\n    <tr>\n      <th>6</th>\n      <td>0</td>\n      <td>1634</td>\n      <td>0</td>\n      <td>0</td>\n      <td>0</td>\n      <td>3</td>\n      <td>836</td>\n    </tr>\n    <tr>\n      <th>7</th>\n      <td>1</td>\n      <td>1730</td>\n      <td>2</td>\n      <td>0</td>\n      <td>0</td>\n      <td>0</td>\n      <td>899</td>\n    </tr>\n  </tbody>\n</table>\n</div>"
     },
     "metadata": {},
     "execution_count": 23
    }
   ],
   "source": [
    "leading_cause_pivot_pct_change_data = leading_cause_pivot_pct_change.select(list(min_cols))\n",
    "leading_cause_pivot_pct_change_data.toPandas()"
   ]
  },
  {
   "cell_type": "markdown",
   "metadata": {},
   "source": [
    "- After viewing the data, it seems that the statistics about diseases like mental and behavioral disorders due to alcohol abuse, Anemias, Viral Hepatitis etc dont have any significance associated with them due to lower case count\n",
    "- The highest surge in deaths has occured due to conditions originating in the perinatal period. And the trend continues for a couple of years, and plummets to just 8 deaths from 499 in 2014.\n",
    "- It seems like kidney related diseases have been prevelant throughout. Hypertension and renal diseases death toll surged in 2011, and have been stable around the 1000-1500 mark. Deaths due to Nephritis and Nephrisis increased in 2013 and 2014 and have declined since then.\n",
    "- The law & order seems to be stable in the city. The deaths due to homicide surged in the years 2011 and 2012 but since then have seen a steep decline. However, there aren't any deaths recorded for the years 2016-17, which might be due to lack of data and a point of concern.\n"
   ]
  },
  {
   "cell_type": "markdown",
   "metadata": {},
   "source": [
    "### Leading cause analysis by gender"
   ]
  },
  {
   "cell_type": "markdown",
   "metadata": {},
   "source": [
    "Let's analyze this data from the perspective of sexes, and try to find any discernable patterns"
   ]
  },
  {
   "cell_type": "code",
   "execution_count": 24,
   "metadata": {},
   "outputs": [],
   "source": [
    "leading_cause_female_pivot = processed_df \\\n",
    "                             .groupBy(\"year\",\"sex\") \\\n",
    "                             .pivot(\"leading_cause\") \\\n",
    "                             .sum(\"deaths\") \\\n",
    "                             .orderBy(\"year\") \\\n",
    "                             .where(F.col(\"sex\")==\"Female\") \\\n",
    "                             .na.fill(0)\n",
    "\n",
    "leading_cause_male_pivot = processed_df \\\n",
    "                             .groupBy(\"year\",\"sex\") \\\n",
    "                             .pivot(\"leading_cause\") \\\n",
    "                             .sum(\"deaths\") \\\n",
    "                             .orderBy(\"year\") \\\n",
    "                             .where(F.col(\"sex\")==\"Male\") \\\n",
    "                             .na.fill(0)\n",
    "\n",
    "leading_cause_female_pivot = format_data_cols(leading_cause_female_pivot)\n",
    "leading_cause_male_pivot = format_data_cols(leading_cause_male_pivot)\n",
    "\n",
    "leading_cause_female_pivot_pct_change = spark_calc_pct_change(leading_cause_female_pivot,\"year\")\n",
    "leading_cause_male_pivot_pct_change = spark_calc_pct_change(leading_cause_male_pivot,\"year\")"
   ]
  },
  {
   "cell_type": "markdown",
   "metadata": {},
   "source": [
    "### Female"
   ]
  },
  {
   "cell_type": "code",
   "execution_count": 25,
   "metadata": {},
   "outputs": [
    {
     "output_type": "execute_result",
     "data": {
      "text/plain": [
       "[Row(max_value=0.0, MAX='sex_pct_change'),\n",
       " Row(max_value=3133.33, MAX='Essential Hypertension and Renal Diseases (I10, I12)_pct_change'),\n",
       " Row(max_value=256.25, MAX='Mental and Behavioral Disorders due to Accidental Poisoning and Other Psychoactive Substance Use (F11-F16, F18-F19, X40-X42, X44)_pct_change'),\n",
       " Row(max_value=504.08, MAX='Nephritis, Nephrotic Syndrome and Nephrisis (N00-N07, N17-N19, N25-N27)_pct_change'),\n",
       " Row(max_value=560.0, MAX='Intentional Self-Harm (Suicide X60-X84, Y870)_pct_change'),\n",
       " Row(max_value=32.63, MAX=\"Alzheimer's Disease (G30)_pct_change\"),\n",
       " Row(max_value=316.46, MAX='Mental and Behavioral Disorders due to Accidental Poisoning and Other Psychoactive Substance Use (F11-F16, F18-F19, X40-X42, X44)_pct_change'),\n",
       " Row(max_value=100.0, MAX='Congenital Malformations, Deformations, and Chromosomal Abnormalities (Q00-Q99)_pct_change')]"
      ]
     },
     "metadata": {},
     "execution_count": 25
    }
   ],
   "source": [
    "find_max_cols(leading_cause_female_pivot_pct_change).collect()"
   ]
  },
  {
   "cell_type": "code",
   "execution_count": 26,
   "metadata": {},
   "outputs": [
    {
     "output_type": "execute_result",
     "data": {
      "text/plain": [
       "   Nephritis, Nephrotic Syndrome and Nephrisis (N00-N07, N17-N19, N25-N27)  \\\n",
       "0                                                  0                         \n",
       "1                                                 83                         \n",
       "2                                                 98                         \n",
       "3                                                592                         \n",
       "4                                                 90                         \n",
       "5                                                 80                         \n",
       "6                                                  1                         \n",
       "7                                                  0                         \n",
       "\n",
       "   Essential Hypertension and Renal Diseases (I10, I12)     sex  \\\n",
       "0                                                 33     Female   \n",
       "1                                               1067     Female   \n",
       "2                                               1066     Female   \n",
       "3                                                607     Female   \n",
       "4                                               1016     Female   \n",
       "5                                                590     Female   \n",
       "6                                                635     Female   \n",
       "7                                                661     Female   \n",
       "\n",
       "   Congenital Malformations, Deformations, and Chromosomal Abnormalities (Q00-Q99)  \\\n",
       "0                                                  0                                 \n",
       "1                                                  0                                 \n",
       "2                                                513                                 \n",
       "3                                                  0                                 \n",
       "4                                                484                                 \n",
       "5                                                  3                                 \n",
       "6                                                  1                                 \n",
       "7                                                  2                                 \n",
       "\n",
       "   Alzheimer's Disease (G30)  Intentional Self-Harm (Suicide X60-X84, Y870)  \\\n",
       "0                         71                                              0   \n",
       "1                        949                                            535   \n",
       "2                        976                                             33   \n",
       "3                        489                                              5   \n",
       "4                        567                                             33   \n",
       "5                        752                                             36   \n",
       "6                        774                                              0   \n",
       "7                        795                                              0   \n",
       "\n",
       "   Mental and Behavioral Disorders due to Accidental Poisoning and Other Psychoactive Substance Use (F11-F16, F18-F19, X40-X42, X44)  \n",
       "0                                                529                                                                                  \n",
       "1                                                144                                                                                  \n",
       "2                                                513                                                                                  \n",
       "3                                                 63                                                                                  \n",
       "4                                                  0                                                                                  \n",
       "5                                                 79                                                                                  \n",
       "6                                                329                                                                                  \n",
       "7                                                326                                                                                  "
      ],
      "text/html": "<div>\n<style scoped>\n    .dataframe tbody tr th:only-of-type {\n        vertical-align: middle;\n    }\n\n    .dataframe tbody tr th {\n        vertical-align: top;\n    }\n\n    .dataframe thead th {\n        text-align: right;\n    }\n</style>\n<table border=\"1\" class=\"dataframe\">\n  <thead>\n    <tr style=\"text-align: right;\">\n      <th></th>\n      <th>Nephritis, Nephrotic Syndrome and Nephrisis (N00-N07, N17-N19, N25-N27)</th>\n      <th>Essential Hypertension and Renal Diseases (I10, I12)</th>\n      <th>sex</th>\n      <th>Congenital Malformations, Deformations, and Chromosomal Abnormalities (Q00-Q99)</th>\n      <th>Alzheimer's Disease (G30)</th>\n      <th>Intentional Self-Harm (Suicide X60-X84, Y870)</th>\n      <th>Mental and Behavioral Disorders due to Accidental Poisoning and Other Psychoactive Substance Use (F11-F16, F18-F19, X40-X42, X44)</th>\n    </tr>\n  </thead>\n  <tbody>\n    <tr>\n      <th>0</th>\n      <td>0</td>\n      <td>33</td>\n      <td>Female</td>\n      <td>0</td>\n      <td>71</td>\n      <td>0</td>\n      <td>529</td>\n    </tr>\n    <tr>\n      <th>1</th>\n      <td>83</td>\n      <td>1067</td>\n      <td>Female</td>\n      <td>0</td>\n      <td>949</td>\n      <td>535</td>\n      <td>144</td>\n    </tr>\n    <tr>\n      <th>2</th>\n      <td>98</td>\n      <td>1066</td>\n      <td>Female</td>\n      <td>513</td>\n      <td>976</td>\n      <td>33</td>\n      <td>513</td>\n    </tr>\n    <tr>\n      <th>3</th>\n      <td>592</td>\n      <td>607</td>\n      <td>Female</td>\n      <td>0</td>\n      <td>489</td>\n      <td>5</td>\n      <td>63</td>\n    </tr>\n    <tr>\n      <th>4</th>\n      <td>90</td>\n      <td>1016</td>\n      <td>Female</td>\n      <td>484</td>\n      <td>567</td>\n      <td>33</td>\n      <td>0</td>\n    </tr>\n    <tr>\n      <th>5</th>\n      <td>80</td>\n      <td>590</td>\n      <td>Female</td>\n      <td>3</td>\n      <td>752</td>\n      <td>36</td>\n      <td>79</td>\n    </tr>\n    <tr>\n      <th>6</th>\n      <td>1</td>\n      <td>635</td>\n      <td>Female</td>\n      <td>1</td>\n      <td>774</td>\n      <td>0</td>\n      <td>329</td>\n    </tr>\n    <tr>\n      <th>7</th>\n      <td>0</td>\n      <td>661</td>\n      <td>Female</td>\n      <td>2</td>\n      <td>795</td>\n      <td>0</td>\n      <td>326</td>\n    </tr>\n  </tbody>\n</table>\n</div>"
     },
     "metadata": {},
     "execution_count": 26
    }
   ],
   "source": [
    "max_cols = list(set(row.MAX.replace(\"_pct_change\",\"\") for row in find_max_cols(leading_cause_female_pivot_pct_change).collect()))\n",
    "leading_cause_female_pivot_pct_change_data = leading_cause_female_pivot_pct_change.select(list(max_cols))\n",
    "leading_cause_female_pivot_pct_change_data.toPandas()"
   ]
  },
  {
   "cell_type": "code",
   "execution_count": 27,
   "metadata": {},
   "outputs": [
    {
     "output_type": "execute_result",
     "data": {
      "text/plain": [
       "[Row(min_value=0.0, MIN='sex_pct_change'),\n",
       " Row(min_value=-100.0, MIN='Certain Conditions originating in the Perinatal Period (P00-P96)_pct_change'),\n",
       " Row(min_value=-93.83, MIN='Intentional Self-Harm (Suicide X60-X84, Y870)_pct_change'),\n",
       " Row(min_value=-100.0, MIN='Aortic Aneurysm and Dissection (I71)_pct_change'),\n",
       " Row(min_value=-100.0, MIN='Certain Conditions originating in the Perinatal Period (P00-P96)_pct_change'),\n",
       " Row(min_value=-100.0, MIN='Chronic Liver Disease and Cirrhosis (K70, K73)_pct_change'),\n",
       " Row(min_value=-100.0, MIN='Atherosclerosis (I70)_pct_change'),\n",
       " Row(min_value=-100.0, MIN='Assault (Homicide U01-U02, Y871, X85-Y09)_pct_change')]"
      ]
     },
     "metadata": {},
     "execution_count": 27
    }
   ],
   "source": [
    "find_min_cols(leading_cause_female_pivot_pct_change).collect()"
   ]
  },
  {
   "cell_type": "code",
   "execution_count": 28,
   "metadata": {},
   "outputs": [
    {
     "output_type": "execute_result",
     "data": {
      "text/plain": [
       "      sex  Atherosclerosis (I70)  Aortic Aneurysm and Dissection (I71)  \\\n",
       "0  Female                      0                                     0   \n",
       "1  Female                      0                                     0   \n",
       "2  Female                      0                                   513   \n",
       "3  Female                      0                                     0   \n",
       "4  Female                      0                                     0   \n",
       "5  Female                      1                                     0   \n",
       "6  Female                      0                                     0   \n",
       "7  Female                      0                                     0   \n",
       "\n",
       "   Chronic Liver Disease and Cirrhosis (K70, K73)  \\\n",
       "0                                               0   \n",
       "1                                               0   \n",
       "2                                              54   \n",
       "3                                               0   \n",
       "4                                              66   \n",
       "5                                               0   \n",
       "6                                               0   \n",
       "7                                               0   \n",
       "\n",
       "   Intentional Self-Harm (Suicide X60-X84, Y870)  \\\n",
       "0                                              0   \n",
       "1                                            535   \n",
       "2                                             33   \n",
       "3                                              5   \n",
       "4                                             33   \n",
       "5                                             36   \n",
       "6                                              0   \n",
       "7                                              0   \n",
       "\n",
       "   Assault (Homicide U01-U02, Y871, X85-Y09)  \\\n",
       "0                                          0   \n",
       "1                                          0   \n",
       "2                                          0   \n",
       "3                                          0   \n",
       "4                                          0   \n",
       "5                                          0   \n",
       "6                                          1   \n",
       "7                                          0   \n",
       "\n",
       "   Certain Conditions originating in the Perinatal Period (P00-P96)  \n",
       "0                                                 18                 \n",
       "1                                                  0                 \n",
       "2                                                  0                 \n",
       "3                                                499                 \n",
       "4                                                  0                 \n",
       "5                                                  0                 \n",
       "6                                                  2                 \n",
       "7                                                  0                 "
      ],
      "text/html": "<div>\n<style scoped>\n    .dataframe tbody tr th:only-of-type {\n        vertical-align: middle;\n    }\n\n    .dataframe tbody tr th {\n        vertical-align: top;\n    }\n\n    .dataframe thead th {\n        text-align: right;\n    }\n</style>\n<table border=\"1\" class=\"dataframe\">\n  <thead>\n    <tr style=\"text-align: right;\">\n      <th></th>\n      <th>sex</th>\n      <th>Atherosclerosis (I70)</th>\n      <th>Aortic Aneurysm and Dissection (I71)</th>\n      <th>Chronic Liver Disease and Cirrhosis (K70, K73)</th>\n      <th>Intentional Self-Harm (Suicide X60-X84, Y870)</th>\n      <th>Assault (Homicide U01-U02, Y871, X85-Y09)</th>\n      <th>Certain Conditions originating in the Perinatal Period (P00-P96)</th>\n    </tr>\n  </thead>\n  <tbody>\n    <tr>\n      <th>0</th>\n      <td>Female</td>\n      <td>0</td>\n      <td>0</td>\n      <td>0</td>\n      <td>0</td>\n      <td>0</td>\n      <td>18</td>\n    </tr>\n    <tr>\n      <th>1</th>\n      <td>Female</td>\n      <td>0</td>\n      <td>0</td>\n      <td>0</td>\n      <td>535</td>\n      <td>0</td>\n      <td>0</td>\n    </tr>\n    <tr>\n      <th>2</th>\n      <td>Female</td>\n      <td>0</td>\n      <td>513</td>\n      <td>54</td>\n      <td>33</td>\n      <td>0</td>\n      <td>0</td>\n    </tr>\n    <tr>\n      <th>3</th>\n      <td>Female</td>\n      <td>0</td>\n      <td>0</td>\n      <td>0</td>\n      <td>5</td>\n      <td>0</td>\n      <td>499</td>\n    </tr>\n    <tr>\n      <th>4</th>\n      <td>Female</td>\n      <td>0</td>\n      <td>0</td>\n      <td>66</td>\n      <td>33</td>\n      <td>0</td>\n      <td>0</td>\n    </tr>\n    <tr>\n      <th>5</th>\n      <td>Female</td>\n      <td>1</td>\n      <td>0</td>\n      <td>0</td>\n      <td>36</td>\n      <td>0</td>\n      <td>0</td>\n    </tr>\n    <tr>\n      <th>6</th>\n      <td>Female</td>\n      <td>0</td>\n      <td>0</td>\n      <td>0</td>\n      <td>0</td>\n      <td>1</td>\n      <td>2</td>\n    </tr>\n    <tr>\n      <th>7</th>\n      <td>Female</td>\n      <td>0</td>\n      <td>0</td>\n      <td>0</td>\n      <td>0</td>\n      <td>0</td>\n      <td>0</td>\n    </tr>\n  </tbody>\n</table>\n</div>"
     },
     "metadata": {},
     "execution_count": 28
    }
   ],
   "source": [
    "min_cols = list(set(row.MIN.replace(\"_pct_change\",\"\") for row in find_min_cols(leading_cause_female_pivot_pct_change).collect()))\n",
    "leading_cause_female_pivot_pct_change_data = leading_cause_female_pivot_pct_change.select(list(min_cols))\n",
    "leading_cause_female_pivot_pct_change_data.toPandas()"
   ]
  },
  {
   "cell_type": "markdown",
   "metadata": {},
   "source": [
    "### Male"
   ]
  },
  {
   "cell_type": "code",
   "execution_count": 29,
   "metadata": {},
   "outputs": [
    {
     "output_type": "execute_result",
     "data": {
      "text/plain": [
       "[Row(max_value=0.0, MAX='sex_pct_change'),\n",
       " Row(max_value=504.62, MAX='Malignant Neoplasms (Cancer C00-C97)_pct_change'),\n",
       " Row(max_value=225.54, MAX='Intentional Self-Harm (Suicide X60-X84, Y870)_pct_change'),\n",
       " Row(max_value=315.34, MAX='Chronic Liver Disease and Cirrhosis (K70, K73)_pct_change'),\n",
       " Row(max_value=9.07, MAX='Mental and Behavioral Disorders due to Accidental Poisoning and Other Psychoactive Substance Use (F11-F16, F18-F19, X40-X42, X44)_pct_change'),\n",
       " Row(max_value=49.7, MAX='Essential Hypertension and Renal Diseases (I10, I12)_pct_change'),\n",
       " Row(max_value=100.0, MAX='Mental and Behavioral Disorders due to Use of Alcohol (F10)_pct_change'),\n",
       " Row(max_value=14.78, MAX='Essential Hypertension and Renal Diseases (I10, I12)_pct_change')]"
      ]
     },
     "metadata": {},
     "execution_count": 29
    }
   ],
   "source": [
    "find_max_cols(leading_cause_male_pivot_pct_change).collect()"
   ]
  },
  {
   "cell_type": "code",
   "execution_count": 30,
   "metadata": {},
   "outputs": [
    {
     "output_type": "execute_result",
     "data": {
      "text/plain": [
       "   Malignant Neoplasms (Cancer C00-C97)  \\\n",
       "0                                  1082   \n",
       "1                                  6542   \n",
       "2                                  6529   \n",
       "3                                  6535   \n",
       "4                                  6527   \n",
       "5                                  6401   \n",
       "6                                  6619   \n",
       "7                                  6502   \n",
       "\n",
       "   Essential Hypertension and Renal Diseases (I10, I12)   sex  \\\n",
       "0                                                183     Male   \n",
       "1                                                333     Male   \n",
       "2                                                335     Male   \n",
       "3                                                342     Male   \n",
       "4                                                330     Male   \n",
       "5                                                494     Male   \n",
       "6                                                460     Male   \n",
       "7                                                528     Male   \n",
       "\n",
       "   Mental and Behavioral Disorders due to Use of Alcohol (F10)  \\\n",
       "0                                                  0             \n",
       "1                                                  0             \n",
       "2                                                  0             \n",
       "3                                                  0             \n",
       "4                                                  0             \n",
       "5                                                  1             \n",
       "6                                                  2             \n",
       "7                                                  0             \n",
       "\n",
       "   Chronic Liver Disease and Cirrhosis (K70, K73)  \\\n",
       "0                                             150   \n",
       "1                                             172   \n",
       "2                                             163   \n",
       "3                                             677   \n",
       "4                                             205   \n",
       "5                                             166   \n",
       "6                                               0   \n",
       "7                                               0   \n",
       "\n",
       "   Intentional Self-Harm (Suicide X60-X84, Y870)  \\\n",
       "0                                            711   \n",
       "1                                            231   \n",
       "2                                            752   \n",
       "3                                            251   \n",
       "4                                            254   \n",
       "5                                            220   \n",
       "6                                              0   \n",
       "7                                              0   \n",
       "\n",
       "   Mental and Behavioral Disorders due to Accidental Poisoning and Other Psychoactive Substance Use (F11-F16, F18-F19, X40-X42, X44)  \n",
       "0                                                138                                                                                  \n",
       "1                                                534                                                                                  \n",
       "2                                                445                                                                                  \n",
       "3                                                474                                                                                  \n",
       "4                                                517                                                                                  \n",
       "5                                                761                                                                                  \n",
       "6                                               1112                                                                                  \n",
       "7                                               1159                                                                                  "
      ],
      "text/html": "<div>\n<style scoped>\n    .dataframe tbody tr th:only-of-type {\n        vertical-align: middle;\n    }\n\n    .dataframe tbody tr th {\n        vertical-align: top;\n    }\n\n    .dataframe thead th {\n        text-align: right;\n    }\n</style>\n<table border=\"1\" class=\"dataframe\">\n  <thead>\n    <tr style=\"text-align: right;\">\n      <th></th>\n      <th>Malignant Neoplasms (Cancer C00-C97)</th>\n      <th>Essential Hypertension and Renal Diseases (I10, I12)</th>\n      <th>sex</th>\n      <th>Mental and Behavioral Disorders due to Use of Alcohol (F10)</th>\n      <th>Chronic Liver Disease and Cirrhosis (K70, K73)</th>\n      <th>Intentional Self-Harm (Suicide X60-X84, Y870)</th>\n      <th>Mental and Behavioral Disorders due to Accidental Poisoning and Other Psychoactive Substance Use (F11-F16, F18-F19, X40-X42, X44)</th>\n    </tr>\n  </thead>\n  <tbody>\n    <tr>\n      <th>0</th>\n      <td>1082</td>\n      <td>183</td>\n      <td>Male</td>\n      <td>0</td>\n      <td>150</td>\n      <td>711</td>\n      <td>138</td>\n    </tr>\n    <tr>\n      <th>1</th>\n      <td>6542</td>\n      <td>333</td>\n      <td>Male</td>\n      <td>0</td>\n      <td>172</td>\n      <td>231</td>\n      <td>534</td>\n    </tr>\n    <tr>\n      <th>2</th>\n      <td>6529</td>\n      <td>335</td>\n      <td>Male</td>\n      <td>0</td>\n      <td>163</td>\n      <td>752</td>\n      <td>445</td>\n    </tr>\n    <tr>\n      <th>3</th>\n      <td>6535</td>\n      <td>342</td>\n      <td>Male</td>\n      <td>0</td>\n      <td>677</td>\n      <td>251</td>\n      <td>474</td>\n    </tr>\n    <tr>\n      <th>4</th>\n      <td>6527</td>\n      <td>330</td>\n      <td>Male</td>\n      <td>0</td>\n      <td>205</td>\n      <td>254</td>\n      <td>517</td>\n    </tr>\n    <tr>\n      <th>5</th>\n      <td>6401</td>\n      <td>494</td>\n      <td>Male</td>\n      <td>1</td>\n      <td>166</td>\n      <td>220</td>\n      <td>761</td>\n    </tr>\n    <tr>\n      <th>6</th>\n      <td>6619</td>\n      <td>460</td>\n      <td>Male</td>\n      <td>2</td>\n      <td>0</td>\n      <td>0</td>\n      <td>1112</td>\n    </tr>\n    <tr>\n      <th>7</th>\n      <td>6502</td>\n      <td>528</td>\n      <td>Male</td>\n      <td>0</td>\n      <td>0</td>\n      <td>0</td>\n      <td>1159</td>\n    </tr>\n  </tbody>\n</table>\n</div>"
     },
     "metadata": {},
     "execution_count": 30
    }
   ],
   "source": [
    "max_cols = list(set(row.MAX.replace(\"_pct_change\",\"\") for row in find_max_cols(leading_cause_male_pivot_pct_change).collect()))\n",
    "leading_cause_male_pivot_pct_change_data = leading_cause_male_pivot_pct_change.select(list(max_cols))\n",
    "leading_cause_male_pivot_pct_change_data.toPandas()"
   ]
  },
  {
   "cell_type": "code",
   "execution_count": 31,
   "metadata": {},
   "outputs": [
    {
     "output_type": "execute_result",
     "data": {
      "text/plain": [
       "[Row(min_value=0.0, MIN='sex_pct_change'),\n",
       " Row(min_value=-67.51, MIN='Intentional Self-Harm (Suicide X60-X84, Y870)_pct_change'),\n",
       " Row(min_value=-46.6, MIN='Chronic Lower Respiratory Diseases (J40-J47)_pct_change'),\n",
       " Row(min_value=-100.0, MIN='Certain Conditions originating in the Perinatal Period (P00-P96)_pct_change'),\n",
       " Row(min_value=-100.0, MIN=\"Alzheimer's Disease (G30)_pct_change\"),\n",
       " Row(min_value=-100.0, MIN='Certain Conditions originating in the Perinatal Period (P00-P96)_pct_change'),\n",
       " Row(min_value=-100.0, MIN='Assault (Homicide Y871, X85-Y09)_pct_change'),\n",
       " Row(min_value=-100.0, MIN='Certain Conditions originating in the Perinatal Period (P00-P96)_pct_change')]"
      ]
     },
     "metadata": {},
     "execution_count": 31
    }
   ],
   "source": [
    "find_min_cols(leading_cause_male_pivot_pct_change).collect()"
   ]
  },
  {
   "cell_type": "code",
   "execution_count": 32,
   "metadata": {},
   "outputs": [
    {
     "output_type": "execute_result",
     "data": {
      "text/plain": [
       "    sex  Chronic Lower Respiratory Diseases (J40-J47)  \\\n",
       "0  Male                                             0   \n",
       "1  Male                                          1354   \n",
       "2  Male                                           723   \n",
       "3  Male                                          1334   \n",
       "4  Male                                           825   \n",
       "5  Male                                           774   \n",
       "6  Male                                           737   \n",
       "7  Male                                           755   \n",
       "\n",
       "   Alzheimer's Disease (G30)  Assault (Homicide Y871, X85-Y09)  \\\n",
       "0                          0                               299   \n",
       "1                          0                               780   \n",
       "2                          0                               748   \n",
       "3                        499                               174   \n",
       "4                          0                               186   \n",
       "5                        170                               199   \n",
       "6                         40                                 0   \n",
       "7                         31                                 0   \n",
       "\n",
       "   Intentional Self-Harm (Suicide X60-X84, Y870)  \\\n",
       "0                                            711   \n",
       "1                                            231   \n",
       "2                                            752   \n",
       "3                                            251   \n",
       "4                                            254   \n",
       "5                                            220   \n",
       "6                                              0   \n",
       "7                                              0   \n",
       "\n",
       "   Certain Conditions originating in the Perinatal Period (P00-P96)  \n",
       "0                                                  0                 \n",
       "1                                                533                 \n",
       "2                                                513                 \n",
       "3                                                  0                 \n",
       "4                                                  8                 \n",
       "5                                                  0                 \n",
       "6                                                  1                 \n",
       "7                                                  0                 "
      ],
      "text/html": "<div>\n<style scoped>\n    .dataframe tbody tr th:only-of-type {\n        vertical-align: middle;\n    }\n\n    .dataframe tbody tr th {\n        vertical-align: top;\n    }\n\n    .dataframe thead th {\n        text-align: right;\n    }\n</style>\n<table border=\"1\" class=\"dataframe\">\n  <thead>\n    <tr style=\"text-align: right;\">\n      <th></th>\n      <th>sex</th>\n      <th>Chronic Lower Respiratory Diseases (J40-J47)</th>\n      <th>Alzheimer's Disease (G30)</th>\n      <th>Assault (Homicide Y871, X85-Y09)</th>\n      <th>Intentional Self-Harm (Suicide X60-X84, Y870)</th>\n      <th>Certain Conditions originating in the Perinatal Period (P00-P96)</th>\n    </tr>\n  </thead>\n  <tbody>\n    <tr>\n      <th>0</th>\n      <td>Male</td>\n      <td>0</td>\n      <td>0</td>\n      <td>299</td>\n      <td>711</td>\n      <td>0</td>\n    </tr>\n    <tr>\n      <th>1</th>\n      <td>Male</td>\n      <td>1354</td>\n      <td>0</td>\n      <td>780</td>\n      <td>231</td>\n      <td>533</td>\n    </tr>\n    <tr>\n      <th>2</th>\n      <td>Male</td>\n      <td>723</td>\n      <td>0</td>\n      <td>748</td>\n      <td>752</td>\n      <td>513</td>\n    </tr>\n    <tr>\n      <th>3</th>\n      <td>Male</td>\n      <td>1334</td>\n      <td>499</td>\n      <td>174</td>\n      <td>251</td>\n      <td>0</td>\n    </tr>\n    <tr>\n      <th>4</th>\n      <td>Male</td>\n      <td>825</td>\n      <td>0</td>\n      <td>186</td>\n      <td>254</td>\n      <td>8</td>\n    </tr>\n    <tr>\n      <th>5</th>\n      <td>Male</td>\n      <td>774</td>\n      <td>170</td>\n      <td>199</td>\n      <td>220</td>\n      <td>0</td>\n    </tr>\n    <tr>\n      <th>6</th>\n      <td>Male</td>\n      <td>737</td>\n      <td>40</td>\n      <td>0</td>\n      <td>0</td>\n      <td>1</td>\n    </tr>\n    <tr>\n      <th>7</th>\n      <td>Male</td>\n      <td>755</td>\n      <td>31</td>\n      <td>0</td>\n      <td>0</td>\n      <td>0</td>\n    </tr>\n  </tbody>\n</table>\n</div>"
     },
     "metadata": {},
     "execution_count": 32
    }
   ],
   "source": [
    "min_cols = list(set(row.MIN.replace(\"_pct_change\",\"\") for row in find_min_cols(leading_cause_male_pivot_pct_change).collect()))\n",
    "leading_cause_male_pivot_pct_change_data = leading_cause_male_pivot_pct_change.select(list(min_cols))\n",
    "leading_cause_male_pivot_pct_change_data.toPandas()"
   ]
  },
  {
   "cell_type": "markdown",
   "metadata": {},
   "source": [
    "- Males are more prone to self-harm than females. The death toll rose amongst females for 2011, but since then the numbers have been mitigated since then. The deaths due to self-harm are also decreasing amongst males, which indicates a good mental health amongst the people of the city.\n",
    "- Males are prone to assaults/homicide compared to females. There is only 1 female death reported in 7 years. As compared, male death tools are in the hundreds.\n",
    "- It seems like Alzheimer's is a rampant issue amongst females. With the exception of 2013, the death toll has been increasing year-on-year basis. On the other hand, males seem to be suffering from cancer(Malignant Neoplasms). The number has increased six folds from 2010 to 2011 and averages around 6500 every year."
   ]
  },
  {
   "source": [
    "# Saving data to hdfs"
   ],
   "cell_type": "markdown",
   "metadata": {}
  },
  {
   "cell_type": "code",
   "execution_count": 33,
   "metadata": {},
   "outputs": [],
   "source": [
    "def save_dataframes_to_hdfs(path,config,data_dfs,target_file_names):\n",
    "    \"\"\"\n",
    "        Function to store dataframe in hdfs\n",
    "        \n",
    "        Input:\n",
    "        \n",
    "        path: the directory path to store dataframe to\n",
    "        config: Config object\n",
    "        data_dfs: list of PySpark DataFrames to write\n",
    "        target_file_names: list of file names to store dataframes by        \n",
    "    \"\"\"\n",
    "\n",
    "    for data_df,target_file_name in zip(data_dfs,target_file_names):\n",
    "        print(f\"Processing file: {target_file_name}\")\n",
    "        data_df.write.format(\"csv\").mode(\"overwrite\").save(f\"{config.hdfs_datanode_host}/{path}/{target_file_name}\")"
   ]
  },
  {
   "cell_type": "code",
   "execution_count": 34,
   "metadata": {},
   "outputs": [
    {
     "output_type": "stream",
     "name": "stdout",
     "text": [
      "Processing file: sex_analysis_pivot.csv\n",
      "Processing file: leading_cause_pivot_pct_change_data.csv\n",
      "Processing file: leading_cause_male_pivot_pct_change_data.csv\n",
      "Processing file: leading_cause_female_pivot_pct_change_data.csv\n"
     ]
    }
   ],
   "source": [
    "data_dfs = (sex_analysis_pivot,leading_cause_pivot_pct_change_data,leading_cause_male_pivot_pct_change_data,leading_cause_female_pivot_pct_change_data)\n",
    "\n",
    "target_file_names = (\"sex_analysis_pivot.csv\",\"leading_cause_pivot_pct_change_data.csv\",\"leading_cause_male_pivot_pct_change_data.csv\",\"leading_cause_female_pivot_pct_change_data.csv\")\n",
    "\n",
    "save_dataframes_to_hdfs('csv-data',config,data_dfs,target_file_names)"
   ]
  },
  {
   "cell_type": "markdown",
   "metadata": {},
   "source": [
    "# Loading documents in Elasticsearch cluster"
   ]
  },
  {
   "cell_type": "code",
   "execution_count": 38,
   "metadata": {},
   "outputs": [],
   "source": [
    "def save_dataframes_to_elasticsearch(dataframes,indices,es_write_config):\n",
    "    \"\"\"\n",
    "       Helper function to save PySpark DataFrames to elasticsearch cluster\n",
    "\n",
    "       Parameters\n",
    "       ----------\n",
    "\n",
    "       dataframes: list of all PySpark DataFrames\n",
    "       indices: list of elasticsearch indices\n",
    "       es_write_config: dict of elasticsearch write config\n",
    "    \"\"\"\n",
    "\n",
    "    for dataframe,index in zip(dataframes,indices):\n",
    "        print(f\"Processing index:{index}\")\n",
    "\n",
    "        es_write_config['es.resource'] = index\n",
    "\n",
    "        rdd_ = dataframe.rdd\n",
    "        rdd_.map(lambda row: (None, \\\n",
    "                              json.dumps(row.asDict()))) \\\n",
    "            .saveAsNewAPIHadoopFile(path='-', \\\n",
    "                                    outputFormatClass=\"org.elasticsearch.hadoop.mr.EsOutputFormat\", \\\n",
    "                                    keyClass=\"org.apache.hadoop.io.NullWritable\", \\\n",
    "                                    valueClass=\"org.elasticsearch.hadoop.mr.LinkedMapWritable\", \\\n",
    "                                    conf=es_write_config)"
   ]
  },
  {
   "cell_type": "code",
   "execution_count": 40,
   "metadata": {},
   "outputs": [
    {
     "output_type": "stream",
     "name": "stdout",
     "text": [
      "Processing index:sex_analysis\n",
      "Processing index:leading_cause_analysis\n",
      "Processing index:leading_cause_male_analysis\n",
      "Processing index:leading_cause_female_analysis\n"
     ]
    }
   ],
   "source": [
    "data_dfs = (sex_analysis_pivot,leading_cause_pivot_pct_change_data,leading_cause_male_pivot_pct_change_data,leading_cause_female_pivot_pct_change_data)\n",
    "\n",
    "target_indices = (\"sex_analysis\",\"leading_cause_analysis\",\"leading_cause_male_analysis\",\"leading_cause_female_analysis\")\n",
    "\n",
    "es_write_conf = {\n",
    "        \"es.nodes\" : \"elasticsearch\",\n",
    "        \"es.port\" : \"9200\",\n",
    "        \"es.input.json\": \"yes\",\n",
    "        \"es.nodes.wan.only\": \"True\",\n",
    "        \"es.net.http.auth.user\": \"elastic\",\n",
    "        \"es.net.http.auth.pass\": \"elastic@1234\"\n",
    "    }\n",
    "\n",
    "save_dataframes_to_elasticsearch(data_dfs,target_indices,es_write_conf)"
   ]
  },
  {
   "source": [
    "### This sums it up! We extracted all the files from hdfs, transformed and analyzed them and finally loaded them in our elasticsearch cluster!"
   ],
   "cell_type": "markdown",
   "metadata": {}
  },
  {
   "cell_type": "code",
   "execution_count": null,
   "metadata": {},
   "outputs": [],
   "source": []
  }
 ],
 "metadata": {
  "kernelspec": {
   "display_name": "Python 3",
   "language": "python",
   "name": "python3"
  }
 },
 "nbformat": 4,
 "nbformat_minor": 2
}