{
 "cells": [
  {
   "cell_type": "code",
   "execution_count": 1,
   "id": "documented-cruise",
   "metadata": {},
   "outputs": [],
   "source": [
    "import warnings\n",
    "warnings.filterwarnings('ignore')\n",
    "\n",
    "from hdfs import InsecureClient\n",
    "import pyspark\n",
    "from pyspark.sql import SparkSession, DataFrame\n",
    "from pyspark.conf import SparkConf\n",
    "from functools import reduce\n",
    "from elasticsearch import Elasticsearch,helpers\n",
    "\n",
    "import pandas as pd\n",
    "import numpy as np"
   ]
  },
  {
   "cell_type": "markdown",
   "id": "destroyed-greeting",
   "metadata": {},
   "source": [
    "# Initializing Spark Session object"
   ]
  },
  {
   "cell_type": "code",
   "execution_count": 2,
   "id": "4a2b2d78",
   "metadata": {},
   "outputs": [],
   "source": [
    "class Config:\n",
    "\n",
    "    def __init__(self,\n",
    "                elasticsearch_host,\n",
    "                elasticsearch_auth_user,\n",
    "                elasticsearch_auth_pass,\n",
    "                hdfs_datanode_host,\n",
    "                hdfs_user):\n",
    "        self.elasticsearch_host = elasticsearch_host\n",
    "        self.elasticsearch_auth_user = elasticsearch_auth_user\n",
    "        self.elasticsearch_auth_pass = elasticsearch_auth_pass\n",
    "        self.hdfs_datanode_host = hdfs_datanode_host\n",
    "        self.hdfs_user = hdfs_user\n",
    "        \n",
    "\n",
    "    def _initialize_spark_session(self,appName,*,config):\n",
    "        spark_config = pyspark.SparkConf().setAll([(key,value) for key,value in config.items()])\n",
    "        spark_app = (SparkSession\n",
    "                    .builder\n",
    "                    .appName(appName)\n",
    "                    .config(conf=spark_config)\n",
    "                    .getOrCreate())\n",
    "        return spark_app\n",
    "\n",
    "\n",
    "    def _initialize_elasticsearch_client(self):\n",
    "        return Elasticsearch(hosts=self.elasticsearch_host,\n",
    "                            http_auth=(self.elasticsearch_auth_user,self.elasticsearch_auth_pass))"
   ]
  },
  {
   "cell_type": "code",
   "execution_count": 3,
   "id": "a522a70f",
   "metadata": {},
   "outputs": [],
   "source": [
    "conf_options = {\n",
    "    \"spark.jars\": \"/home/jovyan/spark_conf/elasticsearch-hadoop-7.11.1/dist/elasticsearch-hadoop-7.11.1.jar\",\n",
    "    \"spark.jars\": \"/home/jovyan/spark_conf/elasticsearch-hadoop-7.11.1/dist/elasticsearch-spark-20_2.11-7.11.1.jar\",\n",
    "    \"spark.es.nodes\": \"elasticsearch\",\n",
    "    \"spark.es.port\": \"9200\"\n",
    "}"
   ]
  },
  {
   "cell_type": "code",
   "execution_count": 4,
   "id": "82e63966",
   "metadata": {},
   "outputs": [],
   "source": [
    "config = Config(elasticsearch_host=\"elasticsearch:9200\",\n",
    "            elasticsearch_auth_user=\"elastic\",\n",
    "            elasticsearch_auth_pass=\"elastic@1234\",\n",
    "            hdfs_datanode_host=\"hdfs://hadoop-filebeat:8020\",\n",
    "            hdfs_user=\"nifi\")\n",
    "spark = config._initialize_spark_session(\"SparkApplication\",config=conf_options)\n",
    "es = config._initialize_elasticsearch_client()"
   ]
  },
  {
   "cell_type": "markdown",
   "id": "c9d52534",
   "metadata": {},
   "source": [
    "# Listing and merging all files in a single PySpark dataframe"
   ]
  },
  {
   "cell_type": "code",
   "execution_count": 5,
   "id": "ee0a4293",
   "metadata": {},
   "outputs": [
    {
     "output_type": "execute_result",
     "data": {
      "text/plain": [
       "['0babf50d-87e0-4957-ac1b-d0cfe705b788',\n",
       " '16b2f3df-37f3-4e6a-bfd5-5764331e43cd',\n",
       " '17114891-2b86-4134-aa0b-02d41e665dbc',\n",
       " '174787f6-09a5-404b-841c-d65284aa644f',\n",
       " '1d7816ce-a52b-431e-ab7c-0d873cf8f3c2',\n",
       " '2e4306a2-582c-41d6-bbf3-bdefb64042c3',\n",
       " '42e16bca-0ef1-42dc-a3aa-9d667263a8a1',\n",
       " '45f4a8df-9619-4261-b131-95715ded2805',\n",
       " '5848e67e-6b2c-497f-bd82-d9d47c076281',\n",
       " '697821bf-193b-4f3e-8fd9-347f76997b49',\n",
       " '6da5d622-33f9-44c9-9090-dc571a1f800d',\n",
       " '6f140c1d-7b25-446a-802b-a608c1cc3b23',\n",
       " '752ea9e5-7cc8-4df8-9ab5-84e3bdefbb50',\n",
       " '772165f7-b15d-493c-afe1-a87ed9a433ea',\n",
       " '7bc79187-0797-4e2d-9762-3583f327b10c',\n",
       " '7d6e4166-60d6-49ca-8216-367ee44c2914',\n",
       " '9e375f66-f788-4f6f-931d-5fe7ac49b735',\n",
       " 'a5ee1c0f-4f9f-43c1-a6e6-953d9edc5992',\n",
       " 'b352f056-c122-466b-a2c5-c0a9eb9f48e4',\n",
       " 'c89822b3-5eba-490f-889a-2e80b445ebe7',\n",
       " 'e3eaabfb-8460-4c1f-b5fe-aa0aeb619cb5',\n",
       " 'efbc399f-249f-4456-a07b-157d0cef7fb9']"
      ]
     },
     "metadata": {},
     "execution_count": 5
    }
   ],
   "source": [
    "client = InsecureClient(\"http://hadoop-filebeat:50070\",user=\"nifi\")\n",
    "client.list('/dfs-data')"
   ]
  },
  {
   "cell_type": "code",
   "execution_count": 6,
   "id": "f05ca4cd",
   "metadata": {},
   "outputs": [],
   "source": [
    "def fetch_and_merge_files(path,config):\n",
    "    \"\"\"\n",
    "        Generator Function to fetch files stored in the hdfs file system and lazily evaluate them when \n",
    "        concatenating them\n",
    "    \"\"\"\n",
    "    directory_path = f\"{config.hdfs_datanode_host}/{path}\"\n",
    "    \n",
    "\n",
    "    def get_files(path):\n",
    "        nonlocal directory_path\n",
    "        for file in client.list(path):\n",
    "            print(f\"Processing file: {file}\")\n",
    "            yield spark.read.format(\"csv\").option(\"delimiter\",\",\").option(\"header\",\"true\").load(f\"{directory_path}/{file}\")\n",
    "    \n",
    "    def unionAll(*dfs):\n",
    "        return reduce(DataFrame.unionAll,dfs)\n",
    "    \n",
    "    return unionAll(*(file for file in get_files(path)))"
   ]
  },
  {
   "cell_type": "code",
   "execution_count": 7,
   "id": "a56d9c59",
   "metadata": {},
   "outputs": [
    {
     "output_type": "stream",
     "name": "stdout",
     "text": [
      "Processing file: 0babf50d-87e0-4957-ac1b-d0cfe705b788\n",
      "Processing file: 16b2f3df-37f3-4e6a-bfd5-5764331e43cd\n",
      "Processing file: 17114891-2b86-4134-aa0b-02d41e665dbc\n",
      "Processing file: 174787f6-09a5-404b-841c-d65284aa644f\n",
      "Processing file: 1d7816ce-a52b-431e-ab7c-0d873cf8f3c2\n",
      "Processing file: 2e4306a2-582c-41d6-bbf3-bdefb64042c3\n",
      "Processing file: 42e16bca-0ef1-42dc-a3aa-9d667263a8a1\n",
      "Processing file: 45f4a8df-9619-4261-b131-95715ded2805\n",
      "Processing file: 5848e67e-6b2c-497f-bd82-d9d47c076281\n",
      "Processing file: 697821bf-193b-4f3e-8fd9-347f76997b49\n",
      "Processing file: 6da5d622-33f9-44c9-9090-dc571a1f800d\n",
      "Processing file: 6f140c1d-7b25-446a-802b-a608c1cc3b23\n",
      "Processing file: 752ea9e5-7cc8-4df8-9ab5-84e3bdefbb50\n",
      "Processing file: 772165f7-b15d-493c-afe1-a87ed9a433ea\n",
      "Processing file: 7bc79187-0797-4e2d-9762-3583f327b10c\n",
      "Processing file: 7d6e4166-60d6-49ca-8216-367ee44c2914\n",
      "Processing file: 9e375f66-f788-4f6f-931d-5fe7ac49b735\n",
      "Processing file: a5ee1c0f-4f9f-43c1-a6e6-953d9edc5992\n",
      "Processing file: b352f056-c122-466b-a2c5-c0a9eb9f48e4\n",
      "Processing file: c89822b3-5eba-490f-889a-2e80b445ebe7\n",
      "Processing file: e3eaabfb-8460-4c1f-b5fe-aa0aeb619cb5\n",
      "Processing file: efbc399f-249f-4456-a07b-157d0cef7fb9\n"
     ]
    }
   ],
   "source": [
    "merged_file = fetch_and_merge_files(\"/dfs-data\",config)"
   ]
  },
  {
   "cell_type": "code",
   "execution_count": 8,
   "metadata": {},
   "outputs": [],
   "source": [
    "df = merged_file.toPandas()\n",
    "final_df = df.drop_duplicates()"
   ]
  },
  {
   "cell_type": "markdown",
   "id": "d815cc3e",
   "metadata": {},
   "source": [
    "# Performing Analysis"
   ]
  },
  {
   "cell_type": "code",
   "execution_count": 9,
   "id": "97f020c9",
   "metadata": {},
   "outputs": [
    {
     "output_type": "execute_result",
     "data": {
      "text/plain": [
       "Index(['year', 'leading_cause', 'sex', 'race_ethnicity', 'deaths',\n",
       "       'death_rate', 'age_adjusted_death_rate'],\n",
       "      dtype='object')"
      ]
     },
     "metadata": {},
     "execution_count": 9
    }
   ],
   "source": [
    "final_df.columns"
   ]
  },
  {
   "cell_type": "code",
   "execution_count": 10,
   "id": "4557603e",
   "metadata": {},
   "outputs": [],
   "source": [
    "#replacing values \n",
    "final_df.replace([\".\",\"M\",\"F\",\"Accidents Except Drug Posioning (V01-X39, X43, X45-X59, Y85-Y86)\",\"Black Non-Hispanic\",\"White Non-Hispanic\"],\n",
    "                 [np.nan,\"Male\",\"Female\",\"Accidents Except Drug Poisoning (V01-X39, X43, X45-X59, Y85-Y86)\",\"Non-Hispanic Black\",\"Non-Hispanic White\"],\n",
    "                 inplace=True)"
   ]
  },
  {
   "cell_type": "code",
   "execution_count": 11,
   "id": "78de686b",
   "metadata": {},
   "outputs": [],
   "source": [
    "def convert_columns(data_df,columns,fill_anchor_column):\n",
    "    \"\"\"\n",
    "        converting death rates and age adjusted death rates to float types \n",
    "        and replacing the nan values with the mean of the group for that year\n",
    "        \n",
    "        Input\n",
    "        \n",
    "        data_df(pandas.DataFrame): dataframe to convert columns of\n",
    "        columns(dict): dict containing column names and the type the column to be converted to\n",
    "        fill_anchor_column(str): name of the anchor colume, by which the dataframe would be grouped \n",
    "                            and the filling value would be calculated\n",
    "        \n",
    "        Output\n",
    "        \n",
    "        copied_df(pandas.DataFrame): processed dataframe\n",
    "    \"\"\"\n",
    "    copied_df = data_df.copy(deep=True)\n",
    "    for column in columns:\n",
    "        copied_df[column] = copied_df[column].astype(columns[column])\n",
    "        copied_df[column] = copied_df.groupby(fill_anchor_column)[column].transform(lambda x:x.fillna(x.mean()))\n",
    "    return copied_df\n",
    "\n",
    "\n",
    "def calc_percentages(data_df,target_column):\n",
    "    \"\"\"\n",
    "        Function to calculate percentages of each column value and output pd.Series\n",
    "        \n",
    "        Input:\n",
    "        \n",
    "        data_df(pandas.DataFrame): dataframe to calculate percentages from\n",
    "        target_column(str): targt column to calculate percentages of\n",
    "        \n",
    "        Output:\n",
    "        pandas.Series: series containing the calculated percentages for target_column of data_df\n",
    "    \"\"\"\n",
    "    return data_df[target_column].apply(lambda x:int(x/data_df[target_column].values[0]*100))"
   ]
  },
  {
   "cell_type": "markdown",
   "id": "583eb11b",
   "metadata": {},
   "source": [
    "### Some topics for analysis\n",
    "\n",
    "#### - Analysis across genders\n",
    "    - What are the leading cause of deaths per year, with their average death count, across genders\n",
    "    - What are the average deaths per year, across genders\n",
    "#### - Analysis for race ethnicites\n",
    "    - What are the leading cause of deaths per year, across race ethnicites"
   ]
  },
  {
   "cell_type": "markdown",
   "id": "adddf53b",
   "metadata": {},
   "source": [
    "Some notes:\n",
    "- Death rates and age adjusted death rates are not available for minor and unknown ethnicites\n"
   ]
  },
  {
   "cell_type": "code",
   "execution_count": 12,
   "id": "4f788a89",
   "metadata": {},
   "outputs": [],
   "source": [
    "segregated_df = final_df[~final_df['race_ethnicity'].isin(['Not Stated/Unknown','Other Race/Ethnicity'])]\n",
    "segregated_df = convert_columns(segregated_df,{\"deaths\":float,\"death_rate\":float,\"age_adjusted_death_rate\":float},\"year\")"
   ]
  },
  {
   "cell_type": "code",
   "execution_count": 13,
   "id": "bf1cd049",
   "metadata": {},
   "outputs": [],
   "source": [
    "sex_analysis_pivot = pd.pivot_table(data=segregated_df,\n",
    "                       index='year',\n",
    "                       columns='sex',\n",
    "                       values='deaths',\n",
    "                       aggfunc=np.sum,\n",
    "                       fill_value=0).astype(int)"
   ]
  },
  {
   "cell_type": "code",
   "execution_count": 14,
   "id": "40bf6a6a",
   "metadata": {},
   "outputs": [
    {
     "output_type": "execute_result",
     "data": {
      "text/plain": [
       "sex   Female   Male  Female_pct_change  Male_pct_change\n",
       "year                                                   \n",
       "2010   17530   7865                100              100\n",
       "2011   29545  27026                168              343\n",
       "2012   30134  27394                171              348\n",
       "2013   28267  27212                161              345\n",
       "2014   27627  25710                157              326\n",
       "2015   27076  26067                154              331\n",
       "2016   26769  26468                152              336\n",
       "2017   26765  26553                152              337"
      ],
      "text/html": "<div>\n<style scoped>\n    .dataframe tbody tr th:only-of-type {\n        vertical-align: middle;\n    }\n\n    .dataframe tbody tr th {\n        vertical-align: top;\n    }\n\n    .dataframe thead th {\n        text-align: right;\n    }\n</style>\n<table border=\"1\" class=\"dataframe\">\n  <thead>\n    <tr style=\"text-align: right;\">\n      <th>sex</th>\n      <th>Female</th>\n      <th>Male</th>\n      <th>Female_pct_change</th>\n      <th>Male_pct_change</th>\n    </tr>\n    <tr>\n      <th>year</th>\n      <th></th>\n      <th></th>\n      <th></th>\n      <th></th>\n    </tr>\n  </thead>\n  <tbody>\n    <tr>\n      <th>2010</th>\n      <td>17530</td>\n      <td>7865</td>\n      <td>100</td>\n      <td>100</td>\n    </tr>\n    <tr>\n      <th>2011</th>\n      <td>29545</td>\n      <td>27026</td>\n      <td>168</td>\n      <td>343</td>\n    </tr>\n    <tr>\n      <th>2012</th>\n      <td>30134</td>\n      <td>27394</td>\n      <td>171</td>\n      <td>348</td>\n    </tr>\n    <tr>\n      <th>2013</th>\n      <td>28267</td>\n      <td>27212</td>\n      <td>161</td>\n      <td>345</td>\n    </tr>\n    <tr>\n      <th>2014</th>\n      <td>27627</td>\n      <td>25710</td>\n      <td>157</td>\n      <td>326</td>\n    </tr>\n    <tr>\n      <th>2015</th>\n      <td>27076</td>\n      <td>26067</td>\n      <td>154</td>\n      <td>331</td>\n    </tr>\n    <tr>\n      <th>2016</th>\n      <td>26769</td>\n      <td>26468</td>\n      <td>152</td>\n      <td>336</td>\n    </tr>\n    <tr>\n      <th>2017</th>\n      <td>26765</td>\n      <td>26553</td>\n      <td>152</td>\n      <td>337</td>\n    </tr>\n  </tbody>\n</table>\n</div>"
     },
     "metadata": {},
     "execution_count": 14
    }
   ],
   "source": [
    "sex_analysis_pivot['Female_pct_change'] = calc_percentages(sex_analysis_pivot,\"Female\")\n",
    "sex_analysis_pivot['Male_pct_change'] = calc_percentages(sex_analysis_pivot,\"Male\")\n",
    "sex_analysis_pivot"
   ]
  },
  {
   "cell_type": "markdown",
   "id": "2f496c6a",
   "metadata": {},
   "source": [
    "- The above table suggests that for females, the total death counts shows a incline of 52% from 17530 to 26765, while for males the average death counts have more than tripled (surge of 237%), from 7865 to 26553. \n",
    "- This shows that the matter of concern is much higher in males as compared to females"
   ]
  },
  {
   "cell_type": "markdown",
   "id": "a02d3596",
   "metadata": {},
   "source": [
    "### Lets dive deep to understand the reason for deaths amongst the genders"
   ]
  },
  {
   "cell_type": "code",
   "execution_count": 15,
   "id": "30002dcf",
   "metadata": {},
   "outputs": [
    {
     "output_type": "execute_result",
     "data": {
      "text/plain": [
       "    year     sex                                      leading_cause  deaths\n",
       "0   2010  Female  Mental and Behavioral Disorders due to Acciden...  5351.0\n",
       "2   2011  Female  Nephritis, Nephrotic Syndrome and Nephrisis (N...  5016.0\n",
       "4   2012  Female                               Septicemia (A40-A41)  4719.0\n",
       "6   2013  Female                          Viral Hepatitis (B15-B19)  4535.0\n",
       "8   2014  Female                               Septicemia (A40-A41)  4507.0\n",
       "10  2015  Female                               Septicemia (A40-A41)  4494.0\n",
       "12  2016  Female                               Septicemia (A40-A41)  4306.0\n",
       "14  2017  Female                               Septicemia (A40-A41)  4279.0"
      ],
      "text/html": "<div>\n<style scoped>\n    .dataframe tbody tr th:only-of-type {\n        vertical-align: middle;\n    }\n\n    .dataframe tbody tr th {\n        vertical-align: top;\n    }\n\n    .dataframe thead th {\n        text-align: right;\n    }\n</style>\n<table border=\"1\" class=\"dataframe\">\n  <thead>\n    <tr style=\"text-align: right;\">\n      <th></th>\n      <th>year</th>\n      <th>sex</th>\n      <th>leading_cause</th>\n      <th>deaths</th>\n    </tr>\n  </thead>\n  <tbody>\n    <tr>\n      <th>0</th>\n      <td>2010</td>\n      <td>Female</td>\n      <td>Mental and Behavioral Disorders due to Acciden...</td>\n      <td>5351.0</td>\n    </tr>\n    <tr>\n      <th>2</th>\n      <td>2011</td>\n      <td>Female</td>\n      <td>Nephritis, Nephrotic Syndrome and Nephrisis (N...</td>\n      <td>5016.0</td>\n    </tr>\n    <tr>\n      <th>4</th>\n      <td>2012</td>\n      <td>Female</td>\n      <td>Septicemia (A40-A41)</td>\n      <td>4719.0</td>\n    </tr>\n    <tr>\n      <th>6</th>\n      <td>2013</td>\n      <td>Female</td>\n      <td>Viral Hepatitis (B15-B19)</td>\n      <td>4535.0</td>\n    </tr>\n    <tr>\n      <th>8</th>\n      <td>2014</td>\n      <td>Female</td>\n      <td>Septicemia (A40-A41)</td>\n      <td>4507.0</td>\n    </tr>\n    <tr>\n      <th>10</th>\n      <td>2015</td>\n      <td>Female</td>\n      <td>Septicemia (A40-A41)</td>\n      <td>4494.0</td>\n    </tr>\n    <tr>\n      <th>12</th>\n      <td>2016</td>\n      <td>Female</td>\n      <td>Septicemia (A40-A41)</td>\n      <td>4306.0</td>\n    </tr>\n    <tr>\n      <th>14</th>\n      <td>2017</td>\n      <td>Female</td>\n      <td>Septicemia (A40-A41)</td>\n      <td>4279.0</td>\n    </tr>\n  </tbody>\n</table>\n</div>"
     },
     "metadata": {},
     "execution_count": 15
    }
   ],
   "source": [
    "leading_cause_df = segregated_df.groupby(by=[\"year\",\"sex\"])[['leading_cause','deaths']].max().reset_index()\n",
    "leading_cause_df[leading_cause_df['sex']=='Female']"
   ]
  },
  {
   "cell_type": "code",
   "execution_count": 16,
   "id": "9b47d1b5",
   "metadata": {},
   "outputs": [
    {
     "output_type": "execute_result",
     "data": {
      "text/plain": [
       "    year   sex                                      leading_cause  deaths\n",
       "1   2010  Male  Mental and Behavioral Disorders due to Acciden...  1354.0\n",
       "3   2011  Male  Mental and Behavioral Disorders due to Acciden...  4220.0\n",
       "5   2012  Male                               Septicemia (A40-A41)  4156.0\n",
       "7   2013  Male  Mental and Behavioral Disorders due to Acciden...  4085.0\n",
       "9   2014  Male  Nephritis, Nephrotic Syndrome and Nephrisis (N...  3990.0\n",
       "11  2015  Male                          Viral Hepatitis (B15-B19)  4015.0\n",
       "13  2016  Male                             Peptic Ulcer (K25-K28)  4054.0\n",
       "15  2017  Male                               Septicemia (A40-A41)  4082.0"
      ],
      "text/html": "<div>\n<style scoped>\n    .dataframe tbody tr th:only-of-type {\n        vertical-align: middle;\n    }\n\n    .dataframe tbody tr th {\n        vertical-align: top;\n    }\n\n    .dataframe thead th {\n        text-align: right;\n    }\n</style>\n<table border=\"1\" class=\"dataframe\">\n  <thead>\n    <tr style=\"text-align: right;\">\n      <th></th>\n      <th>year</th>\n      <th>sex</th>\n      <th>leading_cause</th>\n      <th>deaths</th>\n    </tr>\n  </thead>\n  <tbody>\n    <tr>\n      <th>1</th>\n      <td>2010</td>\n      <td>Male</td>\n      <td>Mental and Behavioral Disorders due to Acciden...</td>\n      <td>1354.0</td>\n    </tr>\n    <tr>\n      <th>3</th>\n      <td>2011</td>\n      <td>Male</td>\n      <td>Mental and Behavioral Disorders due to Acciden...</td>\n      <td>4220.0</td>\n    </tr>\n    <tr>\n      <th>5</th>\n      <td>2012</td>\n      <td>Male</td>\n      <td>Septicemia (A40-A41)</td>\n      <td>4156.0</td>\n    </tr>\n    <tr>\n      <th>7</th>\n      <td>2013</td>\n      <td>Male</td>\n      <td>Mental and Behavioral Disorders due to Acciden...</td>\n      <td>4085.0</td>\n    </tr>\n    <tr>\n      <th>9</th>\n      <td>2014</td>\n      <td>Male</td>\n      <td>Nephritis, Nephrotic Syndrome and Nephrisis (N...</td>\n      <td>3990.0</td>\n    </tr>\n    <tr>\n      <th>11</th>\n      <td>2015</td>\n      <td>Male</td>\n      <td>Viral Hepatitis (B15-B19)</td>\n      <td>4015.0</td>\n    </tr>\n    <tr>\n      <th>13</th>\n      <td>2016</td>\n      <td>Male</td>\n      <td>Peptic Ulcer (K25-K28)</td>\n      <td>4054.0</td>\n    </tr>\n    <tr>\n      <th>15</th>\n      <td>2017</td>\n      <td>Male</td>\n      <td>Septicemia (A40-A41)</td>\n      <td>4082.0</td>\n    </tr>\n  </tbody>\n</table>\n</div>"
     },
     "metadata": {},
     "execution_count": 16
    }
   ],
   "source": [
    "leading_cause_df[leading_cause_df['sex']=='Male']"
   ]
  },
  {
   "cell_type": "markdown",
   "id": "cc65a544",
   "metadata": {},
   "source": [
    "- The above analysis shows that for females, the leading cause of death in recent years has been Septicemia, a disease which can occur through urinary tract infections, pneumonia, kidney infections etc.\n",
    "- As compared, the causes are quite different for men, between Mental and Behavioral disorders due to poisoning and other psychoactive substance use, viral Hepatitis, Peptic Ulcer and Septicemia"
   ]
  },
  {
   "cell_type": "markdown",
   "id": "771815c2",
   "metadata": {},
   "source": [
    "### Analysis of the reasons leading to the disease\n",
    "- A quick look on the internet and we find out that Septicemia is caused by lung and kidney infection, body organs affected by smoking and alcohol consumption. Furthermore, psychoactive substances do include alcohol and nicotine(present in cigarettes).\n",
    "- In addition risk factors of peptic ulcers include smoking and alcohol consumption. All these suggest that <b>alcohol consumption and smoking have been the major reasons causing deaths in the last 7 years</b>\n",
    "- Also, looking at the surge of death counts, while the leading cause being the same, it is quite possible that alcohol consumption and smoking have increased in NYC in the span of 7 years"
   ]
  },
  {
   "cell_type": "markdown",
   "id": "46d17a33",
   "metadata": {},
   "source": [
    "### Let's analyze the death rates in context of race ethnicites"
   ]
  },
  {
   "cell_type": "code",
   "execution_count": 17,
   "id": "238abad9",
   "metadata": {},
   "outputs": [],
   "source": [
    "race_ethnicity_pivot = pd.pivot_table(data=segregated_df,\n",
    "                                   index='year',\n",
    "                                   columns='race_ethnicity',\n",
    "                                   values='deaths',\n",
    "                                   aggfunc=np.sum,\n",
    "                                   fill_value=0).astype(int)"
   ]
  },
  {
   "cell_type": "code",
   "execution_count": 18,
   "id": "7e89fe60",
   "metadata": {},
   "outputs": [
    {
     "output_type": "execute_result",
     "data": {
      "text/plain": [
       "race_ethnicity  Asian and Pacific Islander  Hispanic  Non-Hispanic Black  \\\n",
       "year                                                                       \n",
       "2010                                  1125      6387                4720   \n",
       "2011                                  3341      9391               13910   \n",
       "2012                                  3446      9420               13864   \n",
       "2013                                  3651      9672               13911   \n",
       "2014                                  3880      9687               13755   \n",
       "2015                                  4078     10182               14178   \n",
       "2016                                  4252     10465               14239   \n",
       "2017                                  4524     10637               14347   \n",
       "\n",
       "race_ethnicity  Non-Hispanic White  Other Race/ Ethnicity  \\\n",
       "year                                                        \n",
       "2010                         10347                   2816   \n",
       "2011                         25549                   4381   \n",
       "2012                         24904                   5895   \n",
       "2013                         24891                   3354   \n",
       "2014                         24533                   1482   \n",
       "2015                         24568                    137   \n",
       "2016                         24146                    135   \n",
       "2017                         23679                    131   \n",
       "\n",
       "race_ethnicity  Asian_Pacific_pct_change  Hispanic_pct_change  \\\n",
       "year                                                            \n",
       "2010                                 100                  100   \n",
       "2011                                 296                  147   \n",
       "2012                                 306                  147   \n",
       "2013                                 324                  151   \n",
       "2014                                 344                  151   \n",
       "2015                                 362                  159   \n",
       "2016                                 377                  163   \n",
       "2017                                 402                  166   \n",
       "\n",
       "race_ethnicity  Non-Hispanic_Black_pct_change  Non-Hispanic_White_pct_change  \\\n",
       "year                                                                           \n",
       "2010                                      100                            100   \n",
       "2011                                      294                            246   \n",
       "2012                                      293                            240   \n",
       "2013                                      294                            240   \n",
       "2014                                      291                            237   \n",
       "2015                                      300                            237   \n",
       "2016                                      301                            233   \n",
       "2017                                      303                            228   \n",
       "\n",
       "race_ethnicity  Other_Race_pct_change  \n",
       "year                                   \n",
       "2010                              100  \n",
       "2011                              155  \n",
       "2012                              209  \n",
       "2013                              119  \n",
       "2014                               52  \n",
       "2015                                4  \n",
       "2016                                4  \n",
       "2017                                4  "
      ],
      "text/html": "<div>\n<style scoped>\n    .dataframe tbody tr th:only-of-type {\n        vertical-align: middle;\n    }\n\n    .dataframe tbody tr th {\n        vertical-align: top;\n    }\n\n    .dataframe thead th {\n        text-align: right;\n    }\n</style>\n<table border=\"1\" class=\"dataframe\">\n  <thead>\n    <tr style=\"text-align: right;\">\n      <th>race_ethnicity</th>\n      <th>Asian and Pacific Islander</th>\n      <th>Hispanic</th>\n      <th>Non-Hispanic Black</th>\n      <th>Non-Hispanic White</th>\n      <th>Other Race/ Ethnicity</th>\n      <th>Asian_Pacific_pct_change</th>\n      <th>Hispanic_pct_change</th>\n      <th>Non-Hispanic_Black_pct_change</th>\n      <th>Non-Hispanic_White_pct_change</th>\n      <th>Other_Race_pct_change</th>\n    </tr>\n    <tr>\n      <th>year</th>\n      <th></th>\n      <th></th>\n      <th></th>\n      <th></th>\n      <th></th>\n      <th></th>\n      <th></th>\n      <th></th>\n      <th></th>\n      <th></th>\n    </tr>\n  </thead>\n  <tbody>\n    <tr>\n      <th>2010</th>\n      <td>1125</td>\n      <td>6387</td>\n      <td>4720</td>\n      <td>10347</td>\n      <td>2816</td>\n      <td>100</td>\n      <td>100</td>\n      <td>100</td>\n      <td>100</td>\n      <td>100</td>\n    </tr>\n    <tr>\n      <th>2011</th>\n      <td>3341</td>\n      <td>9391</td>\n      <td>13910</td>\n      <td>25549</td>\n      <td>4381</td>\n      <td>296</td>\n      <td>147</td>\n      <td>294</td>\n      <td>246</td>\n      <td>155</td>\n    </tr>\n    <tr>\n      <th>2012</th>\n      <td>3446</td>\n      <td>9420</td>\n      <td>13864</td>\n      <td>24904</td>\n      <td>5895</td>\n      <td>306</td>\n      <td>147</td>\n      <td>293</td>\n      <td>240</td>\n      <td>209</td>\n    </tr>\n    <tr>\n      <th>2013</th>\n      <td>3651</td>\n      <td>9672</td>\n      <td>13911</td>\n      <td>24891</td>\n      <td>3354</td>\n      <td>324</td>\n      <td>151</td>\n      <td>294</td>\n      <td>240</td>\n      <td>119</td>\n    </tr>\n    <tr>\n      <th>2014</th>\n      <td>3880</td>\n      <td>9687</td>\n      <td>13755</td>\n      <td>24533</td>\n      <td>1482</td>\n      <td>344</td>\n      <td>151</td>\n      <td>291</td>\n      <td>237</td>\n      <td>52</td>\n    </tr>\n    <tr>\n      <th>2015</th>\n      <td>4078</td>\n      <td>10182</td>\n      <td>14178</td>\n      <td>24568</td>\n      <td>137</td>\n      <td>362</td>\n      <td>159</td>\n      <td>300</td>\n      <td>237</td>\n      <td>4</td>\n    </tr>\n    <tr>\n      <th>2016</th>\n      <td>4252</td>\n      <td>10465</td>\n      <td>14239</td>\n      <td>24146</td>\n      <td>135</td>\n      <td>377</td>\n      <td>163</td>\n      <td>301</td>\n      <td>233</td>\n      <td>4</td>\n    </tr>\n    <tr>\n      <th>2017</th>\n      <td>4524</td>\n      <td>10637</td>\n      <td>14347</td>\n      <td>23679</td>\n      <td>131</td>\n      <td>402</td>\n      <td>166</td>\n      <td>303</td>\n      <td>228</td>\n      <td>4</td>\n    </tr>\n  </tbody>\n</table>\n</div>"
     },
     "metadata": {},
     "execution_count": 18
    }
   ],
   "source": [
    "pivot_cols = ('Asian_Pacific_pct_change','Hispanic_pct_change','Non-Hispanic_Black_pct_change','Non-Hispanic_White_pct_change','Other_Race_pct_change')\n",
    "\n",
    "table_cols = ('Asian and Pacific Islander','Hispanic','Non-Hispanic Black','Non-Hispanic White','Other Race/ Ethnicity')\n",
    "\n",
    "for pivot_col,table_col in zip(pivot_cols,table_cols):\n",
    "    race_ethnicity_pivot[pivot_col] = calc_percentages(race_ethnicity_pivot,table_col)\n",
    "\n",
    "race_ethnicity_pivot"
   ]
  },
  {
   "cell_type": "markdown",
   "id": "aa321796",
   "metadata": {},
   "source": [
    "- The above analysis shows that Asians and non-Hispanic black people are the two ethnicities where the surge in death counts is highest. The death counts in asians have more than quadrupled, from 1125 to 4524. Whereas, for non-hispanic black people, the death counts have more than tripled.\n",
    "\n",
    "- Non-hispanic white people have accounted for the most deaths amongst all race ethnicities.\n",
    "\n",
    "- The data for other races is inconsistent and any insights generated based on that data would be inconsistent."
   ]
  },
  {
   "cell_type": "markdown",
   "id": "e9dd9205",
   "metadata": {},
   "source": [
    "### Let's do analysis based on the death rate amongst ethnicities"
   ]
  },
  {
   "cell_type": "code",
   "execution_count": 19,
   "id": "1961f6ca",
   "metadata": {},
   "outputs": [
    {
     "output_type": "execute_result",
     "data": {
      "text/plain": [
       "                  race_ethnicity  \\\n",
       "year                               \n",
       "2010  Asian and Pacific Islander   \n",
       "2011  Asian and Pacific Islander   \n",
       "2012  Asian and Pacific Islander   \n",
       "2013  Asian and Pacific Islander   \n",
       "2014  Asian and Pacific Islander   \n",
       "2015  Asian and Pacific Islander   \n",
       "2016  Asian and Pacific Islander   \n",
       "2017  Asian and Pacific Islander   \n",
       "\n",
       "                                          leading_cause  death_rate  \n",
       "year                                                                 \n",
       "2010              Malignant Neoplasms (Cancer: C00-C97)   73.600000  \n",
       "2011              Malignant Neoplasms (Cancer: C00-C97)   91.600000  \n",
       "2012  Nephritis, Nephrotic Syndrome and Nephrisis (N...   97.000000  \n",
       "2013                          Viral Hepatitis (B15-B19)   96.000000  \n",
       "2014  Nephritis, Nephrotic Syndrome and Nephrisis (N...   97.350000  \n",
       "2015                          Parkinson's Disease (G20)   96.383551  \n",
       "2016              Malignant Neoplasms (Cancer: C00-C97)  100.725757  \n",
       "2017              Malignant Neoplasms (Cancer: C00-C97)  108.319698  "
      ],
      "text/html": "<div>\n<style scoped>\n    .dataframe tbody tr th:only-of-type {\n        vertical-align: middle;\n    }\n\n    .dataframe tbody tr th {\n        vertical-align: top;\n    }\n\n    .dataframe thead th {\n        text-align: right;\n    }\n</style>\n<table border=\"1\" class=\"dataframe\">\n  <thead>\n    <tr style=\"text-align: right;\">\n      <th></th>\n      <th>race_ethnicity</th>\n      <th>leading_cause</th>\n      <th>death_rate</th>\n    </tr>\n    <tr>\n      <th>year</th>\n      <th></th>\n      <th></th>\n      <th></th>\n    </tr>\n  </thead>\n  <tbody>\n    <tr>\n      <th>2010</th>\n      <td>Asian and Pacific Islander</td>\n      <td>Malignant Neoplasms (Cancer: C00-C97)</td>\n      <td>73.600000</td>\n    </tr>\n    <tr>\n      <th>2011</th>\n      <td>Asian and Pacific Islander</td>\n      <td>Malignant Neoplasms (Cancer: C00-C97)</td>\n      <td>91.600000</td>\n    </tr>\n    <tr>\n      <th>2012</th>\n      <td>Asian and Pacific Islander</td>\n      <td>Nephritis, Nephrotic Syndrome and Nephrisis (N...</td>\n      <td>97.000000</td>\n    </tr>\n    <tr>\n      <th>2013</th>\n      <td>Asian and Pacific Islander</td>\n      <td>Viral Hepatitis (B15-B19)</td>\n      <td>96.000000</td>\n    </tr>\n    <tr>\n      <th>2014</th>\n      <td>Asian and Pacific Islander</td>\n      <td>Nephritis, Nephrotic Syndrome and Nephrisis (N...</td>\n      <td>97.350000</td>\n    </tr>\n    <tr>\n      <th>2015</th>\n      <td>Asian and Pacific Islander</td>\n      <td>Parkinson's Disease (G20)</td>\n      <td>96.383551</td>\n    </tr>\n    <tr>\n      <th>2016</th>\n      <td>Asian and Pacific Islander</td>\n      <td>Malignant Neoplasms (Cancer: C00-C97)</td>\n      <td>100.725757</td>\n    </tr>\n    <tr>\n      <th>2017</th>\n      <td>Asian and Pacific Islander</td>\n      <td>Malignant Neoplasms (Cancer: C00-C97)</td>\n      <td>108.319698</td>\n    </tr>\n  </tbody>\n</table>\n</div>"
     },
     "metadata": {},
     "execution_count": 19
    }
   ],
   "source": [
    "ethnicity_death_rate_pivot = segregated_df.groupby(by=[\"race_ethnicity\",\"year\",\"leading_cause\"])[['death_rate']].mean().reset_index()\n",
    "ethnicity_death_rate_pivot[ethnicity_death_rate_pivot['race_ethnicity']==\"Asian and Pacific Islander\"].groupby(\"year\").max()"
   ]
  },
  {
   "cell_type": "code",
   "execution_count": 20,
   "id": "f4cc48cb",
   "metadata": {},
   "outputs": [
    {
     "output_type": "execute_result",
     "data": {
      "text/plain": [
       "          race_ethnicity                                      leading_cause  \\\n",
       "year                                                                          \n",
       "2010  Non-Hispanic Black  Human Immunodeficiency Virus Disease (HIV: B20...   \n",
       "2011  Non-Hispanic Black  Nephritis, Nephrotic Syndrome and Nephrisis (N...   \n",
       "2012  Non-Hispanic Black  Nephritis, Nephrotic Syndrome and Nephrisis (N...   \n",
       "2013  Non-Hispanic Black  Nephritis, Nephrotic Syndrome and Nephrisis (N...   \n",
       "2014  Non-Hispanic Black  Nephritis, Nephrotic Syndrome and Nephrisis (N...   \n",
       "2015  Non-Hispanic Black  Nephritis, Nephrotic Syndrome and Nephrisis (N...   \n",
       "2016  Non-Hispanic Black  Mental and Behavioral Disorders due to Acciden...   \n",
       "2017  Non-Hispanic Black  Mental and Behavioral Disorders due to Acciden...   \n",
       "\n",
       "      death_rate  \n",
       "year              \n",
       "2010  217.700000  \n",
       "2011  215.000000  \n",
       "2012  221.950000  \n",
       "2013  222.050000  \n",
       "2014  217.950000  \n",
       "2015  229.962208  \n",
       "2016  233.237448  \n",
       "2017  243.860108  "
      ],
      "text/html": "<div>\n<style scoped>\n    .dataframe tbody tr th:only-of-type {\n        vertical-align: middle;\n    }\n\n    .dataframe tbody tr th {\n        vertical-align: top;\n    }\n\n    .dataframe thead th {\n        text-align: right;\n    }\n</style>\n<table border=\"1\" class=\"dataframe\">\n  <thead>\n    <tr style=\"text-align: right;\">\n      <th></th>\n      <th>race_ethnicity</th>\n      <th>leading_cause</th>\n      <th>death_rate</th>\n    </tr>\n    <tr>\n      <th>year</th>\n      <th></th>\n      <th></th>\n      <th></th>\n    </tr>\n  </thead>\n  <tbody>\n    <tr>\n      <th>2010</th>\n      <td>Non-Hispanic Black</td>\n      <td>Human Immunodeficiency Virus Disease (HIV: B20...</td>\n      <td>217.700000</td>\n    </tr>\n    <tr>\n      <th>2011</th>\n      <td>Non-Hispanic Black</td>\n      <td>Nephritis, Nephrotic Syndrome and Nephrisis (N...</td>\n      <td>215.000000</td>\n    </tr>\n    <tr>\n      <th>2012</th>\n      <td>Non-Hispanic Black</td>\n      <td>Nephritis, Nephrotic Syndrome and Nephrisis (N...</td>\n      <td>221.950000</td>\n    </tr>\n    <tr>\n      <th>2013</th>\n      <td>Non-Hispanic Black</td>\n      <td>Nephritis, Nephrotic Syndrome and Nephrisis (N...</td>\n      <td>222.050000</td>\n    </tr>\n    <tr>\n      <th>2014</th>\n      <td>Non-Hispanic Black</td>\n      <td>Nephritis, Nephrotic Syndrome and Nephrisis (N...</td>\n      <td>217.950000</td>\n    </tr>\n    <tr>\n      <th>2015</th>\n      <td>Non-Hispanic Black</td>\n      <td>Nephritis, Nephrotic Syndrome and Nephrisis (N...</td>\n      <td>229.962208</td>\n    </tr>\n    <tr>\n      <th>2016</th>\n      <td>Non-Hispanic Black</td>\n      <td>Mental and Behavioral Disorders due to Acciden...</td>\n      <td>233.237448</td>\n    </tr>\n    <tr>\n      <th>2017</th>\n      <td>Non-Hispanic Black</td>\n      <td>Mental and Behavioral Disorders due to Acciden...</td>\n      <td>243.860108</td>\n    </tr>\n  </tbody>\n</table>\n</div>"
     },
     "metadata": {},
     "execution_count": 20
    }
   ],
   "source": [
    "ethnicity_death_rate_pivot[ethnicity_death_rate_pivot['race_ethnicity']==\"Non-Hispanic Black\"].groupby(\"year\").max()"
   ]
  },
  {
   "cell_type": "code",
   "execution_count": 21,
   "id": "669c507e",
   "metadata": {},
   "outputs": [
    {
     "output_type": "execute_result",
     "data": {
      "text/plain": [
       "          race_ethnicity                                      leading_cause  \\\n",
       "year                                                                          \n",
       "2010  Non-Hispanic White              Malignant Neoplasms (Cancer: C00-C97)   \n",
       "2011  Non-Hispanic White  Mental and Behavioral Disorders due to Acciden...   \n",
       "2012  Non-Hispanic White                               Septicemia (A40-A41)   \n",
       "2013  Non-Hispanic White                               Septicemia (A40-A41)   \n",
       "2014  Non-Hispanic White                               Septicemia (A40-A41)   \n",
       "2015  Non-Hispanic White                               Septicemia (A40-A41)   \n",
       "2016  Non-Hispanic White  Mental and Behavioral Disorders due to Acciden...   \n",
       "2017  Non-Hispanic White  Mental and Behavioral Disorders due to Acciden...   \n",
       "\n",
       "      death_rate  \n",
       "year              \n",
       "2010  374.200000  \n",
       "2011  335.250000  \n",
       "2012  321.500000  \n",
       "2013  311.250000  \n",
       "2014  307.550000  \n",
       "2015  308.206813  \n",
       "2016  305.379117  \n",
       "2017  303.908625  "
      ],
      "text/html": "<div>\n<style scoped>\n    .dataframe tbody tr th:only-of-type {\n        vertical-align: middle;\n    }\n\n    .dataframe tbody tr th {\n        vertical-align: top;\n    }\n\n    .dataframe thead th {\n        text-align: right;\n    }\n</style>\n<table border=\"1\" class=\"dataframe\">\n  <thead>\n    <tr style=\"text-align: right;\">\n      <th></th>\n      <th>race_ethnicity</th>\n      <th>leading_cause</th>\n      <th>death_rate</th>\n    </tr>\n    <tr>\n      <th>year</th>\n      <th></th>\n      <th></th>\n      <th></th>\n    </tr>\n  </thead>\n  <tbody>\n    <tr>\n      <th>2010</th>\n      <td>Non-Hispanic White</td>\n      <td>Malignant Neoplasms (Cancer: C00-C97)</td>\n      <td>374.200000</td>\n    </tr>\n    <tr>\n      <th>2011</th>\n      <td>Non-Hispanic White</td>\n      <td>Mental and Behavioral Disorders due to Acciden...</td>\n      <td>335.250000</td>\n    </tr>\n    <tr>\n      <th>2012</th>\n      <td>Non-Hispanic White</td>\n      <td>Septicemia (A40-A41)</td>\n      <td>321.500000</td>\n    </tr>\n    <tr>\n      <th>2013</th>\n      <td>Non-Hispanic White</td>\n      <td>Septicemia (A40-A41)</td>\n      <td>311.250000</td>\n    </tr>\n    <tr>\n      <th>2014</th>\n      <td>Non-Hispanic White</td>\n      <td>Septicemia (A40-A41)</td>\n      <td>307.550000</td>\n    </tr>\n    <tr>\n      <th>2015</th>\n      <td>Non-Hispanic White</td>\n      <td>Septicemia (A40-A41)</td>\n      <td>308.206813</td>\n    </tr>\n    <tr>\n      <th>2016</th>\n      <td>Non-Hispanic White</td>\n      <td>Mental and Behavioral Disorders due to Acciden...</td>\n      <td>305.379117</td>\n    </tr>\n    <tr>\n      <th>2017</th>\n      <td>Non-Hispanic White</td>\n      <td>Mental and Behavioral Disorders due to Acciden...</td>\n      <td>303.908625</td>\n    </tr>\n  </tbody>\n</table>\n</div>"
     },
     "metadata": {},
     "execution_count": 21
    }
   ],
   "source": [
    "ethnicity_death_rate_pivot[ethnicity_death_rate_pivot['race_ethnicity']==\"Non-Hispanic White\"].groupby(\"year\").max()"
   ]
  },
  {
   "cell_type": "markdown",
   "id": "e451483e",
   "metadata": {},
   "source": [
    "### Analysis of the death rates amongst ethnicities\n",
    "- The above pivots show that the major reasons for deaths amongst Asians is Cancer. However, the death rate has increased by 47% from 73.6 in 2010 to 108.31 in 2017.\n",
    "- For non-Hispanic Black people, Nephritis, Nephrotic Syndrome and Nephrisis have been the major reason for death rates for several years.\n",
    "- <b>The death rate data for non-Hispanic White people is very representative of the overall population amongst the genders</b>, where Septicemia and mental and behavioral disorders due to overdose are major reasons for deaths\n",
    "- The <b>death rate</b> for the most prevelant reason amongst <b>non-Hispanic White people</b> has actually <b>decreased</b> along the years. But the <b>actual death count has increased by 128%</b>. This suggests that there is not a single major reason driving the death counts amongst white people, but several causes that are critical"
   ]
  },
  {
   "cell_type": "markdown",
   "id": "cfe2e983",
   "metadata": {},
   "source": [
    "# Saving csv files to /csv-data in hdfs"
   ]
  },
  {
   "cell_type": "markdown",
   "id": "89d0a224",
   "metadata": {},
   "source": [
    "listing files to save\n",
    "- segregated_df\n",
    "- sex_analysis_pivot\n",
    "- leading_cause_df\n",
    "- race_ethnicity_pivot\n",
    "- ethnicity_death_rate_pivot"
   ]
  },
  {
   "cell_type": "code",
   "execution_count": 25,
   "id": "79d7b1ac",
   "metadata": {},
   "outputs": [],
   "source": [
    "def save_dataframe_to_hdfs(data_df,path,config,*target_file_names):\n",
    "    \"\"\"\n",
    "        Function to store dataframe in hdfs\n",
    "        \n",
    "        Input:\n",
    "        \n",
    "        data_df(pandas.DataFrame): dataframe to write to hdfs\n",
    "        host: url where hdfs is hosted\n",
    "        port: port on which hdfs service is running\n",
    "        path: the directory path to store dataframe to\n",
    "    \"\"\"\n",
    "\n",
    "    for target_file_name in target_file_names:\n",
    "        print(f\"Processing file: {target_file_name}\")\n",
    "        sdf = spark.createDataFrame(data_df)\n",
    "        sdf.write.format(\"csv\").mode(\"overwrite\").save(f\"{config.hdfs_datanode_host}/{path}/{target_file_name}\")"
   ]
  },
  {
   "cell_type": "code",
   "execution_count": 26,
   "metadata": {},
   "outputs": [
    {
     "output_type": "stream",
     "name": "stdout",
     "text": [
      "Processing file: segregated_df.csv\n",
      "Processing file: sex_analysis_pivot.csv\n",
      "Processing file: leading_cause_df.csv\n",
      "Processing file: race_ethnicity_pivot.csv\n",
      "Processing file: ethnicity_death_rate_pivot.csv\n"
     ]
    }
   ],
   "source": [
    "save_dataframe_to_hdfs(segregated_df,'csv-data',config,'segregated_df.csv','sex_analysis_pivot.csv','leading_cause_df.csv','race_ethnicity_pivot.csv','ethnicity_death_rate_pivot.csv')"
   ]
  },
  {
   "cell_type": "markdown",
   "id": "announced-press",
   "metadata": {},
   "source": [
    "## Inserting documents into Elasticsearch cluster"
   ]
  },
  {
   "cell_type": "code",
   "execution_count": 27,
   "id": "2e603c82",
   "metadata": {},
   "outputs": [],
   "source": [
    "def save_dataframe_to_elasticsearch(data_df,es_client,target_index_name):\n",
    "    \"\"\"\n",
    "        Function to save pandas dataframe to elasticsearch\n",
    "        \n",
    "        Input:\n",
    "        data_df(pandas.DataFrame): pandas DataFrame to store in elasticsearch\n",
    "        es_client: elasticsearch client to store data\n",
    "        target_index_name: name of index in elasticsearch cluster to put the data onto\n",
    "        keys_to_use: columns name in dataframe to fetch\n",
    "    \"\"\"\n",
    "\n",
    "    def doc_generator(data_df):\n",
    "        data_df_iter = data_df.iterrows()\n",
    "        for index, document in data_df_iter:\n",
    "            yield{\n",
    "                \"_index\":target_index_name,\n",
    "                \"_id\": str(index),\n",
    "                \"_source\": {key: document[key] for key in document.keys()}\n",
    "            }\n",
    "\n",
    "    helpers.bulk(es_client,doc_generator(data_df))"
   ]
  },
  {
   "cell_type": "code",
   "execution_count": 31,
   "metadata": {},
   "outputs": [],
   "source": [
    "indices = (segregated_df,sex_analysis_pivot,leading_cause_df,race_ethnicity_pivot,ethnicity_death_rate_pivot)\n",
    "index_names = ('segregated_data','gender_based_analysis_data','leading_cause_data','race_ethnicity_data','ethnicity_death_rate_data')\n",
    "reset_indices = (False,True,False,True,False)\n",
    "\n",
    "for index,index_name,reset_index_condition in zip(indices,index_names,reset_indices):\n",
    "    if reset_index_condition:\n",
    "        index = index.reset_index()\n",
    "    save_dataframe_to_elasticsearch(index,es,index_name)\n",
    "    "
   ]
  },
  {
   "cell_type": "code",
   "execution_count": null,
   "metadata": {},
   "outputs": [],
   "source": []
  }
 ],
 "metadata": {
  "kernelspec": {
   "name": "python3",
   "display_name": "Python 3",
   "language": "python"
  }
 },
 "nbformat": 4,
 "nbformat_minor": 5
}