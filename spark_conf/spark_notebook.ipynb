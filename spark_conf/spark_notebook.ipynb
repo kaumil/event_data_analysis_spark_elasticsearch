{
 "cells": [
  {
   "cell_type": "code",
   "execution_count": 93,
   "id": "documented-cruise",
   "metadata": {},
   "outputs": [],
   "source": [
    "import warnings\n",
    "warnings.filterwarnings('ignore')\n",
    "\n",
    "from hdfs import InsecureClient\n",
    "import pyspark\n",
    "from pyspark.sql import SparkSession, DataFrame\n",
    "from pyspark.conf import SparkConf\n",
    "from functools import reduce\n",
    "from elasticsearch import Elasticsearch,helpers\n",
    "\n",
    "import pandas as pd\n",
    "import numpy as np"
   ]
  },
  {
   "cell_type": "markdown",
   "id": "destroyed-greeting",
   "metadata": {},
   "source": [
    "# Initializing Spark Session object"
   ]
  },
  {
   "cell_type": "code",
   "execution_count": 36,
   "id": "4a2b2d78",
   "metadata": {},
   "outputs": [],
   "source": [
    "class Config:\n",
    "\n",
    "    def __init__(self,\n",
    "                elasticsearch_host,\n",
    "                elasticsearch_auth_user,\n",
    "                elasticsearch_auth_pass,\n",
    "                hdfs_datanode_host,\n",
    "                hdfs_user):\n",
    "        self.elasticsearch_host = elasticsearch_host\n",
    "        self.elasticsearch_auth_user = elasticsearch_auth_user\n",
    "        self.elasticsearch_auth_pass = elasticsearch_auth_pass\n",
    "        self.hdfs_datanode_host = hdfs_datanode_host\n",
    "        self.hdfs_user = hdfs_user\n",
    "        \n",
    "\n",
    "    def _initialize_spark_session(self,appName,*,config):\n",
    "        spark_config = pyspark.SparkConf().setAll([(key,value) for key,value in config.items()])\n",
    "        spark_app = (SparkSession\n",
    "                    .builder\n",
    "                    .appName(appName)\n",
    "                    .config(conf=spark_config)\n",
    "                    .getOrCreate())\n",
    "        return spark_app\n",
    "\n",
    "\n",
    "    def _initialize_elasticsearch_client(self):\n",
    "        return Elasticsearch(hosts=self.elasticsearch_host,\n",
    "                            http_auth=(self.elasticsearch_auth_user,self.elasticsearch_auth_pass))"
   ]
  },
  {
   "cell_type": "code",
   "execution_count": 37,
   "id": "a522a70f",
   "metadata": {},
   "outputs": [],
   "source": [
    "conf_options = {\n",
    "    \"spark.jars\": \"/home/jovyan/spark_conf/elasticsearch-hadoop-7.11.1/dist/elasticsearch-hadoop-7.11.1.jar\",\n",
    "    \"spark.jars\": \"/home/jovyan/spark_conf/elasticsearch-hadoop-7.11.1/dist/elasticsearch-spark-20_2.11-7.11.1.jar\",\n",
    "    \"spark.es.nodes\": \"elasticsearch\",\n",
    "    \"spark.es.port\": \"9200\"\n",
    "}"
   ]
  },
  {
   "cell_type": "code",
   "execution_count": 41,
   "id": "82e63966",
   "metadata": {},
   "outputs": [],
   "source": [
    "config = Config(elasticsearch_host=\"elasticsearch:9200\",\n",
    "            elasticsearch_auth_user=\"elastic\",\n",
    "            elasticsearch_auth_pass=\"elastic@1234\",\n",
    "            hdfs_datanode_host=\"hdfs://hadoop-filebeat:8020\",\n",
    "            hdfs_user=\"nifi\")\n",
    "spark = config._initialize_spark_session(\"SparkApplication\",config=conf_options)\n",
    "es = config._initialize_elasticsearch_client()"
   ]
  },
  {
   "cell_type": "markdown",
   "id": "c9d52534",
   "metadata": {},
   "source": [
    "# Listing and merging all files in a single PySpark dataframe"
   ]
  },
  {
   "cell_type": "code",
   "execution_count": 50,
   "id": "ee0a4293",
   "metadata": {},
   "outputs": [],
   "source": [
    "# client = InsecureClient(\"http://hadoop-filebeat:50070\",user=\"nifi\")\n",
    "# client.list('/dfs-data')"
   ]
  },
  {
   "cell_type": "code",
   "execution_count": 59,
   "id": "f05ca4cd",
   "metadata": {},
   "outputs": [],
   "source": [
    "def fetch_and_merge_files(path,config):\n",
    "    \"\"\"\n",
    "        Generator Function to fetch files stored in the hdfs file system and lazily evaluate them when \n",
    "        concatenating them\n",
    "    \"\"\"\n",
    "    directory_path = f\"{config.hdfs_datanode_host}/{path}\"\n",
    "    \n",
    "\n",
    "    def get_files(path):\n",
    "        nonlocal directory_path\n",
    "        for file in client.list(path):\n",
    "            print(f\"Processing file: {file}\")\n",
    "            yield spark.read.format(\"csv\").option(\"delimiter\",\",\").option(\"header\",\"true\").load(f\"{directory_path}/{file}\")\n",
    "    \n",
    "    def unionAll(*dfs):\n",
    "        return reduce(DataFrame.unionAll,dfs)\n",
    "    \n",
    "    return unionAll(*(file for file in get_files(path)))"
   ]
  },
  {
   "cell_type": "code",
   "execution_count": 55,
   "id": "a56d9c59",
   "metadata": {},
   "outputs": [
    {
     "output_type": "stream",
     "name": "stdout",
     "text": [
      "hdfs://hadoop-filebeat:8020\n",
      "hdfs://hadoop-filebeat:8020//dfs-data\n",
      "Processing file: 0018ff9a-6e08-4dfc-b5dd-8d176a98cdef\n",
      "Processing file: 0070cba2-e380-47d8-be13-c860a36e945b\n",
      "Processing file: 00ac6b9c-2517-46c8-995b-6450d9ae4924\n",
      "Processing file: 013611a0-6f1b-4429-a01e-a71af83a63aa\n",
      "Processing file: 0194a7ee-e24b-4d1d-b340-6935eee4e64f\n",
      "Processing file: 01f50338-69ba-4368-9af5-a887eda3a08f\n",
      "Processing file: 029217cc-ef3a-4f00-9355-c93da4793ddd\n",
      "Processing file: 04720985-a7bf-48a2-aa37-5d91fc85727c\n",
      "Processing file: 0528f3ce-1658-47ed-97b8-c6d61aa538c5\n",
      "Processing file: 05c22fdf-c4a8-4462-aaa3-f65a5649e50b\n",
      "Processing file: 070d9569-47e0-4a69-8561-6eb1b0111538\n",
      "Processing file: 091b4c40-00c3-479b-ad94-7f7edb2e4f99\n",
      "Processing file: 09a2140c-8961-49ec-9798-488f59d1b61a\n",
      "Processing file: 0be75259-a312-4a74-8a25-d64dac1396ec\n",
      "Processing file: 0c6a01e6-fd74-445a-8a2f-eda91d367f73\n",
      "Processing file: 0db36231-8238-4585-bf2e-199b35ac25dd\n",
      "Processing file: 0fc82d5b-b035-4488-b75c-fbb4bac0f66c\n",
      "Processing file: 1141e449-289c-4d79-bcaa-fd6c6c211a37\n",
      "Processing file: 122e6adc-4584-4e5b-bb2e-7703a3e41ff1\n",
      "Processing file: 12faf66a-1065-4e05-9948-304fe23bb430\n",
      "Processing file: 13ff00d6-c76a-4337-9fae-b26b83c4d507\n",
      "Processing file: 1415dbe6-a8dc-474a-a991-f8e880232c77\n",
      "Processing file: 14eb3bd2-60e5-4a06-a9aa-40e3d1baa777\n",
      "Processing file: 16cd15c8-b54a-4338-8646-51d86846f2b0\n",
      "Processing file: 1708df93-0b21-4b87-8fc7-b5952fab800f\n",
      "Processing file: 19d2bcf3-2576-49d5-b914-a188808b679f\n",
      "Processing file: 1a04464e-0193-4b1f-81d2-f6059508000a\n",
      "Processing file: 1a5b6136-976b-454f-9646-3190a62dd72d\n",
      "Processing file: 1a9ab9f2-583d-4117-ace9-b5d049414b79\n",
      "Processing file: 1aad6b6c-208c-42a6-9723-514c750abe98\n",
      "Processing file: 1ae2d1f2-b848-437c-a901-407a269410bd\n",
      "Processing file: 1afe0bf5-3c08-489e-9c74-781f451358e5\n",
      "Processing file: 1b40162f-d45c-4c1b-94fe-d175c9e67316\n",
      "Processing file: 1b701ed7-681c-4a73-8860-faff7c6202f3\n",
      "Processing file: 1bc6fd56-1521-4471-864f-1c88c9cf59be\n",
      "Processing file: 1eaf78d9-7350-4530-8e17-6bd510c1522a\n",
      "Processing file: 1ec16feb-dc3f-4080-845b-4aa4268cceb7\n",
      "Processing file: 1edad046-7d7b-427f-a543-f89061ef9e02\n",
      "Processing file: 1f26ca7c-2450-4a3a-992f-89ae40707ca5\n",
      "Processing file: 1fee24c8-d227-4e2a-9bf8-c6889535ff77\n",
      "Processing file: 20945270-8adb-4daf-b6e4-670ec77bea97\n",
      "Processing file: 20f3846c-b5a0-4d05-9e40-ce63b0193b8f\n",
      "Processing file: 20fe48ec-5f93-4b2b-b9cc-25fd926460c3\n",
      "Processing file: 21b99112-2389-4ac1-b3be-5d2c894129a5\n",
      "Processing file: 2373f937-2c4f-4a87-bacc-d6c85dd0b632\n",
      "Processing file: 25be9050-874a-46b6-addd-8b41df517faf\n",
      "Processing file: 271996de-9ed6-43ea-8ca2-8ffc61125f5b\n",
      "Processing file: 27cc6964-dab8-4c03-a633-9b1f71f9f13a\n",
      "Processing file: 2928384c-1129-42bd-a111-2139b363c333\n",
      "Processing file: 2b35cd12-3278-43ed-a7a2-96131a67fe07\n",
      "Processing file: 2cd80f0c-4254-4b98-91e3-f9622f42ab28\n",
      "Processing file: 2e2a43f1-71f8-42dc-b4a3-061a911f0a91\n",
      "Processing file: 30637d50-efa7-413c-8ea6-efafef32bd94\n",
      "Processing file: 3098a220-18eb-4bd3-b21c-9eb02087bc20\n",
      "Processing file: 310b1fb0-2f65-488a-bf9e-5f2c62267765\n",
      "Processing file: 32d5bfc6-4b10-42dd-bc26-197c9cc60bf1\n",
      "Processing file: 336dcd2c-c5a2-470a-aa6b-a34c46569057\n",
      "Processing file: 33afce18-a5a2-4461-8b84-a2d258a7ff6e\n",
      "Processing file: 34755ded-7dde-446c-9896-d9be3ec94287\n",
      "Processing file: 3502cdc2-ebf5-42bf-815c-44966a3eeebe\n",
      "Processing file: 35e83712-2bf6-41dc-87f2-303b9023fbf1\n",
      "Processing file: 366d80a5-83f8-488a-a0c2-c2ac0463737e\n",
      "Processing file: 375d3220-dce3-4a0b-8536-f6cff16b6b0f\n",
      "Processing file: 37ddceb3-63d2-4ab4-a2e9-98be3583fb98\n",
      "Processing file: 380bf832-8034-4bd4-a74c-32e4f1c23216\n",
      "Processing file: 38a3587d-d7f9-409d-a57e-428cfb4f07c9\n",
      "Processing file: 38ae62b2-fd72-4d68-aa37-23d1fe5a181f\n",
      "Processing file: 3b6079c6-cedc-40f5-8ff0-0b9ad293c67e\n",
      "Processing file: 3b9048b5-e98f-4977-9a2a-c586cc584738\n",
      "Processing file: 3c07823f-8861-47d1-9be2-4746dd5bb126\n",
      "Processing file: 3cf00d4a-5e56-4803-82b3-ceddf324eb73\n",
      "Processing file: 3d0cadbd-5968-450a-b8b1-1052f9d3d856\n",
      "Processing file: 3dd4c950-b421-474c-b8f6-250eea2fa368\n",
      "Processing file: 3ed7fbb9-f5e9-4339-adb7-539299b98221\n",
      "Processing file: 3f75aa26-2885-43b0-8e8a-606eb1d5a6ec\n",
      "Processing file: 3f7656b4-04c4-42a4-8862-e67a4c45dd1b\n",
      "Processing file: 3f802753-162a-4883-87e2-e71e672fac3d\n",
      "Processing file: 40741277-81a7-492f-ae52-6d5d8e78b2e6\n",
      "Processing file: 40c2f448-fd1e-4736-8c9c-a1c1287df11a\n",
      "Processing file: 418ff28f-8d43-4de4-b243-5c1f153d9ccd\n",
      "Processing file: 43b1ca9b-9154-4cd8-a468-a2e51a82b235\n",
      "Processing file: 4455c233-8ab4-40cd-8ffd-1394b7793317\n",
      "Processing file: 4507bb49-0fec-4e60-8a8b-622119d00b54\n",
      "Processing file: 458a0661-c316-4bf6-a624-81e2c45cdb6b\n",
      "Processing file: 465577ff-c5ba-4fff-a0b2-e66759766851\n",
      "Processing file: 467f253d-d55c-46b2-89cc-4e6ed405e335\n",
      "Processing file: 46f4c8df-ad3f-4183-956d-351b37304bd2\n",
      "Processing file: 487c7696-ca47-44b8-a2c8-ff646a6258b7\n",
      "Processing file: 4a720d7f-0942-4c7b-9b5f-4edd4f19e546\n",
      "Processing file: 4ab6907a-32cc-4f93-84e1-da493754defa\n",
      "Processing file: 4d1f47ef-de19-41cd-807e-75d1a29f3059\n",
      "Processing file: 4d695206-4924-4c73-b25c-409fe66978df\n",
      "Processing file: 4f9b5ea1-c56a-44a4-be5c-44d1252f4e6d\n",
      "Processing file: 505d4859-6281-457f-a69e-79bc3cffbf20\n",
      "Processing file: 512f68f3-9781-40fd-a49f-97e307e0bd3f\n",
      "Processing file: 538acbf5-aa08-4ea4-80bd-b00813918413\n",
      "Processing file: 54a26f3e-98b0-40a9-ad98-023112b78f1c\n",
      "Processing file: 554efdb3-bd76-4c65-af98-e95a18e796cc\n",
      "Processing file: 575df837-dc9e-4af4-9e4f-35151c962098\n",
      "Processing file: 582a7cb2-a55e-4eb2-940b-37fe0531db1c\n",
      "Processing file: 5882798c-f3c1-4f12-9967-a7e2a2d42eb2\n",
      "Processing file: 598aaccd-7d09-4e3f-b9e8-138920d49f10\n",
      "Processing file: 59ca389a-2989-4e58-bcde-c2bc7ceb3f44\n",
      "Processing file: 5ac7e64f-86ca-4d61-8ac8-6e2bc75fae20\n",
      "Processing file: 5b94c275-2931-45f8-8756-08428c5ce963\n",
      "Processing file: 5c1ca308-f459-4fcd-96f5-f673dfabc554\n",
      "Processing file: 5ceba693-efc1-4875-bf7c-bfe4356df0d7\n",
      "Processing file: 5dba4b88-474e-4e0a-8110-f35788b340f9\n",
      "Processing file: 5eb07b23-545b-4436-99d9-7bd72bc3c84c\n",
      "Processing file: 5faf7b2c-f0f5-4ff7-aacf-cb3caf669e45\n",
      "Processing file: 6021e62a-5572-4da1-b00d-f2d279998101\n",
      "Processing file: 60ce32a2-7f62-4444-a7cc-878905d7e3b0\n",
      "Processing file: 62ab9f3d-a542-4438-95be-81fa1fad7076\n",
      "Processing file: 62ade839-2eae-419b-a89f-721c9a771348\n",
      "Processing file: 63fa782b-4dd7-4033-afcd-2dc0ff835d1a\n",
      "Processing file: 6483f402-89fe-499b-9432-1a51b8c3a8ec\n",
      "Processing file: 652c682b-4231-4264-ae37-40cedc39d699\n",
      "Processing file: 658db07d-74cb-4809-b130-f159117b7fd5\n",
      "Processing file: 67a6e394-ce9f-4606-a737-4ec06ee4cbd4\n",
      "Processing file: 67d8b027-1341-4c19-829b-0ed1c22c39f8\n",
      "Processing file: 68025b1c-ae98-499c-a15c-19c2a8387f6d\n",
      "Processing file: 689a73f8-6eff-4ea0-8dba-7908d4b2c7fd\n",
      "Processing file: 696ec6ab-03c5-4719-b308-e093cf98dac4\n",
      "Processing file: 6978787b-8a61-44f5-83c0-82e289287c1f\n",
      "Processing file: 6a466b15-8006-4155-aeee-ec6c56b0979b\n",
      "Processing file: 6a613e78-bbb6-4155-bb5e-47ebd3d6e323\n",
      "Processing file: 6b2fd3cc-f499-4478-9b7e-81ea6e451e48\n",
      "Processing file: 6b69fd63-f0d9-44e4-b543-f58e6cd216d0\n",
      "Processing file: 6b8e4c28-f95f-4bd9-8fa6-1ce44ab4d98d\n",
      "Processing file: 6c80a821-81b8-455f-9510-25bacc6d543a\n",
      "Processing file: 6d48dcda-5372-45e8-b8b2-16d9bb6d7987\n",
      "Processing file: 6d590b5d-1dd4-4c01-a69d-5dfd88d73b8b\n",
      "Processing file: 6e9ed52c-c6c1-4343-942c-8a1695670c26\n",
      "Processing file: 717d18d9-ea74-4c1c-b3fe-de1808a1db60\n",
      "Processing file: 7188640a-23d2-4174-a1da-a3e82bd9c6bc\n",
      "Processing file: 724812f4-7f7d-412f-89a5-735c58397301\n",
      "Processing file: 73d1208c-8817-4664-ada7-08f728f3f342\n",
      "Processing file: 752f9d24-39b2-42c1-9598-3f78cf8a6f34\n",
      "Processing file: 76b0a551-f952-4ff2-ba83-9f7fcf637220\n",
      "Processing file: 79550a65-42c5-4793-a891-0bd3b14d4003\n",
      "Processing file: 79c85ad6-b0da-42a5-a0e8-93d7a3f848e3\n",
      "Processing file: 7a06a445-e111-4d82-99f3-e265e22cd4b5\n",
      "Processing file: 7b480586-f206-401a-92a7-a1646a88dd09\n",
      "Processing file: 7c258398-8d4e-4db6-a97d-e4b0965ad51e\n",
      "Processing file: 7daab389-1045-47e3-99b9-ca75940d2480\n",
      "Processing file: 7dfff37d-0b9e-429b-88be-b921847783aa\n",
      "Processing file: 7e72a5f4-a854-4539-b000-61fc17e22565\n",
      "Processing file: 7f259183-efa7-4362-860b-ec26c6642825\n",
      "Processing file: 7f509c53-d5b8-43ab-9782-5bb27b2ea546\n",
      "Processing file: 7f6a6c39-4bb5-4fc4-a3e8-caf7e6e54d61\n",
      "Processing file: 7fd12cfa-4a87-46c1-a736-ef23ef17758e\n",
      "Processing file: 7fdf552f-b340-4c04-bee4-2d156b13d019\n",
      "Processing file: 80741f65-23e3-46f8-add4-be2cc7f73d86\n",
      "Processing file: 820e2ca3-2cf0-4f84-84d3-fd5643c87d03\n",
      "Processing file: 8228fb2a-5edb-4f3d-a478-f91a44d4ccec\n",
      "Processing file: 82b53288-e42e-49ee-b902-217fb50ce87c\n",
      "Processing file: 82eb66d9-b2d9-4873-9cbe-9110af3fc959\n",
      "Processing file: 82f1413b-4fd8-4b1c-bccb-c0f2344001a1\n",
      "Processing file: 8335ad91-5bde-488f-abcf-2f6760dabf0e\n",
      "Processing file: 83654b07-1d0b-4169-9f43-7edb52974fc2\n",
      "Processing file: 83987514-79d7-421f-8e1c-99c3a8f11425\n",
      "Processing file: 85a59d29-9b12-42bd-91f4-76ead752c228\n",
      "Processing file: 85ecc6dc-3426-4118-ab1a-eed9598914c3\n",
      "Processing file: 8625cd1c-66e8-4f3e-a3cc-5b3144042e74\n",
      "Processing file: 86977ed5-ca3e-45e0-9a4e-17394bae28a2\n",
      "Processing file: 87283955-30dc-497e-bdc4-066cd19a4dcc\n",
      "Processing file: 873c523d-c938-4c7c-95db-25982a4872e2\n",
      "Processing file: 87fad427-e7c3-4ae7-9f66-22e3b9e0d11f\n",
      "Processing file: 882a082e-5f3b-43b4-a6c8-83a0b6c7ed44\n",
      "Processing file: 885cc440-96b0-4e75-8d4b-4f7f96d83565\n",
      "Processing file: 8894a153-1d0a-413d-8946-ed5c3b57f7f6\n",
      "Processing file: 8916f3b8-ca54-4fda-b83b-bcf0d0eb09ed\n",
      "Processing file: 8a61b2cb-5c53-419f-b663-ec55e792d157\n",
      "Processing file: 8c56944b-403e-492a-92a2-6e0df9422d04\n",
      "Processing file: 8c671aee-0d2c-4249-900a-8351dc55f3b9\n",
      "Processing file: 8ccadf67-6846-4746-9d6b-b79902c1ee5b\n",
      "Processing file: 8da7119f-e49c-4a18-8046-d0eb139f717e\n",
      "Processing file: 8f160744-c601-4d7e-a93a-248890eefd84\n",
      "Processing file: 91866bd7-0f0e-430b-8b7e-fb50fd6d65e3\n",
      "Processing file: 9563780b-2e45-46ec-a92a-b1e8b9e21b1c\n",
      "Processing file: 95cb48e6-85f5-4d0e-a0c3-7689e2dc879a\n",
      "Processing file: 977be229-b2f1-4db1-91c1-bb4992e432c3\n",
      "Processing file: 98da5c2e-a741-4fa3-9132-b91af71e08c3\n",
      "Processing file: 991d8a44-7f93-48a4-b91c-6cb24451e08e\n",
      "Processing file: 9956e289-06f1-45ca-930d-1855c737a117\n",
      "Processing file: 99a3ef42-6e33-4119-8b5f-953d90a3b983\n",
      "Processing file: 99bee94e-4bdd-45c1-9979-637c38aa81dc\n",
      "Processing file: 9ac3be12-f247-4956-8bd6-24576fd26315\n",
      "Processing file: 9b7422c5-2df7-4660-8ad2-30f07573cced\n",
      "Processing file: 9cced2b6-7a18-4cbe-857d-f0a7deb507a2\n",
      "Processing file: 9e99d95d-f4c8-47ca-8500-53f431145a90\n",
      "Processing file: 9ef62b2d-1b1d-4df4-9371-68895cd1465a\n",
      "Processing file: 9f2bc977-a133-4fb3-ba9a-67e3e41d6326\n",
      "Processing file: 9f313bb4-e565-4920-9f15-3f9d6849e69f\n",
      "Processing file: 9f819ea4-1686-4fb2-85ae-5bc999ae80dc\n",
      "Processing file: 9fa787da-7f09-4083-8ece-f62125e3d035\n",
      "Processing file: 9fecfc6e-c590-42a1-a99c-677f7a42bd00\n",
      "Processing file: a00b9943-8982-4f22-a778-85993afb2642\n",
      "Processing file: a01417f4-8a04-4853-b018-9c365b1509c1\n",
      "Processing file: a041ae5a-5890-47e3-80e6-898825369b12\n",
      "Processing file: a0987d4a-3eb5-464a-952f-271b99a3bc5b\n",
      "Processing file: a110fc79-26b7-46c1-8642-e060ecbe7458\n",
      "Processing file: a247c6aa-672d-4689-b27d-f656ce8993fb\n",
      "Processing file: a2ef1e7c-d0d0-496a-92c3-b1a0e8114952\n",
      "Processing file: a3948f6a-df17-4b41-9f3c-0556c15c2d78\n",
      "Processing file: a46a66d9-55bc-4718-8add-ef34c1cccabf\n",
      "Processing file: a5c86376-12fd-4167-b982-5fe6bad418d2\n",
      "Processing file: a5d96331-0251-4bd0-937c-3bc1fe17b2dc\n",
      "Processing file: a5e6f123-a410-4b22-bfc1-664865572a19\n",
      "Processing file: a61fef14-d280-448d-9ab7-0ffa225e191f\n",
      "Processing file: a7b12a9b-6bdf-417f-a536-0a3fc686eeda\n",
      "Processing file: ab218962-3766-49b3-9678-be7135d64104\n",
      "Processing file: aeaba051-9fb0-48e2-a0c0-4ea5bd47635e\n",
      "Processing file: af19ba6f-f812-4a41-9e4c-aba40de67554\n",
      "Processing file: afade51e-191a-48d9-bcf0-cce42ee1cbef\n",
      "Processing file: b013cfd2-6f47-4c47-8e57-2577139c8ec7\n",
      "Processing file: b13cf94e-fa62-43fb-b280-b72b6cbefdb2\n",
      "Processing file: b14ef81d-ebb3-4022-bf68-f634a5439ea7\n",
      "Processing file: b27ad817-4d27-40fa-a673-55e5e5f114b7\n",
      "Processing file: b2c44374-3547-495b-8004-dd4f16ed64fb\n",
      "Processing file: b3bd0005-7d9f-4f4c-be88-d9b6a8d65b97\n",
      "Processing file: b3c86b0c-b1a0-4158-b261-91ed9028b05c\n",
      "Processing file: b3c9bb41-1783-4b9d-86c2-48915f5f14d7\n",
      "Processing file: b3e99c4e-cf27-4a77-8954-d1305d2a426d\n",
      "Processing file: b4004048-ad10-4244-b32b-bc1395b91b5b\n",
      "Processing file: b482b6a7-6e51-4c56-8ade-5b01bb56beb8\n",
      "Processing file: b5077a82-9ad2-46fc-b774-3fc9f3779bee\n",
      "Processing file: b59b7793-b4a5-43ea-a847-a5964c0578fd\n",
      "Processing file: b5c1d7d2-59f3-4681-8fe2-b8be1fa085fd\n",
      "Processing file: b64f0e3a-b3e8-4333-ba2a-609aa692d881\n",
      "Processing file: b69d6bd7-d562-4734-be1b-bf2ce65ea532\n",
      "Processing file: b7e1c1c3-2819-4aab-b279-f89d01beaa4f\n",
      "Processing file: b814d479-f10e-467f-ac0c-ff9edfbef565\n",
      "Processing file: b8bb7811-a7d8-4cd7-82a6-99b70b9da734\n",
      "Processing file: bb934b98-788c-4691-8eec-dcfb8d0d35f1\n",
      "Processing file: bcdc76ef-46c2-448c-b337-a50050f866dc\n",
      "Processing file: bd86244e-d470-476a-a0eb-3a8685c8a669\n",
      "Processing file: be853eb8-0c51-48e7-8313-4bf8d31ccd15\n",
      "Processing file: bffde7bf-8584-4c28-906a-704426895013\n",
      "Processing file: c0279459-fc7d-4a03-815c-18c72e4f730f\n",
      "Processing file: c0764d20-2b14-4da8-afca-a2805d23829f\n",
      "Processing file: c0cfe823-c1cb-4262-afc6-f39c414a8b86\n",
      "Processing file: c1709bda-c18d-442d-ab71-7ecaecc9ff33\n",
      "Processing file: c24a4287-c817-4b99-b430-c78360a97aae\n",
      "Processing file: c5a6e713-9e38-4aaa-8984-627d09312646\n",
      "Processing file: c9b5c29c-f495-4f27-a1ed-5c6b4ad26e0a\n",
      "Processing file: ca0357b2-451e-4fe3-90de-a0bba35d6005\n",
      "Processing file: cc367e66-e7d7-4eb8-9ba5-4ec6d1585067\n",
      "Processing file: cca875fa-65e9-492a-bdbe-019211d76801\n",
      "Processing file: ccf8a015-ecff-4db5-8d05-3bb0cb230590\n",
      "Processing file: cd18b392-abd6-434d-a484-030d30020521\n",
      "Processing file: cd6b2af1-8393-4456-87d7-887184530b06\n",
      "Processing file: cd8e805a-8c9f-45c5-9dd1-a7b6e7a994f1\n",
      "Processing file: ce1ce441-8e13-4fea-90f8-5a5308a97d45\n",
      "Processing file: ce79c687-621d-48d6-8efd-59e46c16a72e\n",
      "Processing file: cf3dc179-170f-4f3a-93b3-2884b92988aa\n",
      "Processing file: d01228e4-cc7d-4d45-9b21-9a2a79b5c2a6\n",
      "Processing file: d04ca275-f88b-4f1d-96ba-ff9c39ebe439\n",
      "Processing file: d250bc5d-cb17-42bd-88c5-02fc0e74af0f\n",
      "Processing file: d31b04ec-5f52-48f2-b797-c2075b1d981f\n",
      "Processing file: d3cc410f-6737-4322-8596-7c6201b368be\n",
      "Processing file: d435978a-e181-4580-8901-7ad6fbd02418\n",
      "Processing file: d4786c03-11d9-45be-8a21-956ce9fd4489\n",
      "Processing file: d541bd6f-df27-41c0-bf8c-f66813a1ad78\n",
      "Processing file: d5a250a2-c006-4fd3-a8a6-27e43e069384\n",
      "Processing file: d758b294-3d66-4182-a53e-dfdedf3d9195\n",
      "Processing file: d9228519-cac4-4eb8-80b3-66afa1ef3846\n",
      "Processing file: d9cfa260-492e-4442-ada2-2e1fa4072188\n",
      "Processing file: da6cece4-5759-4f00-8ba5-61b7c46621ca\n",
      "Processing file: db1bd2f8-af80-4007-9293-75201fc5c4b1\n",
      "Processing file: db221a2a-25f8-4aa0-ad90-36ca419c62aa\n",
      "Processing file: db6f4dc7-e7b1-4d98-a9f4-39dd63c1a0fa\n",
      "Processing file: dba4a33d-7bde-42e8-9252-060afd36d504\n",
      "Processing file: dbb9c581-1377-4602-a774-41107c582406\n",
      "Processing file: dbc8d0e6-5e3f-44ea-8ff2-95a5c933ac04\n",
      "Processing file: dbe6d7ad-97e8-474a-aa79-d274c819802a\n",
      "Processing file: dc7dce9e-aa84-452e-9fad-842c2f302463\n",
      "Processing file: dcdbe640-bdc2-47d2-af40-a146c7c5fea7\n",
      "Processing file: df5c09a3-eece-414c-827f-e33aabedd5ef\n",
      "Processing file: e1083074-e253-487f-905a-a300f49cd859\n",
      "Processing file: e2a7252d-e3af-4e48-b6ed-e061de446ea6\n",
      "Processing file: e31ae97f-c239-454a-a8dc-c3128a0ddf16\n",
      "Processing file: e385ca25-25ec-48c3-8c39-a38bb3db89e6\n",
      "Processing file: e5c19eab-782f-40c6-a09c-ffeaa9649ad9\n",
      "Processing file: e7310714-ecc4-447a-a129-1798b4ce2777\n",
      "Processing file: e7e5a58f-1a55-403e-ad46-1b12a93afeec\n",
      "Processing file: e9a9f7f7-f279-4412-ae0c-028836a5166f\n",
      "Processing file: e9d05560-2220-40c1-9dd6-a44aeb3ff2ee\n",
      "Processing file: ebb6950e-23dd-47d8-8d44-11b76239af8c\n",
      "Processing file: ebe631ed-763b-4732-bfb5-0272e77c45b3\n",
      "Processing file: ec212ca9-cc45-4a2e-9ba8-241894531710\n",
      "Processing file: ec370f0d-0951-4f07-a99d-621e8e777cb1\n",
      "Processing file: ec44eded-e3a9-4f77-ac72-dae9d546bb6e\n",
      "Processing file: edb56190-53cc-446b-8914-f55414315df1\n",
      "Processing file: ee302663-f49e-4805-ac8e-e82668312b8e\n",
      "Processing file: efb7f1d9-f6c0-4f89-80cb-7c895ebcdd09\n",
      "Processing file: f09e4932-d63f-4ab3-8671-e1069112e4e2\n",
      "Processing file: f1133149-ea5e-4b01-89f2-47ae6d96fa00\n",
      "Processing file: f1423274-81e6-49c8-ba27-de1da9f286dc\n",
      "Processing file: f18a71b2-9108-4ead-9573-4957317b5e28\n",
      "Processing file: f1932f8a-baf2-4b3a-9c82-b18d3f071b2f\n",
      "Processing file: f38ebde8-3d68-48d8-8f5f-75e79412f3ec\n",
      "Processing file: f3d10dbe-7d5b-4145-a400-b3b14571c32c\n",
      "Processing file: f4decd8a-9d1d-4fc0-8c6c-d0fd7c01a83f\n",
      "Processing file: f573faef-ca58-4aad-bd90-8208bac2943f\n",
      "Processing file: f5bcf48a-b892-42e7-9fd1-2d14a757c87f\n",
      "Processing file: f5e17d90-5755-4d02-a219-aaa99f3afd27\n",
      "Processing file: f61acf1c-abcc-4566-b683-40b9c8795366\n",
      "Processing file: f7916727-1ce2-4092-9daa-9e4fd57e6f98\n",
      "Processing file: f8fbaaac-8d6f-4a55-a60c-9d576f6892aa\n",
      "Processing file: f9653905-b202-4e52-9c47-d2a338d5ed80\n",
      "Processing file: fbae8960-c578-414f-b718-59ca63d51921\n",
      "Processing file: fbcf70b4-911f-48aa-a742-1f1a774dbfbc\n",
      "Processing file: fc90d5f0-80ed-4b48-9ea2-deacacf06b6f\n",
      "Processing file: fcc0f5dc-00d2-483d-91f3-a5e02a3561b2\n",
      "Processing file: fe420667-4e8e-47d0-b53e-4d63879814fa\n",
      "Processing file: ffe45861-77c5-4d16-acaa-7017bf9035d4\n"
     ]
    }
   ],
   "source": [
    "merged_file = fetch_and_merge_files(\"/dfs-data\",config)"
   ]
  },
  {
   "cell_type": "code",
   "execution_count": 86,
   "metadata": {},
   "outputs": [],
   "source": [
    "df = merged_file.toPandas()\n",
    "final_df = df.drop_duplicates()"
   ]
  },
  {
   "cell_type": "markdown",
   "id": "d815cc3e",
   "metadata": {},
   "source": [
    "# Performing Analysis"
   ]
  },
  {
   "cell_type": "code",
   "execution_count": 87,
   "id": "97f020c9",
   "metadata": {},
   "outputs": [
    {
     "output_type": "execute_result",
     "data": {
      "text/plain": [
       "Index(['year', 'leading_cause', 'sex', 'race_ethnicity', 'deaths',\n",
       "       'death_rate', 'age_adjusted_death_rate'],\n",
       "      dtype='object')"
      ]
     },
     "metadata": {},
     "execution_count": 87
    }
   ],
   "source": [
    "final_df.columns"
   ]
  },
  {
   "cell_type": "code",
   "execution_count": 96,
   "id": "4557603e",
   "metadata": {},
   "outputs": [],
   "source": [
    "#replacing values \n",
    "final_df.replace([\".\",\"M\",\"F\",\"Accidents Except Drug Posioning (V01-X39, X43, X45-X59, Y85-Y86)\",\"Black Non-Hispanic\",\"White Non-Hispanic\"],\n",
    "                 [np.nan,\"Male\",\"Female\",\"Accidents Except Drug Poisoning (V01-X39, X43, X45-X59, Y85-Y86)\",\"Non-Hispanic Black\",\"Non-Hispanic White\"],\n",
    "                 inplace=True)"
   ]
  },
  {
   "cell_type": "code",
   "execution_count": 97,
   "id": "78de686b",
   "metadata": {},
   "outputs": [],
   "source": [
    "def convert_columns(data_df,columns,fill_anchor_column):\n",
    "    \"\"\"\n",
    "        converting death rates and age adjusted death rates to float types \n",
    "        and replacing the nan values with the mean of the group for that year\n",
    "        \n",
    "        Input\n",
    "        \n",
    "        data_df(pandas.DataFrame): dataframe to convert columns of\n",
    "        columns(dict): dict containing column names and the type the column to be converted to\n",
    "        fill_anchor_column(str): name of the anchor colume, by which the dataframe would be grouped \n",
    "                            and the filling value would be calculated\n",
    "        \n",
    "        Output\n",
    "        \n",
    "        copied_df(pandas.DataFrame): processed dataframe\n",
    "    \"\"\"\n",
    "    copied_df = data_df.copy(deep=True)\n",
    "    for column in columns:\n",
    "        copied_df[column] = copied_df[column].astype(columns[column])\n",
    "        copied_df[column] = copied_df.groupby(fill_anchor_column)[column].transform(lambda x:x.fillna(x.mean()))\n",
    "    return copied_df\n",
    "\n",
    "\n",
    "def calc_percentages(data_df,target_column):\n",
    "    \"\"\"\n",
    "        Function to calculate percentages of each column value and output pd.Series\n",
    "        \n",
    "        Input:\n",
    "        \n",
    "        data_df(pandas.DataFrame): dataframe to calculate percentages from\n",
    "        target_column(str): targt column to calculate percentages of\n",
    "        \n",
    "        Output:\n",
    "        koalas.Series: series containing the calculated percentages for target_column of data_df\n",
    "    \"\"\"\n",
    "    return data_df[target_column].apply(lambda x:int(x/data_df[target_column].values[0]*100))"
   ]
  },
  {
   "cell_type": "markdown",
   "id": "583eb11b",
   "metadata": {},
   "source": [
    "### Some topics for analysis\n",
    "\n",
    "#### - Analysis across genders\n",
    "    - What are the leading cause of deaths per year, with their average death count, across genders\n",
    "    - What are the average deaths per year, across genders\n",
    "#### - Analysis for race ethnicites\n",
    "    - What are the leading cause of deaths per year, across race ethnicites"
   ]
  },
  {
   "cell_type": "markdown",
   "id": "adddf53b",
   "metadata": {},
   "source": [
    "Some notes:\n",
    "- Death rates and age adjusted death rates are not available for minor and unknown ethnicites\n"
   ]
  },
  {
   "cell_type": "code",
   "execution_count": 98,
   "id": "4f788a89",
   "metadata": {},
   "outputs": [],
   "source": [
    "segregated_df = final_df[~final_df['race_ethnicity'].isin(['Not Stated/Unknown','Other Race/Ethnicity'])]\n",
    "segregated_df = convert_columns(segregated_df,{\"deaths\":float,\"death_rate\":float,\"age_adjusted_death_rate\":float},\"year\")"
   ]
  },
  {
   "cell_type": "code",
   "execution_count": 99,
   "id": "bf1cd049",
   "metadata": {},
   "outputs": [],
   "source": [
    "sex_analysis_pivot = pd.pivot_table(data=segregated_df,\n",
    "                       index='year',\n",
    "                       columns='sex',\n",
    "                       values='deaths',\n",
    "                       aggfunc=np.sum,\n",
    "                       fill_value=0).astype(int)"
   ]
  },
  {
   "cell_type": "code",
   "execution_count": 100,
   "id": "40bf6a6a",
   "metadata": {},
   "outputs": [
    {
     "output_type": "execute_result",
     "data": {
      "text/plain": [
       "sex   Female   Male  Female_pct_change  Male_pct_change\n",
       "year                                                   \n",
       "2010   17530   7865                100              100\n",
       "2011   29545  27026                168              343\n",
       "2012   30134  27394                171              348\n",
       "2013   28267  27212                161              345\n",
       "2014   27627  25710                157              326\n",
       "2015   27076  26067                154              331\n",
       "2016   26769  26468                152              336\n",
       "2017   26765  26553                152              337"
      ],
      "text/html": "<div>\n<style scoped>\n    .dataframe tbody tr th:only-of-type {\n        vertical-align: middle;\n    }\n\n    .dataframe tbody tr th {\n        vertical-align: top;\n    }\n\n    .dataframe thead th {\n        text-align: right;\n    }\n</style>\n<table border=\"1\" class=\"dataframe\">\n  <thead>\n    <tr style=\"text-align: right;\">\n      <th>sex</th>\n      <th>Female</th>\n      <th>Male</th>\n      <th>Female_pct_change</th>\n      <th>Male_pct_change</th>\n    </tr>\n    <tr>\n      <th>year</th>\n      <th></th>\n      <th></th>\n      <th></th>\n      <th></th>\n    </tr>\n  </thead>\n  <tbody>\n    <tr>\n      <th>2010</th>\n      <td>17530</td>\n      <td>7865</td>\n      <td>100</td>\n      <td>100</td>\n    </tr>\n    <tr>\n      <th>2011</th>\n      <td>29545</td>\n      <td>27026</td>\n      <td>168</td>\n      <td>343</td>\n    </tr>\n    <tr>\n      <th>2012</th>\n      <td>30134</td>\n      <td>27394</td>\n      <td>171</td>\n      <td>348</td>\n    </tr>\n    <tr>\n      <th>2013</th>\n      <td>28267</td>\n      <td>27212</td>\n      <td>161</td>\n      <td>345</td>\n    </tr>\n    <tr>\n      <th>2014</th>\n      <td>27627</td>\n      <td>25710</td>\n      <td>157</td>\n      <td>326</td>\n    </tr>\n    <tr>\n      <th>2015</th>\n      <td>27076</td>\n      <td>26067</td>\n      <td>154</td>\n      <td>331</td>\n    </tr>\n    <tr>\n      <th>2016</th>\n      <td>26769</td>\n      <td>26468</td>\n      <td>152</td>\n      <td>336</td>\n    </tr>\n    <tr>\n      <th>2017</th>\n      <td>26765</td>\n      <td>26553</td>\n      <td>152</td>\n      <td>337</td>\n    </tr>\n  </tbody>\n</table>\n</div>"
     },
     "metadata": {},
     "execution_count": 100
    }
   ],
   "source": [
    "sex_analysis_pivot['Female_pct_change'] = calc_percentages(sex_analysis_pivot,\"Female\")\n",
    "sex_analysis_pivot['Male_pct_change'] = calc_percentages(sex_analysis_pivot,\"Male\")\n",
    "sex_analysis_pivot"
   ]
  },
  {
   "cell_type": "markdown",
   "id": "2f496c6a",
   "metadata": {},
   "source": [
    "- The above table suggests that for females, the total death counts shows a incline of 52% from 17530 to 26765, while for males the average death counts have more than tripled (surge of 237%), from 7865 to 26553. \n",
    "- This shows that the matter of concern is much higher in males as compared to females"
   ]
  },
  {
   "cell_type": "markdown",
   "id": "a02d3596",
   "metadata": {},
   "source": [
    "### Lets dive deep to understand the reason for deaths amongst the genders"
   ]
  },
  {
   "cell_type": "code",
   "execution_count": 101,
   "id": "30002dcf",
   "metadata": {},
   "outputs": [
    {
     "output_type": "execute_result",
     "data": {
      "text/plain": [
       "    year     sex                                      leading_cause  deaths\n",
       "0   2010  Female  Mental and Behavioral Disorders due to Acciden...  5351.0\n",
       "2   2011  Female  Nephritis, Nephrotic Syndrome and Nephrisis (N...  5016.0\n",
       "4   2012  Female                               Septicemia (A40-A41)  4719.0\n",
       "6   2013  Female                          Viral Hepatitis (B15-B19)  4535.0\n",
       "8   2014  Female                               Septicemia (A40-A41)  4507.0\n",
       "10  2015  Female                               Septicemia (A40-A41)  4494.0\n",
       "12  2016  Female                               Septicemia (A40-A41)  4306.0\n",
       "14  2017  Female                               Septicemia (A40-A41)  4279.0"
      ],
      "text/html": "<div>\n<style scoped>\n    .dataframe tbody tr th:only-of-type {\n        vertical-align: middle;\n    }\n\n    .dataframe tbody tr th {\n        vertical-align: top;\n    }\n\n    .dataframe thead th {\n        text-align: right;\n    }\n</style>\n<table border=\"1\" class=\"dataframe\">\n  <thead>\n    <tr style=\"text-align: right;\">\n      <th></th>\n      <th>year</th>\n      <th>sex</th>\n      <th>leading_cause</th>\n      <th>deaths</th>\n    </tr>\n  </thead>\n  <tbody>\n    <tr>\n      <th>0</th>\n      <td>2010</td>\n      <td>Female</td>\n      <td>Mental and Behavioral Disorders due to Acciden...</td>\n      <td>5351.0</td>\n    </tr>\n    <tr>\n      <th>2</th>\n      <td>2011</td>\n      <td>Female</td>\n      <td>Nephritis, Nephrotic Syndrome and Nephrisis (N...</td>\n      <td>5016.0</td>\n    </tr>\n    <tr>\n      <th>4</th>\n      <td>2012</td>\n      <td>Female</td>\n      <td>Septicemia (A40-A41)</td>\n      <td>4719.0</td>\n    </tr>\n    <tr>\n      <th>6</th>\n      <td>2013</td>\n      <td>Female</td>\n      <td>Viral Hepatitis (B15-B19)</td>\n      <td>4535.0</td>\n    </tr>\n    <tr>\n      <th>8</th>\n      <td>2014</td>\n      <td>Female</td>\n      <td>Septicemia (A40-A41)</td>\n      <td>4507.0</td>\n    </tr>\n    <tr>\n      <th>10</th>\n      <td>2015</td>\n      <td>Female</td>\n      <td>Septicemia (A40-A41)</td>\n      <td>4494.0</td>\n    </tr>\n    <tr>\n      <th>12</th>\n      <td>2016</td>\n      <td>Female</td>\n      <td>Septicemia (A40-A41)</td>\n      <td>4306.0</td>\n    </tr>\n    <tr>\n      <th>14</th>\n      <td>2017</td>\n      <td>Female</td>\n      <td>Septicemia (A40-A41)</td>\n      <td>4279.0</td>\n    </tr>\n  </tbody>\n</table>\n</div>"
     },
     "metadata": {},
     "execution_count": 101
    }
   ],
   "source": [
    "leading_cause_df = segregated_df.groupby(by=[\"year\",\"sex\"])[['leading_cause','deaths']].max().reset_index()\n",
    "leading_cause_df[leading_cause_df['sex']=='Female']"
   ]
  },
  {
   "cell_type": "code",
   "execution_count": 102,
   "id": "9b47d1b5",
   "metadata": {},
   "outputs": [
    {
     "output_type": "execute_result",
     "data": {
      "text/plain": [
       "    year   sex                                      leading_cause  deaths\n",
       "1   2010  Male  Mental and Behavioral Disorders due to Acciden...  1354.0\n",
       "3   2011  Male  Mental and Behavioral Disorders due to Acciden...  4220.0\n",
       "5   2012  Male                               Septicemia (A40-A41)  4156.0\n",
       "7   2013  Male  Mental and Behavioral Disorders due to Acciden...  4085.0\n",
       "9   2014  Male  Nephritis, Nephrotic Syndrome and Nephrisis (N...  3990.0\n",
       "11  2015  Male                          Viral Hepatitis (B15-B19)  4015.0\n",
       "13  2016  Male                             Peptic Ulcer (K25-K28)  4054.0\n",
       "15  2017  Male                               Septicemia (A40-A41)  4082.0"
      ],
      "text/html": "<div>\n<style scoped>\n    .dataframe tbody tr th:only-of-type {\n        vertical-align: middle;\n    }\n\n    .dataframe tbody tr th {\n        vertical-align: top;\n    }\n\n    .dataframe thead th {\n        text-align: right;\n    }\n</style>\n<table border=\"1\" class=\"dataframe\">\n  <thead>\n    <tr style=\"text-align: right;\">\n      <th></th>\n      <th>year</th>\n      <th>sex</th>\n      <th>leading_cause</th>\n      <th>deaths</th>\n    </tr>\n  </thead>\n  <tbody>\n    <tr>\n      <th>1</th>\n      <td>2010</td>\n      <td>Male</td>\n      <td>Mental and Behavioral Disorders due to Acciden...</td>\n      <td>1354.0</td>\n    </tr>\n    <tr>\n      <th>3</th>\n      <td>2011</td>\n      <td>Male</td>\n      <td>Mental and Behavioral Disorders due to Acciden...</td>\n      <td>4220.0</td>\n    </tr>\n    <tr>\n      <th>5</th>\n      <td>2012</td>\n      <td>Male</td>\n      <td>Septicemia (A40-A41)</td>\n      <td>4156.0</td>\n    </tr>\n    <tr>\n      <th>7</th>\n      <td>2013</td>\n      <td>Male</td>\n      <td>Mental and Behavioral Disorders due to Acciden...</td>\n      <td>4085.0</td>\n    </tr>\n    <tr>\n      <th>9</th>\n      <td>2014</td>\n      <td>Male</td>\n      <td>Nephritis, Nephrotic Syndrome and Nephrisis (N...</td>\n      <td>3990.0</td>\n    </tr>\n    <tr>\n      <th>11</th>\n      <td>2015</td>\n      <td>Male</td>\n      <td>Viral Hepatitis (B15-B19)</td>\n      <td>4015.0</td>\n    </tr>\n    <tr>\n      <th>13</th>\n      <td>2016</td>\n      <td>Male</td>\n      <td>Peptic Ulcer (K25-K28)</td>\n      <td>4054.0</td>\n    </tr>\n    <tr>\n      <th>15</th>\n      <td>2017</td>\n      <td>Male</td>\n      <td>Septicemia (A40-A41)</td>\n      <td>4082.0</td>\n    </tr>\n  </tbody>\n</table>\n</div>"
     },
     "metadata": {},
     "execution_count": 102
    }
   ],
   "source": [
    "leading_cause_df[leading_cause_df['sex']=='Male']"
   ]
  },
  {
   "cell_type": "markdown",
   "id": "cc65a544",
   "metadata": {},
   "source": [
    "- The above analysis shows that for females, the leading cause of death in recent years has been Septicemia, a disease which can occur through urinary tract infections, pneumonia, kidney infections etc.\n",
    "- As compared, the causes are quite different for men, between Mental and Behavioral disorders due to poisoning and other psychoactive substance use, viral Hepatitis, Peptic Ulcer and Septicemia"
   ]
  },
  {
   "cell_type": "markdown",
   "id": "771815c2",
   "metadata": {},
   "source": [
    "### Analysis of the reasons leading to the disease\n",
    "- A quick look on the internet and we find out that Septicemia is caused by lung and kidney infection, body organs affected by smoking and alcohol consumption. Furthermore, psychoactive substances do include alcohol and nicotine(present in cigarettes).\n",
    "- In addition risk factors of peptic ulcers include smoking and alcohol consumption. All these suggest that <b>alcohol consumption and smoking have been the major reasons causing deaths in the last 7 years</b>\n",
    "- Also, looking at the surge of death counts, while the leading cause being the same, it is quite possible that alcohol consumption and smoking have increased in NYC in the span of 7 years"
   ]
  },
  {
   "cell_type": "markdown",
   "id": "46d17a33",
   "metadata": {},
   "source": [
    "### Let's analyze the death rates in context of race ethnicites"
   ]
  },
  {
   "cell_type": "code",
   "execution_count": 103,
   "id": "238abad9",
   "metadata": {},
   "outputs": [],
   "source": [
    "race_ethnicity_pivot = pd.pivot_table(data=segregated_df,\n",
    "                                   index='year',\n",
    "                                   columns='race_ethnicity',\n",
    "                                   values='deaths',\n",
    "                                   aggfunc=np.sum,\n",
    "                                   fill_value=0).astype(int)"
   ]
  },
  {
   "cell_type": "code",
   "execution_count": 104,
   "id": "7e89fe60",
   "metadata": {},
   "outputs": [
    {
     "output_type": "execute_result",
     "data": {
      "text/plain": [
       "race_ethnicity  Asian and Pacific Islander  Hispanic  Non-Hispanic Black  \\\n",
       "year                                                                       \n",
       "2010                                  1125      6387                4720   \n",
       "2011                                  3341      9391               13910   \n",
       "2012                                  3446      9420               13864   \n",
       "2013                                  3651      9672               13911   \n",
       "2014                                  3880      9687               13755   \n",
       "2015                                  4078     10182               14178   \n",
       "2016                                  4252     10465               14239   \n",
       "2017                                  4524     10637               14347   \n",
       "\n",
       "race_ethnicity  Non-Hispanic White  Other Race/ Ethnicity  \\\n",
       "year                                                        \n",
       "2010                         10347                   2816   \n",
       "2011                         25549                   4381   \n",
       "2012                         24904                   5895   \n",
       "2013                         24891                   3354   \n",
       "2014                         24533                   1482   \n",
       "2015                         24568                    137   \n",
       "2016                         24146                    135   \n",
       "2017                         23679                    131   \n",
       "\n",
       "race_ethnicity  Asian_Pacific_pct_change  Hispanic_pct_change  \\\n",
       "year                                                            \n",
       "2010                                 100                  100   \n",
       "2011                                 296                  147   \n",
       "2012                                 306                  147   \n",
       "2013                                 324                  151   \n",
       "2014                                 344                  151   \n",
       "2015                                 362                  159   \n",
       "2016                                 377                  163   \n",
       "2017                                 402                  166   \n",
       "\n",
       "race_ethnicity  Non-Hispanic_Black_pct_change  Non-Hispanic_White_pct_change  \\\n",
       "year                                                                           \n",
       "2010                                      100                            100   \n",
       "2011                                      294                            246   \n",
       "2012                                      293                            240   \n",
       "2013                                      294                            240   \n",
       "2014                                      291                            237   \n",
       "2015                                      300                            237   \n",
       "2016                                      301                            233   \n",
       "2017                                      303                            228   \n",
       "\n",
       "race_ethnicity  Other_Race_pct_change  \n",
       "year                                   \n",
       "2010                              100  \n",
       "2011                              155  \n",
       "2012                              209  \n",
       "2013                              119  \n",
       "2014                               52  \n",
       "2015                                4  \n",
       "2016                                4  \n",
       "2017                                4  "
      ],
      "text/html": "<div>\n<style scoped>\n    .dataframe tbody tr th:only-of-type {\n        vertical-align: middle;\n    }\n\n    .dataframe tbody tr th {\n        vertical-align: top;\n    }\n\n    .dataframe thead th {\n        text-align: right;\n    }\n</style>\n<table border=\"1\" class=\"dataframe\">\n  <thead>\n    <tr style=\"text-align: right;\">\n      <th>race_ethnicity</th>\n      <th>Asian and Pacific Islander</th>\n      <th>Hispanic</th>\n      <th>Non-Hispanic Black</th>\n      <th>Non-Hispanic White</th>\n      <th>Other Race/ Ethnicity</th>\n      <th>Asian_Pacific_pct_change</th>\n      <th>Hispanic_pct_change</th>\n      <th>Non-Hispanic_Black_pct_change</th>\n      <th>Non-Hispanic_White_pct_change</th>\n      <th>Other_Race_pct_change</th>\n    </tr>\n    <tr>\n      <th>year</th>\n      <th></th>\n      <th></th>\n      <th></th>\n      <th></th>\n      <th></th>\n      <th></th>\n      <th></th>\n      <th></th>\n      <th></th>\n      <th></th>\n    </tr>\n  </thead>\n  <tbody>\n    <tr>\n      <th>2010</th>\n      <td>1125</td>\n      <td>6387</td>\n      <td>4720</td>\n      <td>10347</td>\n      <td>2816</td>\n      <td>100</td>\n      <td>100</td>\n      <td>100</td>\n      <td>100</td>\n      <td>100</td>\n    </tr>\n    <tr>\n      <th>2011</th>\n      <td>3341</td>\n      <td>9391</td>\n      <td>13910</td>\n      <td>25549</td>\n      <td>4381</td>\n      <td>296</td>\n      <td>147</td>\n      <td>294</td>\n      <td>246</td>\n      <td>155</td>\n    </tr>\n    <tr>\n      <th>2012</th>\n      <td>3446</td>\n      <td>9420</td>\n      <td>13864</td>\n      <td>24904</td>\n      <td>5895</td>\n      <td>306</td>\n      <td>147</td>\n      <td>293</td>\n      <td>240</td>\n      <td>209</td>\n    </tr>\n    <tr>\n      <th>2013</th>\n      <td>3651</td>\n      <td>9672</td>\n      <td>13911</td>\n      <td>24891</td>\n      <td>3354</td>\n      <td>324</td>\n      <td>151</td>\n      <td>294</td>\n      <td>240</td>\n      <td>119</td>\n    </tr>\n    <tr>\n      <th>2014</th>\n      <td>3880</td>\n      <td>9687</td>\n      <td>13755</td>\n      <td>24533</td>\n      <td>1482</td>\n      <td>344</td>\n      <td>151</td>\n      <td>291</td>\n      <td>237</td>\n      <td>52</td>\n    </tr>\n    <tr>\n      <th>2015</th>\n      <td>4078</td>\n      <td>10182</td>\n      <td>14178</td>\n      <td>24568</td>\n      <td>137</td>\n      <td>362</td>\n      <td>159</td>\n      <td>300</td>\n      <td>237</td>\n      <td>4</td>\n    </tr>\n    <tr>\n      <th>2016</th>\n      <td>4252</td>\n      <td>10465</td>\n      <td>14239</td>\n      <td>24146</td>\n      <td>135</td>\n      <td>377</td>\n      <td>163</td>\n      <td>301</td>\n      <td>233</td>\n      <td>4</td>\n    </tr>\n    <tr>\n      <th>2017</th>\n      <td>4524</td>\n      <td>10637</td>\n      <td>14347</td>\n      <td>23679</td>\n      <td>131</td>\n      <td>402</td>\n      <td>166</td>\n      <td>303</td>\n      <td>228</td>\n      <td>4</td>\n    </tr>\n  </tbody>\n</table>\n</div>"
     },
     "metadata": {},
     "execution_count": 104
    }
   ],
   "source": [
    "race_ethnicity_pivot['Asian_Pacific_pct_change'] = calc_percentages(race_ethnicity_pivot,\"Asian and Pacific Islander\")\n",
    "race_ethnicity_pivot['Hispanic_pct_change'] = calc_percentages(race_ethnicity_pivot,\"Hispanic\")\n",
    "race_ethnicity_pivot['Non-Hispanic_Black_pct_change'] = calc_percentages(race_ethnicity_pivot,\"Non-Hispanic Black\")\n",
    "race_ethnicity_pivot['Non-Hispanic_White_pct_change'] = calc_percentages(race_ethnicity_pivot,\"Non-Hispanic White\")\n",
    "race_ethnicity_pivot['Other_Race_pct_change'] = calc_percentages(race_ethnicity_pivot,\"Other Race/ Ethnicity\")\n",
    "race_ethnicity_pivot"
   ]
  },
  {
   "cell_type": "markdown",
   "id": "aa321796",
   "metadata": {},
   "source": [
    "- The above analysis shows that Asians and non-Hispanic black people are the two ethnicities where the surge in death counts is highest. The death counts in asians have more than quadrupled, from 1125 to 4524. Whereas, for non-hispanic black people, the death counts have more than tripled.\n",
    "\n",
    "- Non-hispanic white people have accounted for the most deaths amongst all race ethnicities.\n",
    "\n",
    "- The data for other races is inconsistent and any insights generated based on that data would be inconsistent."
   ]
  },
  {
   "cell_type": "markdown",
   "id": "e9dd9205",
   "metadata": {},
   "source": [
    "### Let's do analysis based on the death rate amongst ethnicities"
   ]
  },
  {
   "cell_type": "code",
   "execution_count": 105,
   "id": "1961f6ca",
   "metadata": {},
   "outputs": [
    {
     "output_type": "execute_result",
     "data": {
      "text/plain": [
       "                  race_ethnicity  \\\n",
       "year                               \n",
       "2010  Asian and Pacific Islander   \n",
       "2011  Asian and Pacific Islander   \n",
       "2012  Asian and Pacific Islander   \n",
       "2013  Asian and Pacific Islander   \n",
       "2014  Asian and Pacific Islander   \n",
       "2015  Asian and Pacific Islander   \n",
       "2016  Asian and Pacific Islander   \n",
       "2017  Asian and Pacific Islander   \n",
       "\n",
       "                                          leading_cause  death_rate  \n",
       "year                                                                 \n",
       "2010              Malignant Neoplasms (Cancer: C00-C97)   73.600000  \n",
       "2011              Malignant Neoplasms (Cancer: C00-C97)   91.600000  \n",
       "2012  Nephritis, Nephrotic Syndrome and Nephrisis (N...   97.000000  \n",
       "2013                          Viral Hepatitis (B15-B19)   96.000000  \n",
       "2014  Nephritis, Nephrotic Syndrome and Nephrisis (N...   97.350000  \n",
       "2015                          Parkinson's Disease (G20)   96.383551  \n",
       "2016              Malignant Neoplasms (Cancer: C00-C97)  100.725757  \n",
       "2017              Malignant Neoplasms (Cancer: C00-C97)  108.319698  "
      ],
      "text/html": "<div>\n<style scoped>\n    .dataframe tbody tr th:only-of-type {\n        vertical-align: middle;\n    }\n\n    .dataframe tbody tr th {\n        vertical-align: top;\n    }\n\n    .dataframe thead th {\n        text-align: right;\n    }\n</style>\n<table border=\"1\" class=\"dataframe\">\n  <thead>\n    <tr style=\"text-align: right;\">\n      <th></th>\n      <th>race_ethnicity</th>\n      <th>leading_cause</th>\n      <th>death_rate</th>\n    </tr>\n    <tr>\n      <th>year</th>\n      <th></th>\n      <th></th>\n      <th></th>\n    </tr>\n  </thead>\n  <tbody>\n    <tr>\n      <th>2010</th>\n      <td>Asian and Pacific Islander</td>\n      <td>Malignant Neoplasms (Cancer: C00-C97)</td>\n      <td>73.600000</td>\n    </tr>\n    <tr>\n      <th>2011</th>\n      <td>Asian and Pacific Islander</td>\n      <td>Malignant Neoplasms (Cancer: C00-C97)</td>\n      <td>91.600000</td>\n    </tr>\n    <tr>\n      <th>2012</th>\n      <td>Asian and Pacific Islander</td>\n      <td>Nephritis, Nephrotic Syndrome and Nephrisis (N...</td>\n      <td>97.000000</td>\n    </tr>\n    <tr>\n      <th>2013</th>\n      <td>Asian and Pacific Islander</td>\n      <td>Viral Hepatitis (B15-B19)</td>\n      <td>96.000000</td>\n    </tr>\n    <tr>\n      <th>2014</th>\n      <td>Asian and Pacific Islander</td>\n      <td>Nephritis, Nephrotic Syndrome and Nephrisis (N...</td>\n      <td>97.350000</td>\n    </tr>\n    <tr>\n      <th>2015</th>\n      <td>Asian and Pacific Islander</td>\n      <td>Parkinson's Disease (G20)</td>\n      <td>96.383551</td>\n    </tr>\n    <tr>\n      <th>2016</th>\n      <td>Asian and Pacific Islander</td>\n      <td>Malignant Neoplasms (Cancer: C00-C97)</td>\n      <td>100.725757</td>\n    </tr>\n    <tr>\n      <th>2017</th>\n      <td>Asian and Pacific Islander</td>\n      <td>Malignant Neoplasms (Cancer: C00-C97)</td>\n      <td>108.319698</td>\n    </tr>\n  </tbody>\n</table>\n</div>"
     },
     "metadata": {},
     "execution_count": 105
    }
   ],
   "source": [
    "ethnicity_death_rate_pivot = segregated_df.groupby(by=[\"race_ethnicity\",\"year\",\"leading_cause\"])[['death_rate']].mean().reset_index()\n",
    "ethnicity_death_rate_pivot[ethnicity_death_rate_pivot['race_ethnicity']==\"Asian and Pacific Islander\"].groupby(\"year\").max()"
   ]
  },
  {
   "cell_type": "code",
   "execution_count": 106,
   "id": "f4cc48cb",
   "metadata": {},
   "outputs": [
    {
     "output_type": "execute_result",
     "data": {
      "text/plain": [
       "          race_ethnicity                                      leading_cause  \\\n",
       "year                                                                          \n",
       "2010  Non-Hispanic Black  Human Immunodeficiency Virus Disease (HIV: B20...   \n",
       "2011  Non-Hispanic Black  Nephritis, Nephrotic Syndrome and Nephrisis (N...   \n",
       "2012  Non-Hispanic Black  Nephritis, Nephrotic Syndrome and Nephrisis (N...   \n",
       "2013  Non-Hispanic Black  Nephritis, Nephrotic Syndrome and Nephrisis (N...   \n",
       "2014  Non-Hispanic Black  Nephritis, Nephrotic Syndrome and Nephrisis (N...   \n",
       "2015  Non-Hispanic Black  Nephritis, Nephrotic Syndrome and Nephrisis (N...   \n",
       "2016  Non-Hispanic Black  Mental and Behavioral Disorders due to Acciden...   \n",
       "2017  Non-Hispanic Black  Mental and Behavioral Disorders due to Acciden...   \n",
       "\n",
       "      death_rate  \n",
       "year              \n",
       "2010  217.700000  \n",
       "2011  215.000000  \n",
       "2012  221.950000  \n",
       "2013  222.050000  \n",
       "2014  217.950000  \n",
       "2015  229.962208  \n",
       "2016  233.237448  \n",
       "2017  243.860108  "
      ],
      "text/html": "<div>\n<style scoped>\n    .dataframe tbody tr th:only-of-type {\n        vertical-align: middle;\n    }\n\n    .dataframe tbody tr th {\n        vertical-align: top;\n    }\n\n    .dataframe thead th {\n        text-align: right;\n    }\n</style>\n<table border=\"1\" class=\"dataframe\">\n  <thead>\n    <tr style=\"text-align: right;\">\n      <th></th>\n      <th>race_ethnicity</th>\n      <th>leading_cause</th>\n      <th>death_rate</th>\n    </tr>\n    <tr>\n      <th>year</th>\n      <th></th>\n      <th></th>\n      <th></th>\n    </tr>\n  </thead>\n  <tbody>\n    <tr>\n      <th>2010</th>\n      <td>Non-Hispanic Black</td>\n      <td>Human Immunodeficiency Virus Disease (HIV: B20...</td>\n      <td>217.700000</td>\n    </tr>\n    <tr>\n      <th>2011</th>\n      <td>Non-Hispanic Black</td>\n      <td>Nephritis, Nephrotic Syndrome and Nephrisis (N...</td>\n      <td>215.000000</td>\n    </tr>\n    <tr>\n      <th>2012</th>\n      <td>Non-Hispanic Black</td>\n      <td>Nephritis, Nephrotic Syndrome and Nephrisis (N...</td>\n      <td>221.950000</td>\n    </tr>\n    <tr>\n      <th>2013</th>\n      <td>Non-Hispanic Black</td>\n      <td>Nephritis, Nephrotic Syndrome and Nephrisis (N...</td>\n      <td>222.050000</td>\n    </tr>\n    <tr>\n      <th>2014</th>\n      <td>Non-Hispanic Black</td>\n      <td>Nephritis, Nephrotic Syndrome and Nephrisis (N...</td>\n      <td>217.950000</td>\n    </tr>\n    <tr>\n      <th>2015</th>\n      <td>Non-Hispanic Black</td>\n      <td>Nephritis, Nephrotic Syndrome and Nephrisis (N...</td>\n      <td>229.962208</td>\n    </tr>\n    <tr>\n      <th>2016</th>\n      <td>Non-Hispanic Black</td>\n      <td>Mental and Behavioral Disorders due to Acciden...</td>\n      <td>233.237448</td>\n    </tr>\n    <tr>\n      <th>2017</th>\n      <td>Non-Hispanic Black</td>\n      <td>Mental and Behavioral Disorders due to Acciden...</td>\n      <td>243.860108</td>\n    </tr>\n  </tbody>\n</table>\n</div>"
     },
     "metadata": {},
     "execution_count": 106
    }
   ],
   "source": [
    "ethnicity_death_rate_pivot[ethnicity_death_rate_pivot['race_ethnicity']==\"Non-Hispanic Black\"].groupby(\"year\").max()"
   ]
  },
  {
   "cell_type": "code",
   "execution_count": 107,
   "id": "669c507e",
   "metadata": {},
   "outputs": [
    {
     "output_type": "execute_result",
     "data": {
      "text/plain": [
       "          race_ethnicity                                      leading_cause  \\\n",
       "year                                                                          \n",
       "2010  Non-Hispanic White              Malignant Neoplasms (Cancer: C00-C97)   \n",
       "2011  Non-Hispanic White  Mental and Behavioral Disorders due to Acciden...   \n",
       "2012  Non-Hispanic White                               Septicemia (A40-A41)   \n",
       "2013  Non-Hispanic White                               Septicemia (A40-A41)   \n",
       "2014  Non-Hispanic White                               Septicemia (A40-A41)   \n",
       "2015  Non-Hispanic White                               Septicemia (A40-A41)   \n",
       "2016  Non-Hispanic White  Mental and Behavioral Disorders due to Acciden...   \n",
       "2017  Non-Hispanic White  Mental and Behavioral Disorders due to Acciden...   \n",
       "\n",
       "      death_rate  \n",
       "year              \n",
       "2010  374.200000  \n",
       "2011  335.250000  \n",
       "2012  321.500000  \n",
       "2013  311.250000  \n",
       "2014  307.550000  \n",
       "2015  308.206813  \n",
       "2016  305.379117  \n",
       "2017  303.908625  "
      ],
      "text/html": "<div>\n<style scoped>\n    .dataframe tbody tr th:only-of-type {\n        vertical-align: middle;\n    }\n\n    .dataframe tbody tr th {\n        vertical-align: top;\n    }\n\n    .dataframe thead th {\n        text-align: right;\n    }\n</style>\n<table border=\"1\" class=\"dataframe\">\n  <thead>\n    <tr style=\"text-align: right;\">\n      <th></th>\n      <th>race_ethnicity</th>\n      <th>leading_cause</th>\n      <th>death_rate</th>\n    </tr>\n    <tr>\n      <th>year</th>\n      <th></th>\n      <th></th>\n      <th></th>\n    </tr>\n  </thead>\n  <tbody>\n    <tr>\n      <th>2010</th>\n      <td>Non-Hispanic White</td>\n      <td>Malignant Neoplasms (Cancer: C00-C97)</td>\n      <td>374.200000</td>\n    </tr>\n    <tr>\n      <th>2011</th>\n      <td>Non-Hispanic White</td>\n      <td>Mental and Behavioral Disorders due to Acciden...</td>\n      <td>335.250000</td>\n    </tr>\n    <tr>\n      <th>2012</th>\n      <td>Non-Hispanic White</td>\n      <td>Septicemia (A40-A41)</td>\n      <td>321.500000</td>\n    </tr>\n    <tr>\n      <th>2013</th>\n      <td>Non-Hispanic White</td>\n      <td>Septicemia (A40-A41)</td>\n      <td>311.250000</td>\n    </tr>\n    <tr>\n      <th>2014</th>\n      <td>Non-Hispanic White</td>\n      <td>Septicemia (A40-A41)</td>\n      <td>307.550000</td>\n    </tr>\n    <tr>\n      <th>2015</th>\n      <td>Non-Hispanic White</td>\n      <td>Septicemia (A40-A41)</td>\n      <td>308.206813</td>\n    </tr>\n    <tr>\n      <th>2016</th>\n      <td>Non-Hispanic White</td>\n      <td>Mental and Behavioral Disorders due to Acciden...</td>\n      <td>305.379117</td>\n    </tr>\n    <tr>\n      <th>2017</th>\n      <td>Non-Hispanic White</td>\n      <td>Mental and Behavioral Disorders due to Acciden...</td>\n      <td>303.908625</td>\n    </tr>\n  </tbody>\n</table>\n</div>"
     },
     "metadata": {},
     "execution_count": 107
    }
   ],
   "source": [
    "ethnicity_death_rate_pivot[ethnicity_death_rate_pivot['race_ethnicity']==\"Non-Hispanic White\"].groupby(\"year\").max()"
   ]
  },
  {
   "cell_type": "markdown",
   "id": "e451483e",
   "metadata": {},
   "source": [
    "### Analysis of the death rates amongst ethnicities\n",
    "- The above pivots show that the major reasons for deaths amongst Asians is Cancer. However, the death rate has increased by 47% from 73.6 in 2010 to 108.31 in 2017.\n",
    "- For non-Hispanic Black people, Nephritis, Nephrotic Syndrome and Nephrisis have been the major reason for death rates for several years.\n",
    "- <b>The death rate data for non-Hispanic White people is very representative of the overall population amongst the genders</b>, where Septicemia and mental and behavioral disorders due to overdose are major reasons for deaths\n",
    "- The <b>death rate</b> for the most prevelant reason amongst <b>non-Hispanic White people</b> has actually <b>decreased</b> along the years. But the <b>actual death count has increased by 128%</b>. This suggests that there is not a single major reason driving the death counts amongst white people, but several causes that are critical"
   ]
  },
  {
   "cell_type": "markdown",
   "id": "cfe2e983",
   "metadata": {},
   "source": [
    "# Saving csv files to /csv-data in hdfs"
   ]
  },
  {
   "cell_type": "markdown",
   "id": "89d0a224",
   "metadata": {},
   "source": [
    "listing files to save\n",
    "- segregated_df\n",
    "- sex_analysis_pivot\n",
    "- leading_cause_df\n",
    "- race_ethnicity_pivot\n",
    "- ethnicity_death_rate_pivot"
   ]
  },
  {
   "cell_type": "code",
   "execution_count": 108,
   "id": "79d7b1ac",
   "metadata": {},
   "outputs": [],
   "source": [
    "def save_dataframe_to_hdfs(data_df,target_file_name,path,config):\n",
    "    \"\"\"\n",
    "        Function to store dataframe in hdfs\n",
    "        \n",
    "        Input:\n",
    "        \n",
    "        data_df(pandas.DataFrame): dataframe to write to hdfs\n",
    "        host: url where hdfs is hosted\n",
    "        port: port on which hdfs service is running\n",
    "        path: the directory path to store dataframe to\n",
    "    \"\"\"\n",
    "    sdf = spark.createDataFrame(data_df)\n",
    "    sdf.write.format(\"csv\").save(f\"{config.hdfs_datanode_host}/{path}/{target_file_name}\")"
   ]
  },
  {
   "cell_type": "code",
   "execution_count": 109,
   "id": "2828919c",
   "metadata": {
    "collapsed": true
   },
   "outputs": [],
   "source": [
    "save_dataframe_to_hdfs(segregated_df,'segregated_df.csv','csv-data',config)\n",
    "save_dataframe_to_hdfs(sex_analysis_pivot,'sex_analysis_pivot.csv','csv-data',config)\n",
    "save_dataframe_to_hdfs(leading_cause_df,'leading_cause_df.csv','csv-data',config)\n",
    "save_dataframe_to_hdfs(race_ethnicity_pivot,'race_ethnicity_pivot.csv','csv-data',config)\n",
    "save_dataframe_to_hdfs(ethnicity_death_rate_pivot,'ethnicity_death_rate_pivot.csv','csv-data',config)"
   ]
  },
  {
   "cell_type": "markdown",
   "id": "announced-press",
   "metadata": {},
   "source": [
    "## Inserting documents into Elasticsearch cluster"
   ]
  },
  {
   "cell_type": "code",
   "execution_count": 110,
   "id": "2e603c82",
   "metadata": {},
   "outputs": [],
   "source": [
    "def save_dataframe_to_elasticsearch(data_df,es_client,target_index_name):\n",
    "    \"\"\"\n",
    "        Function to save pandas dataframe to elasticsearch\n",
    "        \n",
    "        Input:\n",
    "        data_df(pandas.DataFrame): pandas DataFrame to store in elasticsearch\n",
    "        es_client: elasticsearch client to store data\n",
    "        target_index_name: name of index in elasticsearch cluster to put the data onto\n",
    "        keys_to_use: columns name in dataframe to fetch\n",
    "    \"\"\"\n",
    "\n",
    "    def doc_generator(data_df):\n",
    "        data_df_iter = data_df.iterrows()\n",
    "        for index, document in data_df_iter:\n",
    "            yield{\n",
    "                \"_index\":target_index_name,\n",
    "                \"_id\": str(index),\n",
    "                \"_source\": {key: document[key] for key in document.keys()}\n",
    "            }\n",
    "\n",
    "    helpers.bulk(es_client,doc_generator(data_df))"
   ]
  },
  {
   "cell_type": "code",
   "execution_count": 111,
   "id": "64f712af",
   "metadata": {},
   "outputs": [],
   "source": [
    "save_dataframe_to_elasticsearch(segregated_df,es,\"segregated_data\")\n",
    "save_dataframe_to_elasticsearch(sex_analysis_pivot.reset_index(),es,\"gender_based_analysis_data\")\n",
    "save_dataframe_to_elasticsearch(leading_cause_df,es,\"leading_cause_data\")\n",
    "save_dataframe_to_elasticsearch(race_ethnicity_pivot.reset_index(),es,\"race_ethnicity_data\")\n",
    "save_dataframe_to_elasticsearch(ethnicity_death_rate_pivot,es,\"ethnicity_death_rate_data\")"
   ]
  },
  {
   "cell_type": "code",
   "execution_count": null,
   "id": "008e6a77",
   "metadata": {},
   "outputs": [],
   "source": []
  }
 ],
 "metadata": {
  "kernelspec": {
   "name": "python3",
   "display_name": "Python 3",
   "language": "python"
  }
 },
 "nbformat": 4,
 "nbformat_minor": 5
}